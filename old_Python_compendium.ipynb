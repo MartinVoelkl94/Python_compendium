{
  "cells": [
    {
      "cell_type": "markdown",
      "metadata": {
        "id": "view-in-github",
        "colab_type": "text"
      },
      "source": [
        "<a href=\"https://colab.research.google.com/github/MartinVoelkl94/Python_compendium/blob/main/old_Python_compendium.ipynb\" target=\"_parent\"><img src=\"https://colab.research.google.com/assets/colab-badge.svg\" alt=\"Open In Colab\"/></a>"
      ]
    },
    {
      "cell_type": "markdown",
      "source": [
        "# Packages"
      ],
      "metadata": {
        "id": "J0qcI_S6wd7A"
      }
    },
    {
      "cell_type": "code",
      "execution_count": null,
      "metadata": {
        "id": "GrsZit32tGYK",
        "colab": {
          "base_uri": "https://localhost:8080/"
        },
        "outputId": "d359e802-7b0d-4dc9-ac74-b57b6078487c"
      },
      "outputs": [
        {
          "output_type": "stream",
          "name": "stdout",
          "text": [
            "Mounted at /content/drive\n",
            "Drive already mounted at /content/drive; to attempt to forcibly remount, call drive.mount(\"/content/drive\", force_remount=True).\n"
          ]
        }
      ],
      "source": [
        "#standard packages\n",
        "import matplotlib.pyplot as plt\n",
        "import numpy as np\n",
        "import pandas as pd\n",
        "import time\n",
        "import math\n",
        "from math import sqrt\n",
        "import random\n",
        "\n",
        "import os\n",
        "import sys\n",
        "import shutil\n",
        "import pickle\n",
        "\n",
        "# mounting drive folder and getting acces to utility functions\n",
        "from google.colab import drive\n",
        "drive.mount('/content/drive')\n",
        "\n",
        "sys.path.append('/content/drive/MyDrive/coding/Python/Compendium')\n",
        "os.chdir('/content/drive/MyDrive/coding/Python/Compendium')\n",
        "import mv_functions as mv"
      ]
    },
    {
      "cell_type": "code",
      "source": [],
      "metadata": {
        "id": "RATP49h-hWCd"
      },
      "execution_count": null,
      "outputs": []
    },
    {
      "cell_type": "code",
      "source": [
        "stacks = [10, 50, 100, 200]\n",
        "print([x*48 for x in stacks])"
      ],
      "metadata": {
        "colab": {
          "base_uri": "https://localhost:8080/"
        },
        "id": "JB7cOVJEwW0Z",
        "outputId": "71c5c23c-b102-4858-f038-4a92a0e192b9"
      },
      "execution_count": null,
      "outputs": [
        {
          "output_type": "stream",
          "name": "stdout",
          "text": [
            "[480, 2400, 4800, 9600]\n"
          ]
        }
      ]
    },
    {
      "cell_type": "code",
      "source": [
        "lvls = [x for x in range(1,22)]\n",
        "print(lvls)\n",
        "for x in range(1,7):\n",
        "    print(lvls[3*x], end=' ')\n",
        "\n",
        "print('  ')\n",
        "\n",
        "\n",
        "factors = [1,2,3,4]\n",
        "\n",
        "for factor in factors:\n",
        "    lvls2 = [x*factor for x in lvls]\n",
        "    print([x**2 for x in lvls2])"
      ],
      "metadata": {
        "colab": {
          "base_uri": "https://localhost:8080/"
        },
        "id": "4JJ5JEp6gUQe",
        "outputId": "0788d022-a33a-44be-fd2b-2ba78d51675e"
      },
      "execution_count": null,
      "outputs": [
        {
          "output_type": "stream",
          "name": "stdout",
          "text": [
            "[1, 2, 3, 4, 5, 6, 7, 8, 9, 10, 11, 12, 13, 14, 15, 16, 17, 18, 19, 20, 21]\n",
            "4 7 10 13 16 19   \n",
            "[1, 4, 9, 16, 25, 36, 49, 64, 81, 100, 121, 144, 169, 196, 225, 256, 289, 324, 361, 400, 441]\n",
            "[4, 16, 36, 64, 100, 144, 196, 256, 324, 400, 484, 576, 676, 784, 900, 1024, 1156, 1296, 1444, 1600, 1764]\n",
            "[9, 36, 81, 144, 225, 324, 441, 576, 729, 900, 1089, 1296, 1521, 1764, 2025, 2304, 2601, 2916, 3249, 3600, 3969]\n",
            "[16, 64, 144, 256, 400, 576, 784, 1024, 1296, 1600, 1936, 2304, 2704, 3136, 3600, 4096, 4624, 5184, 5776, 6400, 7056]\n"
          ]
        }
      ]
    },
    {
      "cell_type": "code",
      "source": [
        "lvls2 = [x*4 for x in lvls]\n",
        "[x**2 for x in lvls2][::-1]"
      ],
      "metadata": {
        "id": "j6aI4rHGhMT6",
        "colab": {
          "base_uri": "https://localhost:8080/"
        },
        "outputId": "b2ce9e82-36fd-4526-b3cd-defa978cdbb9"
      },
      "execution_count": null,
      "outputs": [
        {
          "output_type": "execute_result",
          "data": {
            "text/plain": [
              "[7056,\n",
              " 6400,\n",
              " 5776,\n",
              " 5184,\n",
              " 4624,\n",
              " 4096,\n",
              " 3600,\n",
              " 3136,\n",
              " 2704,\n",
              " 2304,\n",
              " 1936,\n",
              " 1600,\n",
              " 1296,\n",
              " 1024,\n",
              " 784,\n",
              " 576,\n",
              " 400,\n",
              " 256,\n",
              " 144,\n",
              " 64,\n",
              " 16]"
            ]
          },
          "metadata": {},
          "execution_count": 29
        }
      ]
    },
    {
      "cell_type": "code",
      "source": [],
      "metadata": {
        "id": "F0MC1YaPhMWo"
      },
      "execution_count": null,
      "outputs": []
    },
    {
      "cell_type": "markdown",
      "source": [
        "# Todo\n",
        "\n",
        "plotting section: clean up, add geometric plotting (https://stackoverflow.com/questions/39408794/python-3d-pyramid)\n",
        "\n",
        "add styleguide (https://treyhunner.com/2017/07/craft-your-python-like-poetry/, https://colab.research.google.com/github/bebi103a/bebi103a.github.io/blob/master/lessons/04/style.ipynb#scrollTo=pi5YnYTHBx4G)\n",
        "\n",
        "\n",
        "git:\n",
        "complete magics section\n",
        "add sql\n",
        "function usage examples\n"
      ],
      "metadata": {
        "id": "2j8kA1JZQ_gJ"
      }
    },
    {
      "cell_type": "markdown",
      "metadata": {
        "id": "RiCugjJGtGYL"
      },
      "source": [
        "# Data types"
      ]
    },
    {
      "cell_type": "code",
      "execution_count": null,
      "metadata": {
        "id": "M6tXpNovtGYM",
        "outputId": "56f1e334-c1cc-43b6-c70d-06df24d55462",
        "colab": {
          "base_uri": "https://localhost:8080/"
        }
      },
      "outputs": [
        {
          "output_type": "execute_result",
          "data": {
            "text/plain": [
              "False"
            ]
          },
          "metadata": {},
          "execution_count": 2
        }
      ],
      "source": [
        "import numpy as np\n",
        "\n",
        "string = 'abc'\n",
        "integer = 1\n",
        "boolean = True\n",
        "\n",
        "dictionary = {'name': 'martin', 'age': 28} #similar to lists but each value has a name called a key\n",
        "a_list = [1,2,3,'a',False]\n",
        "a_set = {1,2,3}\n",
        "a_tupel = (1,2,3)\n",
        "\n",
        "numpy_array = np.array([1,2,3])  #similar to lists but with additional functionality and more possible dimensions\n",
        "numpy_matrix = np.matrix(np.array([1,2,3]))\n",
        "\n",
        "del string  #deletes variable\n",
        "type(integer)  #prints the type of a variable\n",
        "isinstance(boolean, str)  #returns True if the variable is a string"
      ]
    },
    {
      "cell_type": "markdown",
      "metadata": {
        "id": "oIoaxsrRtGYN"
      },
      "source": [
        "## Strings\n",
        "\n",
        "functions for strings: https://www.w3schools.com/python/python_strings_methods.asp"
      ]
    },
    {
      "cell_type": "code",
      "source": [
        "#create\n",
        "string = '  abcxyz'\n",
        "string1 = f'a is {5}' #f-strings can incorporate variables. only works in python3\n",
        "a,b = 5,10\n",
        "string2 = f'Five plus ten is {a+b} and not {2*(a+b)}.'  #also works with formulas\n",
        "\n",
        "\n",
        "#access characters\n",
        "string[3]  #select character in the string\n",
        "string[0:5]  #select range of characters\n",
        "string[::-1]  #reverse string\n",
        "string.split('b') #splits string into multiple parts at a chosen separator. saves them as list\n",
        "string.split('b')[1].split('y')[0]  #everything between b and y. watch out for multiple b's\n",
        "a_list = [*string]  #unpack elements and create list\n",
        "\n",
        "\n",
        "#strings work with logic and loops\n",
        "if('a' in string):\n",
        "  print('there is an a in the string')\n",
        "for char in string:\n",
        "  print(char)\n",
        "\n",
        "\n",
        "#methods\n",
        "''.join(['a','b','c']) #combines a list of strings\n",
        "'_'.join(['a','b','c']) #different characters can be used for joining\n",
        "string.index('xy')  #index at which a substring starts\n",
        "string.strip()  #remove whitespace from front and back\n",
        "string.replace('a','A') #exchange one character for another\n",
        "string.replace('xyz', '') #can be used for targeted deletion\n",
        "string.count(' ')  #counts how often a specified character occurs\n",
        "string.upper() #converts characters to uppercase\n",
        "string.lower() #converts characters to lowercase\n",
        "string.isupper() #checks if the characters are uppercase\n",
        "string.islower() #checks if the characters are lowercase\n",
        "string.split('b') #splits string into multiple parts at a chosen separator. saves them as list\n",
        "filename = 'folder1/folder2/file.py'.split('/')[-1] #can be used to get the filename from a path"
      ],
      "metadata": {
        "id": "6kFZbUxvam0Z"
      },
      "execution_count": null,
      "outputs": []
    },
    {
      "cell_type": "markdown",
      "metadata": {
        "id": "7J17jnXstGYN"
      },
      "source": [
        "## Numbers"
      ]
    },
    {
      "cell_type": "code",
      "execution_count": null,
      "metadata": {
        "id": "W3x_E5YStGYO"
      },
      "outputs": [],
      "source": [
        "from fractions import Fraction\n",
        "\n",
        "integer = 12345\n",
        "float1 = 1.2345\n",
        "round(float1,2)  #rounding to 2 digits\n",
        "\n",
        "str(integer) #convert to string\n",
        "len(str(integer))  # get number of digits\n",
        "str(integer)[3]  #'indexing' integers\n",
        "\n",
        "Fraction(0.3)  #fraction as (a,b)\n",
        "str(Fraction(0.3))  #fraction as a/b"
      ]
    },
    {
      "cell_type": "markdown",
      "metadata": {
        "id": "vAQsYZ2JtGYO"
      },
      "source": [
        "## Lists"
      ]
    },
    {
      "cell_type": "code",
      "execution_count": null,
      "metadata": {
        "collapsed": true,
        "id": "M67aEVdOtGYO",
        "jupyter": {
          "outputs_hidden": true
        },
        "outputId": "a28f4ff4-0c77-4588-a969-ddb236f6ee12",
        "tags": [],
        "colab": {
          "base_uri": "https://localhost:8080/"
        }
      },
      "outputs": [
        {
          "output_type": "stream",
          "name": "stdout",
          "text": [
            "orange\n",
            "orange\n",
            "[1 2 3]\n",
            "['a' 'b' 'c']\n"
          ]
        }
      ],
      "source": [
        "import numpy as np\n",
        "\n",
        "#create\n",
        "list1 = [0,1,2,'abc','xyz']\n",
        "list2 = list(range(11,20,2))  #from 11 to 20 in steps of 2\n",
        "list3 = list1 + list2  #merging\n",
        "list1a = list1  #references list1. changes in list1 also affect list1a\n",
        "list1b = list1.copy  #this does copy list1. they dont affect each other\n",
        "\n",
        "\n",
        "#list comprehension\n",
        "#like constructing a list using a loop.\n",
        "list3 = [x for x in range(10)]\n",
        "list4 = [i**3 for i in range(3)]\n",
        "list5 = ['abc' for x in list1]\n",
        "list6 = [x for x in list1 if x is str and 'a' in x]  #can use conditions\n",
        "shared = [x for x in list1 if x in list2]\n",
        "compare_neighbours = [list1[i] != list1[i+1] for i in range(len(list1)-1)]  #can use logic to modify output\n",
        "divisible_by_3 = ['div 3' if i%3==0 else i for i in range(1,100)]\n",
        "div_3_5 = ['div 3&5' if i%3==0 and i%5==0 else 'div 3' if i%3==0 else 'div 5' if i%5==0 else i for i in range(1,100)]  #powerfull but hard to read\n",
        "\n",
        "\n",
        "#access entries\n",
        "a, *b, c = list1  #a=first element, c=last element, b=all elements inbetween\n",
        "list1_np = np.array(list1)\n",
        "list1_np[[0,3]]\n",
        "\n",
        "\n",
        "#functions\n",
        "len(list1)  #number of elements in list\n",
        "max(list2)  #highest value in list\n",
        "set(list1)  #all unique elements (ordered)\n",
        "list1[::-1]  #reverse list\n",
        "list1.extend(list2)  #append all elements from one list to another\n",
        "list1.pop(2)  #removes element with index 2\n",
        "list1.remove('abc')  #removes element with name abc\n",
        "list1.clear()  #remove all elements from list1\n",
        "list2.sort()  #sort list fromm low to high, arg: reverse=True\n",
        "list1.insert(1, 'orange')  #first arg is the position, second arg is the value to insert\n",
        "list1.index('orange')  #returns index of entry with name orange\n",
        "list2.index(min(list2))  #returns index of smallest entry in list\n",
        "list1.index(min(list1, key=len))   #returns index of shortest (number of characters) entry in list\n",
        "print(*list1, sep='')  #prints without brackets, commas, and whitespace\n",
        "print(''.join(list1))  #does the same\n",
        "\n",
        "\n",
        "#sorting with index lists:\n",
        "x = np.array([3,1,2])\n",
        "y = np.array(['c','a','b'])\n",
        "indices = x.argsort()  #indices looks like: [1,2,0]\n",
        "#allows sorting 2 lists in the same way:\n",
        "print(x[indices])\n",
        "print(y[indices])"
      ]
    },
    {
      "cell_type": "markdown",
      "metadata": {
        "id": "1sEOmkmetGYP"
      },
      "source": [
        "## Dictionaries"
      ]
    },
    {
      "cell_type": "code",
      "execution_count": null,
      "metadata": {
        "id": "Ae_l2Ec3tGYP",
        "tags": []
      },
      "outputs": [],
      "source": [
        "#create\n",
        "dict1 = {'name': 'Martin', 'age': 28, 'height': 176}  #values of a dictionary are asociated with keys\n",
        "dict1['new'] = 1.13  #adding new values\n",
        "dict1['grades'] = [1,3,1,2,1]  #values can also be other python objects like lists\n",
        "dict1[0] = True  #keys dont have to be strings\n",
        "dict1a = dict1  #references list1. changes in list1 also affect list1a\n",
        "dict1b = dict1.copy  #this does copy list1. they dont affect each other\n",
        "dict2 = {'a': True, 'b': False}\n",
        "dict3 = {**dict1, **dict2}  #unpack and combine dicts\n",
        "\n",
        "\n",
        "#access entries\n",
        "dict1['age']\n",
        "dict1['grades'][1]  #to access the list inside the dictionary\n",
        "\n",
        "\n",
        "#functions\n",
        "dict1.keys()  #only the keys of a dict\n",
        "dict1.values()  #only the values of a dict\n",
        "dict1.items()  #key:values pairs of the dict\n",
        "list(dict1.keys())[0]  #convert to list for iteration\n",
        "dict3.clear()  #delet all key:value pairs\n",
        "dict1.get('age')  #unlike dict1['age'] this doesnt give an error if 'age' is not in dict1\n",
        "dict1.pop('age')  #deletes 'age' and returns its value\n",
        "dict1['Name'] = dict1.pop('name')  #can be used to change keys\n",
        "dict1.update(dict2)  #adds dict2 to dict1\n",
        "\n",
        "\n",
        "#loops and logic\n",
        "if 'age' in dict1:   #returns true or false\n",
        "  print('the dictionary has a key called age')\n",
        "for key in dict1:  #version 1 of using keys and vals in a loop\n",
        "  print(f'current key: {key}')\n",
        "  print(f'current value: {dict1[key]}')\n",
        "for key,value in dict1.items():  #version 2 of using keys and vals in a loop\n",
        "  print(f'current key: {key}')\n",
        "  print(f'current value: {value}')\n",
        "\n",
        "\n",
        "#subsets\n",
        "subset = {key:value for key,value in dict1.items() if key in ['name', 'age']}  #makes new dict consisting of key:value pairs with specified key\n",
        "subset = {key:value for key,value in dict1.items() if isinstance(value, str)}  #makes new dict consisting of key:value pairs where the value is a string\n",
        "subset = {key:value for key,value in dict1.items() if isinstance(key, str) and 'a' in key}  #makes new dict consisting of key:value pairs where the key is a string which includes an a"
      ]
    },
    {
      "cell_type": "markdown",
      "metadata": {
        "id": "CKn9CbLUtGYP"
      },
      "source": [
        "## Arrays (numpy)"
      ]
    },
    {
      "cell_type": "code",
      "execution_count": null,
      "metadata": {
        "id": "T7RQmY0MtGYQ",
        "outputId": "4cc30003-3a7b-4d6b-ed3e-938ad5b582fc"
      },
      "outputs": [
        {
          "name": "stdout",
          "output_type": "stream",
          "text": [
            "[[ 0  0  0  0  0]\n",
            " [ 0  1  2  3  4]\n",
            " [ 0  2  4  6  8]\n",
            " [ 0  3  6  9 12]]\n",
            "[[0 0 0 0 0]\n",
            " [0 2 4 6 8]]\n",
            "[[0 0 0]\n",
            " [0 4 8]]\n"
          ]
        }
      ],
      "source": [
        "#standard python \"arrays\" are technically lists. numpy makes \"real\" arrays\n",
        "import numpy as np\n",
        "\n",
        "#create\n",
        "array = [(1, 2.0, 'Hello'), (2, 3.0, 'World')]  #make 'array' from 2 tuples\n",
        "array1 = [[0.0 for x in range(3)] for y in range(4)]  #make \"array\" with list comprehension\n",
        "array2 = np.array([[x*y for x in range(5)] for y in range(6)])  #make a \"real\" numpy array\n",
        "exclude = [3,7]\n",
        "array3 = [x for x in range(10) if x not in exclude]  #make array with numbers from 0 to 10 but excluding 3 and 7\n",
        "array2_del = array2[:,[x for x in range(len(array2[0,:])) if x not in [2,3]]]  #\"delete\" columns 2 and 3\n",
        "from_dict = np.array(list(dictionary.values())).T\n",
        "\n",
        "\n",
        "#information\n",
        "rows = len(array1)\n",
        "columns = len(array1[0])\n",
        "array2.shape  #works only on numpy arrays\n",
        "\n",
        "\n",
        "#working with arrays\n",
        "reverse = array[::-1]\n",
        "row0 = array2[0,:]\n",
        "collumn0 = array2[:,0]\n",
        "print(array2[0:4,:])  #print rows 0 to 4 and columns start to finish\n",
        "print(array2[0:4:2,:])  #same as before but the \"2\" defines a stepsize eg it print only every 2nd element\n",
        "print(array2[0:4:2,::2])\n",
        "array_col = array2.copy()\n",
        "array_col.shape = (-1, 1) # Change from row vector to column vector\n",
        "arrayT = array2.T  #transpose the array\n",
        "array2.all == array2.all  #checks if all values in the array are the same\n",
        "np.array_equal(array, array1)  #same but more foolproof\n",
        "array4 = np.append(array2, np.array([[1,2,3,4,5]]), axis=0)  #insert row at index 0\n",
        "array4 = np.append(array2, np.array([[1,2,3,4,5,6]]).T, axis=1)  #append col\n",
        "array2[array2>1]\n"
      ]
    },
    {
      "cell_type": "markdown",
      "metadata": {
        "id": "ZfAu71iytGYQ"
      },
      "source": [
        "## Dataframes (pandas)"
      ]
    },
    {
      "cell_type": "code",
      "execution_count": null,
      "metadata": {
        "id": "KY13tCvftGYQ"
      },
      "outputs": [],
      "source": [
        "import pandas as pd\n",
        "from IPython.display import display\n",
        "\n",
        "\n",
        "#create\n",
        "array = [(1, 2.0, \"Hello\"), (2, 3.0, \"World\")]\n",
        "df = mvdf()\n",
        "df = mvdf(array)  #alias from mv_functions\n",
        "df = mvdf(array, 'filename')  #also saves the df as .csv\n",
        "df = mvdf('filename')  #loads df from .csv\n",
        "df = pd.DataFrame(array)\n",
        "df = pd.DataFrame(array, index=[\"X\", \"Y\"], columns=[\"A\", \"B\", 3])\n",
        "\n",
        "\n",
        "#rows and cols\n",
        "df.index\n",
        "df.columns\n",
        "df.index = ['a', 'b']  #rename rows\n",
        "df.columns = [1, 2, 'x']  #rename columns\n",
        "df.columns[0]  #get name of column 0\n",
        "\n",
        "\n",
        "#access\n",
        "df.iloc[0, 0:3]\n",
        "df.iloc[1]\n",
        "df.loc[\"X\"]\n",
        "df.loc[\"X\", \"A\"]\n",
        "df[\"A\"]\n",
        "df[\"C\"] = df1[\"A\"] + df1[\"B\"]\n",
        "df[\"C>3\"] = df1[\"C\"] > 3\n",
        "df[(df.iloc[:,:] > 0).any(axis=1)]  #show all rows were any entry is > 0\n",
        "df[(df.iloc[:,:] > 0).all(axis=1)]  #show all rows were all entries are > 0\n",
        "\n",
        "\n",
        "#functions\n",
        "df.drop(labels=[], axis=0, inplace=True)\n",
        "    #labels: row index or col name\n",
        "    #axis:  0=rows, 1=col\n",
        "    #inplace:  True: alter original df, False:return altered copy\n",
        "df.info()\n",
        "df.dropna()\n",
        "df.T\n",
        "df.shape  #dimensions\n",
        "df.size  #number of entries\n",
        "df['x'].fillna(df['x'].mean(), inplace = True)  #replace na values with mean\n",
        "display(df)  #prints the dataframe nicely (like when writing df at the end of the cell)\n",
        "\n",
        "\n",
        "#write\n",
        "tmp = mvdf(array, 'filename')  #also saves the df as .csv\n",
        "df.to_csv('path', index=False) #index=True writes the rownames into the file"
      ]
    },
    {
      "cell_type": "markdown",
      "metadata": {
        "id": "HWMNuLVEtGYR"
      },
      "source": [
        "## Matrices (sympy)\n",
        "slow but can handle expressions"
      ]
    },
    {
      "cell_type": "code",
      "execution_count": null,
      "metadata": {
        "id": "7fnYJU0atGYR"
      },
      "outputs": [],
      "source": [
        "#convert to numpy array\n",
        "array = np.array(matrix[0].tolist()).astype(np.float64)"
      ]
    },
    {
      "cell_type": "markdown",
      "metadata": {
        "id": "zHPEJTU-tGYR"
      },
      "source": [
        "## Sets"
      ]
    },
    {
      "cell_type": "code",
      "execution_count": null,
      "metadata": {
        "id": "lllA6GLwtGYR"
      },
      "outputs": [],
      "source": [
        "set1 = set([1,2,3,4,5,6])\n",
        "set2 = {4,5,6,7,8,9,9,9}\n",
        "print(set1.intersection(set2))\n",
        "print(set1.union(set2))\n",
        "print(set1.issubset(set2))"
      ]
    },
    {
      "cell_type": "markdown",
      "source": [
        "## Custom Dictionaries\n",
        "WIP"
      ],
      "metadata": {
        "id": "5GCftquf0Wqp"
      }
    },
    {
      "cell_type": "markdown",
      "metadata": {
        "id": "RuAG8aJntGYR"
      },
      "source": [
        "# Working with Data"
      ]
    },
    {
      "cell_type": "markdown",
      "metadata": {
        "id": "uEi4CsyFtGYR"
      },
      "source": [
        "## Dicts as variable collections"
      ]
    },
    {
      "cell_type": "code",
      "execution_count": null,
      "metadata": {
        "collapsed": true,
        "id": "xvBc-pfhtGYS",
        "jupyter": {
          "outputs_hidden": true
        },
        "outputId": "3a7b5dd4-0a4e-4e5c-cba4-e5ee943c916f",
        "tags": []
      },
      "outputs": [
        {
          "data": {
            "text/html": [
              "<div>\n",
              "<style scoped>\n",
              "    .dataframe tbody tr th:only-of-type {\n",
              "        vertical-align: middle;\n",
              "    }\n",
              "\n",
              "    .dataframe tbody tr th {\n",
              "        vertical-align: top;\n",
              "    }\n",
              "\n",
              "    .dataframe thead th {\n",
              "        text-align: right;\n",
              "    }\n",
              "</style>\n",
              "<table border=\"1\" class=\"dataframe\">\n",
              "  <thead>\n",
              "    <tr style=\"text-align: right;\">\n",
              "      <th></th>\n",
              "      <th>a</th>\n",
              "      <th>0</th>\n",
              "      <th>1</th>\n",
              "      <th>2</th>\n",
              "      <th>3</th>\n",
              "      <th>4</th>\n",
              "      <th>5</th>\n",
              "      <th>6</th>\n",
              "      <th>7</th>\n",
              "      <th>8</th>\n",
              "      <th>9</th>\n",
              "    </tr>\n",
              "  </thead>\n",
              "  <tbody>\n",
              "    <tr>\n",
              "      <th>0</th>\n",
              "      <td>-3</td>\n",
              "      <td>0e-2</td>\n",
              "      <td>1e-2</td>\n",
              "      <td>4e-2</td>\n",
              "      <td>9e-2</td>\n",
              "      <td>16e-2</td>\n",
              "      <td>25e-2</td>\n",
              "      <td>36e-2</td>\n",
              "      <td>49e-2</td>\n",
              "      <td>64e-2</td>\n",
              "      <td>81e-2</td>\n",
              "    </tr>\n",
              "    <tr>\n",
              "      <th>1</th>\n",
              "      <td>-2</td>\n",
              "      <td>NaN</td>\n",
              "      <td>NaN</td>\n",
              "      <td>NaN</td>\n",
              "      <td>NaN</td>\n",
              "      <td>NaN</td>\n",
              "      <td>NaN</td>\n",
              "      <td>NaN</td>\n",
              "      <td>NaN</td>\n",
              "      <td>NaN</td>\n",
              "      <td>NaN</td>\n",
              "    </tr>\n",
              "    <tr>\n",
              "      <th>2</th>\n",
              "      <td>-1</td>\n",
              "      <td>NaN</td>\n",
              "      <td>NaN</td>\n",
              "      <td>NaN</td>\n",
              "      <td>NaN</td>\n",
              "      <td>NaN</td>\n",
              "      <td>NaN</td>\n",
              "      <td>NaN</td>\n",
              "      <td>NaN</td>\n",
              "      <td>NaN</td>\n",
              "      <td>NaN</td>\n",
              "    </tr>\n",
              "    <tr>\n",
              "      <th>3</th>\n",
              "      <td>0</td>\n",
              "      <td>NaN</td>\n",
              "      <td>NaN</td>\n",
              "      <td>NaN</td>\n",
              "      <td>NaN</td>\n",
              "      <td>NaN</td>\n",
              "      <td>NaN</td>\n",
              "      <td>NaN</td>\n",
              "      <td>NaN</td>\n",
              "      <td>NaN</td>\n",
              "      <td>NaN</td>\n",
              "    </tr>\n",
              "    <tr>\n",
              "      <th>4</th>\n",
              "      <td>1</td>\n",
              "      <td>NaN</td>\n",
              "      <td>NaN</td>\n",
              "      <td>NaN</td>\n",
              "      <td>NaN</td>\n",
              "      <td>NaN</td>\n",
              "      <td>NaN</td>\n",
              "      <td>NaN</td>\n",
              "      <td>NaN</td>\n",
              "      <td>NaN</td>\n",
              "      <td>NaN</td>\n",
              "    </tr>\n",
              "    <tr>\n",
              "      <th>5</th>\n",
              "      <td>2</td>\n",
              "      <td>NaN</td>\n",
              "      <td>NaN</td>\n",
              "      <td>NaN</td>\n",
              "      <td>NaN</td>\n",
              "      <td>NaN</td>\n",
              "      <td>NaN</td>\n",
              "      <td>NaN</td>\n",
              "      <td>NaN</td>\n",
              "      <td>NaN</td>\n",
              "      <td>NaN</td>\n",
              "    </tr>\n",
              "    <tr>\n",
              "      <th>6</th>\n",
              "      <td>3</td>\n",
              "      <td>NaN</td>\n",
              "      <td>NaN</td>\n",
              "      <td>NaN</td>\n",
              "      <td>NaN</td>\n",
              "      <td>NaN</td>\n",
              "      <td>NaN</td>\n",
              "      <td>NaN</td>\n",
              "      <td>NaN</td>\n",
              "      <td>NaN</td>\n",
              "      <td>NaN</td>\n",
              "    </tr>\n",
              "    <tr>\n",
              "      <th>7</th>\n",
              "      <td>4</td>\n",
              "      <td>NaN</td>\n",
              "      <td>NaN</td>\n",
              "      <td>NaN</td>\n",
              "      <td>NaN</td>\n",
              "      <td>NaN</td>\n",
              "      <td>NaN</td>\n",
              "      <td>NaN</td>\n",
              "      <td>NaN</td>\n",
              "      <td>NaN</td>\n",
              "      <td>NaN</td>\n",
              "    </tr>\n",
              "    <tr>\n",
              "      <th>8</th>\n",
              "      <td>5</td>\n",
              "      <td>NaN</td>\n",
              "      <td>NaN</td>\n",
              "      <td>NaN</td>\n",
              "      <td>NaN</td>\n",
              "      <td>NaN</td>\n",
              "      <td>NaN</td>\n",
              "      <td>NaN</td>\n",
              "      <td>NaN</td>\n",
              "      <td>NaN</td>\n",
              "      <td>NaN</td>\n",
              "    </tr>\n",
              "    <tr>\n",
              "      <th>9</th>\n",
              "      <td>6</td>\n",
              "      <td>NaN</td>\n",
              "      <td>NaN</td>\n",
              "      <td>NaN</td>\n",
              "      <td>NaN</td>\n",
              "      <td>NaN</td>\n",
              "      <td>NaN</td>\n",
              "      <td>NaN</td>\n",
              "      <td>NaN</td>\n",
              "      <td>NaN</td>\n",
              "      <td>NaN</td>\n",
              "    </tr>\n",
              "  </tbody>\n",
              "</table>\n",
              "</div>"
            ],
            "text/plain": [
              "   a     0     1     2     3      4      5      6      7      8      9\n",
              "0 -3  0e-2  1e-2  4e-2  9e-2  16e-2  25e-2  36e-2  49e-2  64e-2  81e-2\n",
              "1 -2   NaN   NaN   NaN   NaN    NaN    NaN    NaN    NaN    NaN    NaN\n",
              "2 -1   NaN   NaN   NaN   NaN    NaN    NaN    NaN    NaN    NaN    NaN\n",
              "3  0   NaN   NaN   NaN   NaN    NaN    NaN    NaN    NaN    NaN    NaN\n",
              "4  1   NaN   NaN   NaN   NaN    NaN    NaN    NaN    NaN    NaN    NaN\n",
              "5  2   NaN   NaN   NaN   NaN    NaN    NaN    NaN    NaN    NaN    NaN\n",
              "6  3   NaN   NaN   NaN   NaN    NaN    NaN    NaN    NaN    NaN    NaN\n",
              "7  4   NaN   NaN   NaN   NaN    NaN    NaN    NaN    NaN    NaN    NaN\n",
              "8  5   NaN   NaN   NaN   NaN    NaN    NaN    NaN    NaN    NaN    NaN\n",
              "9  6   NaN   NaN   NaN   NaN    NaN    NaN    NaN    NaN    NaN    NaN"
            ]
          },
          "execution_count": 136,
          "metadata": {},
          "output_type": "execute_result"
        }
      ],
      "source": [
        "#why dictionaries?\n",
        "#advantages over variables (lists):\n",
        "# data can be saved as key:value pairs instead of having to (automatically) generate a lot of\n",
        "# variables (and name them (automatically)). this reduces clutter a lot.\n",
        "\n",
        "#advantages over arrays/matrices:\n",
        "# 'columns' can be named. columns can have different rowlengths. its easy to append\n",
        "# new columns or new data to existing columns\n",
        "\n",
        "#advantages over dataframes:\n",
        "# easier to work with. key:values pairs can contain python objects. easily transformed\n",
        "# into a dataframe (and saved to file) using: mvdf(dict) / mvdf(dict, 'path')\n",
        "\n",
        "data = {}\n",
        "\n",
        "data['a'] = []\n",
        "for x in range(10):\n",
        "    data['a'].append(x-3)\n",
        "\n",
        "for x in range(10):\n",
        "    value = str(x**2) + 'e-2'\n",
        "    data[x] = value\n",
        "\n",
        "mvdf(data)  #transform to dataframe (nice output)\n",
        "# mvdf(data, 'path')  #also saves the dataframe as .csv to a path\n",
        "# mvdf(data).transpose"
      ]
    },
    {
      "cell_type": "markdown",
      "metadata": {
        "id": "5VYssRtZtGYS"
      },
      "source": [
        "## Printing outputs"
      ]
    },
    {
      "cell_type": "code",
      "execution_count": null,
      "metadata": {
        "id": "9D5VrY6HtGYS"
      },
      "outputs": [],
      "source": [
        "from IPython.display import display\n",
        "\n",
        "print(1)\n",
        "print('text')  #automatically adds linebreak\n",
        "print('text', end='')  #overwrite automatic linebreak\n",
        "print('text\\n')  #additional linebreak\n",
        "x = 2\n",
        "print(f'text {x*3}')\n",
        "list1 = ['a','b','c']\n",
        "print(*list1, sep=\"\")  #prints list without brackets, commas, and whitespace\n",
        "print(''.join(list1))  #does the same\n",
        "df = pd.read_csv('sample.csv')\n",
        "display(df)  #main usage is nicely printing dataframes"
      ]
    },
    {
      "cell_type": "markdown",
      "metadata": {
        "id": "C8YKAj_AtGYS"
      },
      "source": [
        "## Math"
      ]
    },
    {
      "cell_type": "code",
      "execution_count": null,
      "metadata": {
        "id": "MV95ukmMtGYS",
        "outputId": "41f944de-db34-4f45-9da1-0523c6d1904a"
      },
      "outputs": [
        {
          "name": "stdout",
          "output_type": "stream",
          "text": [
            "variable1\n",
            "text1\n",
            "text2\n",
            "text1 text2"
          ]
        }
      ],
      "source": [
        "_10hoch5 = pow(10, 5)\n",
        "\n",
        "\n",
        "#normalizing a vector to have length 1\n",
        "v_norm = v / np.sqrt(np.sum(v**2))"
      ]
    },
    {
      "cell_type": "markdown",
      "metadata": {
        "id": "aIkpyajKtGYT"
      },
      "source": [
        "## Random Data\n",
        "https://realpython.com/python-random/"
      ]
    },
    {
      "cell_type": "code",
      "execution_count": null,
      "metadata": {
        "id": "usG2EGdYtGYT",
        "outputId": "51bfe1a9-d97e-4156-8e3f-03e1507ad4cd"
      },
      "outputs": [
        {
          "data": {
            "text/plain": [
              "array([[1, 1, 1, 1],\n",
              "       [1, 0, 0, 0],\n",
              "       [0, 1, 0, 0]])"
            ]
          },
          "execution_count": 86,
          "metadata": {},
          "output_type": "execute_result"
        }
      ],
      "source": [
        "import numpy as np\n",
        "import random\n",
        "\n",
        "random.seed(123)  #using same seed always gives same random value\n",
        "random.random()  #float between 0-1\n",
        "random.randint(0, 10)  #int between 0-10\n",
        "random.uniform(0, 10)  #float between 0-10. uniform distribution\n",
        "random.gauss(0, 10)  #float from gauß distribution. center=0, stdev=10\n",
        "list1 = [1,2,3,4,5]\n",
        "random.choice(list1)  #pick random element from list\n",
        "random.choices(list1, k=2)  #pick k random elements from list. multiple picking\n",
        "random.sample(list1, k=2)  #pick k random elements from list. no multiple picking\n",
        "random.shuffle(list1)\n",
        "\n",
        "\n",
        "#numpy also has a random package\n",
        "np.random.seed(123)\n",
        "np.set_printoptions(precision=2) #post decimal points\n",
        "\n",
        "np.random.randn(5)  #array with 5 elements\n",
        "np.random.randn(3, 4)  #array with 3 rows and 4 columns\n",
        "np.random.choice([0, 1], p=[0.6, 0.4], size=(3, 4))  #array with 3 rows and 4 columns,\n",
        "  #containing either 0 or 1 with different propabilities"
      ]
    },
    {
      "cell_type": "markdown",
      "metadata": {
        "id": "74zPWynztGYT"
      },
      "source": [
        "## Formats"
      ]
    },
    {
      "cell_type": "code",
      "execution_count": null,
      "metadata": {
        "id": "2HAUexpetGYT"
      },
      "outputs": [],
      "source": [
        "fmt='%d'  # decimal integer\n",
        "fmt='%.2f'  # 2 digit float"
      ]
    },
    {
      "cell_type": "markdown",
      "metadata": {
        "id": "3QXhD7T6tGYT"
      },
      "source": [
        "## Logic"
      ]
    },
    {
      "cell_type": "code",
      "execution_count": null,
      "metadata": {
        "id": "tDAldipCtGYU"
      },
      "outputs": [],
      "source": [
        "isinstance(x, str)  #True if x is a string"
      ]
    },
    {
      "cell_type": "markdown",
      "metadata": {
        "id": "f-KQYFOltGYU"
      },
      "source": [
        "## Loops"
      ]
    },
    {
      "cell_type": "code",
      "execution_count": null,
      "metadata": {
        "id": "QF4kQgp5tGYU"
      },
      "outputs": [],
      "source": [
        "for i in range(2,10):\n",
        "  print(i)\n",
        "  x = i**2\n",
        "  if x < 20:\n",
        "    continue  #jump to next iteration of loop ignoring all code after continue\n",
        "  elif x == 25:\n",
        "    pass  #just pretend nothing happened. use as placeholder\n",
        "  else:\n",
        "    break  #stops the whole loop"
      ]
    },
    {
      "cell_type": "markdown",
      "metadata": {
        "id": "pTY5vfP7tGYU"
      },
      "source": [
        "## Functions"
      ]
    },
    {
      "cell_type": "code",
      "execution_count": null,
      "metadata": {
        "id": "y-f-G8z7tGYU"
      },
      "outputs": [],
      "source": [
        "#basic structure\n",
        "def function_name(arguments):\n",
        "    \"\"\"\n",
        "    documentation\n",
        "    \"\"\"\n",
        "    #code\n",
        "    return\n",
        "\n",
        "\n",
        "#default argument values\n",
        "def sum_function(a_list, as_string=False):\n",
        "    \"\"\"\n",
        "    arguments can have default values assigned. when the function is called\n",
        "    without the arg as_string like this: sum_function([1,2,3]), the default\n",
        "    argument is set to its default value (False). If the function is called like\n",
        "    this: sum_function([1,2,3], as_string=True), the default value is overwritten.\n",
        "    \"\"\"\n",
        "    if as_string:\n",
        "        sum = sum(a_list)\n",
        "        return str(sum)\n",
        "    else:\n",
        "        sum = sum(a_list)\n",
        "        return sum\n",
        "\n",
        "\n",
        "#arbitrary arguments\n",
        "def print_stuff(*args):  #type(args) = tuple, can use any name eg.: my_sum(*ints)\n",
        "    \"\"\"\n",
        "    this allows for the passing of any number of arguments to a function.\n",
        "    the arguments are passed as a tuple with any name e.g.: print_stuff(*words)\n",
        "    \"\"\"\n",
        "    for arg in args:\n",
        "        print(arg)\n",
        "\n",
        "\n",
        "#named arbitrary arguments\n",
        "def print_kwargs(**kwargs): #type(kwargs) = dict, can use any name eg.: print_kwargs(**words)\n",
        "    \"\"\"\n",
        "    this allows for the passing of any number of arguments to a function.\n",
        "    the arguments are passed as a dictionary from which they can be called.\n",
        "    \"\"\"\n",
        "    for key,value in kwargs.items():\n",
        "        print(key, value)\n",
        "\n",
        "\n",
        "#public and private functions\n",
        "def public_function(arguments):\n",
        "    \"\"\"\n",
        "    when a .py file with this function in it is imported, this function will be\n",
        "    visible in the main file and can be used. Since its for public use, it should\n",
        "    have a docstring like this.\n",
        "    \"\"\"\n",
        "    #code\n",
        "    return\n",
        "\n",
        "def _private_function(arguments):\n",
        "    \"\"\"\n",
        "    modules might make use of private functions, for example a function which\n",
        "    is only used by another (public) function. In this case only the public\n",
        "    function should be visible when importing and the private function should\n",
        "    be made invisible by placing a '_' at the start of its name.\n",
        "    docstrings can be omitted for private functions (proper documentation\n",
        "    with comments not though!).\n",
        "    \"\"\"\n",
        "    #code\n",
        "    return"
      ]
    },
    {
      "cell_type": "markdown",
      "metadata": {
        "id": "993JWZJ1tGYU"
      },
      "source": [
        "## Classes\n",
        "how to change operator behaviour for custom classes: https://www.programiz.com/python-programming/operator-overloading"
      ]
    },
    {
      "cell_type": "code",
      "execution_count": null,
      "metadata": {
        "id": "HJjvtqFZtGYU"
      },
      "outputs": [],
      "source": []
    },
    {
      "cell_type": "markdown",
      "metadata": {
        "id": "Ko98oiHRtGYU"
      },
      "source": [
        "## Background jobs\n",
        "\n",
        "Can be used to execute multiple functions in the background.\n",
        "\n",
        "example: https://notebook.community/CestDiego/emacs-ipython-notebook/tests/notebook/nbformat4/Background%20Jobs\n",
        "\n",
        "\n",
        "docs: https://ipython.readthedocs.io/en/stable/api/generated/IPython.lib.backgroundjobs.html?highlight=background"
      ]
    },
    {
      "cell_type": "code",
      "execution_count": null,
      "metadata": {
        "id": "gfJovLMFtGYV"
      },
      "outputs": [],
      "source": [
        "from IPython.lib import backgroundjobs as bg\n",
        "import time\n",
        "\n",
        "jobs = bg.BackgroundJobManager()\n",
        "\n",
        "def func1(num1=1, num2=2, delay=10):\n",
        "    time.sleep(delay)\n",
        "    return(f'the product of num1 ({num1}) and num2 ({num2}) is {num1*num2}')\n",
        "\n",
        "jobs.new(func1)  #start new job\n",
        "jobs.new(func1, 3, 4)  #start new job with positional arguments\n",
        "jobs.new(func1, kw=dict(num1=5, num2=6))  #start new job with keyword arguments\n",
        "for i in range(10):\n",
        "    jobs.new(func1, i, i*2, i*3)\n",
        "\n",
        "jobs()  #shows the status of all jobs\n",
        "jobs.result(3)  #shows result if job is compelted\n",
        "jobs.remove(0)  #remove a job if its completed\n",
        "jobs.flush()  #remove all completed jobs\n",
        "jobs.traceback()  #shows errors"
      ]
    },
    {
      "cell_type": "markdown",
      "source": [
        "## Time"
      ],
      "metadata": {
        "id": "VVh88Y44EnZQ"
      }
    },
    {
      "cell_type": "code",
      "source": [
        "import time\n",
        "import datetime\n",
        "\n",
        "#meassuring timespans\n",
        "start_time = time.time()\n",
        "calctime = time.time() - start_time\n",
        "\n",
        "\n",
        "#get current date and time\n",
        "datetime.datetime.now()"
      ],
      "metadata": {
        "id": "_Eiqgu4hEpm8"
      },
      "execution_count": null,
      "outputs": []
    },
    {
      "cell_type": "markdown",
      "metadata": {
        "id": "Gg8WptSOtGYV"
      },
      "source": [
        "## misc"
      ]
    },
    {
      "cell_type": "code",
      "execution_count": null,
      "metadata": {
        "id": "zjPhRjsRtGYV"
      },
      "outputs": [],
      "source": [
        "# meassuring time:\n",
        "import time\n",
        "start_time = time.time()\n",
        "calctime = time.time() - start_time\n",
        "\n",
        "\n",
        "#library for working with variable names\n",
        "from varname import nameof\n",
        "variable1 = 34\n",
        "print(nameof(variable1))"
      ]
    },
    {
      "cell_type": "code",
      "source": [],
      "metadata": {
        "id": "7rC4LcMbN5v_"
      },
      "execution_count": null,
      "outputs": []
    },
    {
      "cell_type": "markdown",
      "source": [
        "## SQLite\n",
        "\n",
        "https://realpython.com/python-sql-libraries/"
      ],
      "metadata": {
        "id": "F-ckGHZ3SCs-"
      }
    },
    {
      "cell_type": "code",
      "source": [],
      "metadata": {
        "id": "bAGS-giNSHS0"
      },
      "execution_count": null,
      "outputs": []
    },
    {
      "cell_type": "code",
      "source": [],
      "metadata": {
        "id": "dGMx2IfvSHbX"
      },
      "execution_count": null,
      "outputs": []
    },
    {
      "cell_type": "code",
      "source": [],
      "metadata": {
        "id": "imV82APASHjt"
      },
      "execution_count": null,
      "outputs": []
    },
    {
      "cell_type": "code",
      "source": [],
      "metadata": {
        "id": "PeBRfBOJSHoS"
      },
      "execution_count": null,
      "outputs": []
    },
    {
      "cell_type": "markdown",
      "metadata": {
        "id": "mwRe3sS2tGYV"
      },
      "source": [
        "# Plotting\n",
        "examples: https://www.python-graph-gallery.com/"
      ]
    },
    {
      "cell_type": "markdown",
      "metadata": {
        "id": "55-awMmztGYV"
      },
      "source": [
        "## basics"
      ]
    },
    {
      "cell_type": "code",
      "execution_count": null,
      "metadata": {
        "id": "HFhKOt5ktGYW"
      },
      "outputs": [],
      "source": [
        "import matplotlib.pyplot as plt\n",
        "import numpy as np\n",
        "\n",
        "#basic plot types:\n",
        "plt.plot([2, 1, 3, 4])\n",
        "plt.plot([1, 2, 3, 4], [1, 4, 9, 16])\n",
        "plt.scatter([1, 2, 3, 4], [1, 4, 9, 16])\n",
        "plt.boxplot([7,5,9,6])\n",
        "random_list = np.random.normal(100, 10, 200)\n",
        "plt.hist(random_list, bins = 10)\n",
        "plt.violinplot(random_list)\n",
        "plt.fill_between([1, 2, 3, 4], [1, 4, 9, 16])\n",
        "\n",
        "\n",
        "#arguments\n",
        "plt.scatter(X,Y2[index], c=\"red\", marker=\"x\", s=2, alpha=0.1, label=\"b\")\n",
        "markers = ['o', 's', 'D', 'X', 'P', 'v', '^', '$1$']  #$1$ uses character '1' as marker\n",
        "colors = ['tab:blue', 'tab:orange', 'tab:green', 'tab:red', 'tab:gray', 'tab:brown', 'tab:cyan']\n",
        "  #https://matplotlib.org/stable/gallery/color/named_colors.html\n",
        "plt.boxplot(data, showfliers=False, positions=[0,1],\n",
        "            medianprops=dict(color='tab:green'),\n",
        "            boxprops=dict(color='tab:green'),\n",
        "            flierprops=dict(color='tab:green'))\n",
        "plt.scatter(0.3, 5.75, zorder=10) #zorder moves things to the foreground\n",
        "plt.plot(x, y, c='orange', linestyle='', marker='o', fillstyle='none', label='3d')\n",
        "\n",
        "\n",
        "#modifiers\n",
        "plt.figure(figsize=(10,5))\n",
        "plt.rcParams.update({'font.size': 15})\n",
        "\n",
        "plt.xscale('log')\n",
        "plt.xlim(1,10)\n",
        "plt.xlabel(\"txt5 = 'acetate production [mmol $\\mathregular{g^{-1}h^{-1}}$]'\")  #with superscript\n",
        "plt.xticks([0,1,2], [0, 'a', 'b\\nB'], rotation='horizontal') #custom axis ticks\n",
        "plt.xticks(rotation = 90)\n",
        "plt.tick_params(axis='y', left=False, right=True, labelleft=False, labelright=True)\n",
        "\n",
        "plt.legend()  #labels have to be assigned when creating the plot\n",
        "plt.show()\n",
        "plt.savefig('name.png', bbox_inches='tight', pad_inches=0.05)\n",
        "\n",
        "\n",
        "#make interactive\n",
        "%matplotlib widget\n",
        "\n",
        "\n",
        "#combiplot\n",
        "data = [[2,4,1], [6,9,7]]\n",
        "plt.figure(figsize =(10, 7))\n",
        "plt.boxplot(data, showfliers=False, positions=[0,1]\n",
        "            medianprops=dict(color='tab:green'),\n",
        "            boxprops=dict(color='tab:green'),\n",
        "            flierprops=dict(color='tab:green'))  #add 2 boxes\n",
        "\n",
        "for i in range(len(data)):  #add points (vertically) for the 2 boxes\n",
        "    y = data[i]\n",
        "    x = np.random.normal(i+1, 0.0, size=len(y))  #adds jitter (if not 0.0)\n",
        "    if i == 0:\n",
        "        plt.scatter(x, y, c='tab:blue', label='blue')\n",
        "    else:\n",
        "        plt.scatter(x, y)\n",
        "\n",
        "plt.scatter([1,2], [5,10], marker='^', label='orange')  #adds second dataset (horizontally)\n",
        "plt.xticks([1,2], ['a', 'b\\nB'])  #rename x label ticks from numbers to text\n",
        "plt.legend()\n",
        "plt.show"
      ]
    },
    {
      "cell_type": "markdown",
      "source": [
        "## 3D figures\n"
      ],
      "metadata": {
        "id": "Ma8715bWbJOI"
      }
    },
    {
      "cell_type": "code",
      "source": [
        "import numpy as np\n",
        "import matplotlib.pyplot as plt\n",
        "\n",
        "\n",
        "fig = plt.figure(figsize=(8,8))\n",
        "ax = fig.add_subplot(111, projection='3d')\n",
        "\n",
        "\n",
        "#points for building lines and polygons\n",
        "p = np.array([[0,  0, 0], #origin\n",
        "              [0, -2, 2], #p1\n",
        "              [1,  0, 1], #p2\n",
        "              [2,  2, 0], #p3\n",
        "              [1, -2, 1], #p4\n",
        "              [1,  0, 0], #p5\n",
        "             ])\n",
        "\n",
        "\n",
        "#build lines using points\n",
        "line1 =  [[p[0],p[2]]]\n",
        "lines1 = [[p[0],p[1]],\n",
        "          [p[0],p[3]],\n",
        "         ]\n",
        "lines2 = [[p[2],p[4]],\n",
        "          [p[2],p[5]],\n",
        "         ]\n",
        "\n",
        "# plot lines\n",
        "ax.add_collection3d(Poly3DCollection(\n",
        "    line1,\n",
        "    edgecolors='tab:blue',\n",
        "    linewidths=1,\n",
        "    alpha=1,\n",
        "    ))\n",
        "\n",
        "ax.add_collection3d(Poly3DCollection(\n",
        "    lines1,\n",
        "    edgecolors='tab:orange',\n",
        "    linestyle=':',\n",
        "    linewidths=1,\n",
        "    alpha=1,\n",
        "    ))\n",
        "\n",
        "ax.add_collection3d(Poly3DCollection(\n",
        "    lines2,\n",
        "    edgecolors='tab:green',\n",
        "    linestyle=':',\n",
        "    linewidths=1,\n",
        "    alpha=1,\n",
        "    ))\n",
        "\n",
        "\n",
        "#build plane using points\n",
        "plane = [[p[0],p[1],p[2],p[3]]]\n",
        "\n",
        "#plot plane\n",
        "ax.add_collection3d(Poly3DCollection(\n",
        "    plane,\n",
        "    facecolors='tab:orange',\n",
        "    #edgecolors='tab:green',\n",
        "    linewidths=1,\n",
        "    alpha=.25))\n",
        "\n",
        "\n",
        "#plot 3D point\n",
        "ax.scatter3D(0, 0, 0, c='red')\n",
        "ax.scatter3D(1, 0, 1, c='red')\n",
        "\n",
        "\n",
        "#text labels\n",
        "ax.text(-0.05, 0, 0, '0')\n",
        "ax.text(0, -0.9, 1.1, 'line 1')\n",
        "ax.text(0.95, 0, 1.03, 'point 1')\n",
        "\n",
        "#configure coordinate axis\n",
        "ax.set_xticks([-2,-1,0,1,2])\n",
        "ax.set_yticks([-2,-1,0,1,2])\n",
        "ax.set_zticks([-2,-1,0,1,2])\n",
        "ax.set_xlabel('x')\n",
        "ax.set_ylabel('y')\n",
        "ax.set_zlabel('z')\n",
        "ax.set_xlim(0,2)\n",
        "ax.set_ylim(-2,2)\n",
        "ax.set_zlim(0,2)\n",
        "\n",
        "#change view angle\n",
        "ax.view_init(30, #elevation degree\n",
        "             70, #rotation around z\n",
        "            )\n",
        "\n",
        "plt.show()"
      ],
      "metadata": {
        "colab": {
          "base_uri": "https://localhost:8080/",
          "height": 653
        },
        "id": "fs8o1RUpxj2A",
        "outputId": "02497356-4b09-480d-e25e-1ffb10e093de"
      },
      "execution_count": null,
      "outputs": [
        {
          "output_type": "display_data",
          "data": {
            "text/plain": [
              "<Figure size 800x800 with 1 Axes>"
            ],
            "image/png": "[encoded data removed]"
          },
          "metadata": {}
        }
      ]
    },
    {
      "cell_type": "code",
      "source": [],
      "metadata": {
        "id": "FizwiIMCzCgW"
      },
      "execution_count": null,
      "outputs": []
    },
    {
      "cell_type": "code",
      "source": [],
      "metadata": {
        "id": "CDoCV7EExkQH"
      },
      "execution_count": null,
      "outputs": []
    },
    {
      "cell_type": "code",
      "source": [],
      "metadata": {
        "id": "JqksPPdCxkVn"
      },
      "execution_count": null,
      "outputs": []
    },
    {
      "cell_type": "code",
      "source": [
        "import numpy as np\n",
        "import matplotlib.pyplot as plt\n",
        "from mpl_toolkits.mplot3d.art3d import Poly3DCollection, Line3DCollection\n",
        "\n",
        "\n",
        "fig = plt.figure(figsize=(8,8))\n",
        "ax = fig.add_subplot(111, projection='3d')\n",
        "\n",
        "\n",
        "# list of points\n",
        "p = np.array([[0, 0, 0], #origin\n",
        "              [0, -2, 2], #e1\n",
        "              [1, 0, 1], #e2\n",
        "              [2, 2, 0], #e3\n",
        "              [1, -2, 1], #p1\n",
        "              [1, 0, 0] #p2\n",
        "             ])\n",
        "\n",
        "# plot points\n",
        "ax.scatter3D(p[0, 0], p[0, 1], p[0, 2], c='r')\n",
        "\n",
        "\n",
        "# lines\n",
        "lines = [[p[0],p[1]],\n",
        "         [p[0],p[3]]\n",
        "        ]\n",
        "lines1 = [[p[2],p[4]],\n",
        "         [p[2],p[5]]\n",
        "        ]\n",
        "line1 = [[p[0],p[2]]]\n",
        "\n",
        "\n",
        "# plot lines\n",
        "ax.add_collection3d(Poly3DCollection(lines, facecolors='tab:orange',\n",
        "                                     edgecolors='r', linewidths=1, alpha=1))\n",
        "ax.add_collection3d(Poly3DCollection(line1, facecolors='tab:orange',\n",
        "                                     edgecolors='r', linestyle=':',\n",
        "                                     linewidths=1, alpha=1))\n",
        "ax.add_collection3d(Poly3DCollection(lines1, facecolors='tab:orange',\n",
        "                                     edgecolors='g', linestyle=':',\n",
        "                                     linewidths=1, alpha=1))\n",
        "\n",
        "\n",
        "\n",
        "# plane\n",
        "plane = [[p[0],p[1],p[2],p[3]]]\n",
        "\n",
        "# plot plane\n",
        "ax.add_collection3d(Poly3DCollection(plane, facecolors='tab:orange', linewidths=1, alpha=.25))\n",
        "\n",
        "\n",
        "#text labels\n",
        "ax.text(-0.05, 0, 0, '0')\n",
        "ax.text(0, -0.9, 1.1, 'E1')\n",
        "ax.text(0.6, 0, 0.65, 'E2')\n",
        "ax.text(1, 1.2, 0, 'E3')\n",
        "\n",
        "\n",
        "ax.set_xticks([-2,-1,0,1,2])\n",
        "ax.set_yticks([-2,-1,0,1,2])\n",
        "ax.set_zticks([-2,-1,0,1,2])\n",
        "ax.set_xlabel('r0')\n",
        "ax.set_ylabel('r1')\n",
        "ax.set_zlabel('r2')\n",
        "ax.set_xlim(0,2)\n",
        "ax.set_ylim(-2,2)\n",
        "ax.set_zlim(0,2)\n",
        "\n",
        "ax.view_init(30, 70)\n",
        "\n",
        "# plt.savefig('img/flux_cone', bbox_inches='tight', pad_inches=0.05)\n",
        "plt.show()"
      ],
      "metadata": {
        "colab": {
          "base_uri": "https://localhost:8080/",
          "height": 466
        },
        "id": "ZkkeovaVcKu4",
        "outputId": "728eafca-0796-4a8f-e8c9-1a290aad0a99"
      },
      "execution_count": null,
      "outputs": [
        {
          "output_type": "display_data",
          "data": {
            "text/plain": [
              "<Figure size 576x576 with 1 Axes>"
            ],
            "image/png": "[encoded data removed]"
          },
          "metadata": {
            "needs_background": "light"
          }
        }
      ]
    },
    {
      "cell_type": "code",
      "source": [
        "import matplotlib.pyplot as plt\n",
        "\n",
        "plt.figure(figsize=(10,10))\n",
        "\n",
        "plt.text(5,9, 'Hypergraph', fontsize=50, c='black', ha='center', va='center')\n",
        "\n",
        "#metabolites\n",
        "plt.text(1,1, 'A', fontsize=50, c='tab:blue', ha='center', va='center')\n",
        "plt.text(4.5,1, 'B', fontsize=50, c='tab:blue', ha='center', va='center')\n",
        "plt.text(9,1, 'C', fontsize=50, c='tab:blue', ha='center', va='center')\n",
        "plt.text(6.75,4, 'D', fontsize=50, c='tab:blue', ha='center', va='center')\n",
        "plt.text(6.75,7.5, 'E', fontsize=50, c='tab:blue', ha='center', va='center')\n",
        "\n",
        "#arrows\n",
        "plt.arrow(1.5, 1, 2.07, 0, linewidth=3, head_width=0.3,\n",
        "          head_length=0.5, color='tab:orange')\n",
        "plt.arrow(5, 1, 3.07, 0, linewidth=3, head_width=0.3,\n",
        "          head_length=0.5, color='tab:orange')\n",
        "plt.arrow(6.75, 4.5, 0, 2.07, linewidth=3, head_width=0.3,\n",
        "          head_length=0.5, color='tab:orange')\n",
        "plt.arrow(6.75, 2.5, 0, 0.6, linewidth=3, head_width=0.3,\n",
        "          head_length=0.5, color='tab:orange')\n",
        "plt.arrow(5, 1.2, 1.75, 1.25, linewidth=3, color='tab:orange')\n",
        "plt.arrow(8.5, 1.2, -1.75, 1.25, linewidth=3, color='tab:orange')\n",
        "\n",
        "#labels\n",
        "plt.text(2.75,0.4, 'r1', fontsize=50, c='tab:orange', ha='center', va='center')\n",
        "plt.text(6.75,0.4, 'r2', fontsize=50, c='tab:orange', ha='center', va='center')\n",
        "plt.text(7.5, 2.75, 'r3', fontsize=50, c='tab:orange', ha='center', va='center')\n",
        "plt.text(7.5, 5.5, 'r4', fontsize=50, c='tab:orange', ha='center', va='center')\n",
        "\n",
        "\n",
        "plt.xlim(0,10)\n",
        "plt.ylim(0,10)\n",
        "plt.grid(True)\n",
        "plt.axis('off')\n",
        "\n",
        "# plt.savefig('img/hypergraph', bbox_inches='tight', pad_inches=0.05)\n",
        "plt.show()"
      ],
      "metadata": {
        "id": "NSz09kqTlBvr",
        "outputId": "3fc5431b-f209-4929-991b-82cad16bf936",
        "colab": {
          "base_uri": "https://localhost:8080/",
          "height": 577
        }
      },
      "execution_count": null,
      "outputs": [
        {
          "output_type": "display_data",
          "data": {
            "text/plain": [
              "<Figure size 720x720 with 1 Axes>"
            ],
            "image/png": "[encoded data removed]"
          },
          "metadata": {
            "needs_background": "light"
          }
        }
      ]
    },
    {
      "cell_type": "markdown",
      "metadata": {
        "id": "VUoPTrKgtGYW"
      },
      "source": [
        "## object oriented"
      ]
    },
    {
      "cell_type": "code",
      "source": [],
      "metadata": {
        "id": "8AfHDXMGbP3x"
      },
      "execution_count": null,
      "outputs": []
    },
    {
      "cell_type": "code",
      "execution_count": null,
      "metadata": {
        "id": "D5PCDUYAtGYW",
        "jupyter": {
          "outputs_hidden": true
        },
        "outputId": "a3815ffd-2b0b-4124-ed01-e3f808dc4165",
        "tags": []
      },
      "outputs": [
        {
          "data": {
            "text/plain": [
              "<matplotlib.legend.Legend at 0x7fd0b9858100>"
            ]
          },
          "execution_count": 56,
          "metadata": {},
          "output_type": "execute_result"
        },
        {
          "data": {
            "image/png": "[encoded data removed]",
            "text/plain": [
              "<Figure size 864x576 with 1 Axes>"
            ]
          },
          "metadata": {
            "needs_background": "light"
          },
          "output_type": "display_data"
        }
      ],
      "source": [
        "fig, ax = plt.subplots(figsize=(12,8))\n",
        "ax.plot([0,1,2,3,4],[4,5,3,7,8], label='a')\n",
        "ax.set_title('title')\n",
        "ax.set_ylabel\n",
        "ax.set_xticks([-2,-1,0,1,2])\n",
        "ax.legend(loc='upper left')\n",
        "# fig.tight_layout()"
      ]
    },
    {
      "cell_type": "code",
      "execution_count": null,
      "metadata": {
        "id": "yBJ4_LaLtGYW",
        "outputId": "a5f57a49-73e0-413c-efad-0decded89f66"
      },
      "outputs": [
        {
          "data": {
            "image/png": "[encoded data removed]",
            "text/plain": [
              "<Figure size 576x288 with 2 Axes>"
            ]
          },
          "metadata": {
            "needs_background": "light"
          },
          "output_type": "display_data"
        }
      ],
      "source": [
        "x = np.random.randint(low=1, high=11, size=50)\n",
        "y = x + np.random.randint(1, 5, size=x.size)\n",
        "data = np.column_stack((x, y))\n",
        "\n",
        "fig, (ax1, ax2) = plt.subplots(nrows=1, ncols=2, figsize=(8, 4))\n",
        "\n",
        "ax1.scatter(x=x, y=y, marker='o', c='r', edgecolor='b')\n",
        "ax1.set_title('Scatter: $x$ versus $y$')\n",
        "ax1.set_xlabel('$x$')\n",
        "ax1.set_ylabel('$y$')\n",
        "\n",
        "ax2.hist(data, bins=np.arange(data.min(), data.max()), label=('x', 'y'))\n",
        "ax2.legend(loc=(0.65, 0.8))\n",
        "ax2.set_title('Frequencies of $x$ and $y$')\n",
        "ax2.yaxis.tick_right()"
      ]
    },
    {
      "cell_type": "markdown",
      "metadata": {
        "id": "KkiUpbM1tGYW"
      },
      "source": [
        "## convex hull"
      ]
    },
    {
      "cell_type": "code",
      "execution_count": null,
      "metadata": {
        "id": "KbFFHQawtGYW"
      },
      "outputs": [],
      "source": [
        "from scipy.spatial import ConvexHull\n",
        "\n",
        "#plot epts with convex hull\n",
        "epts1 = mv_load('out/eptsE_media_3d')\n",
        "glc = mlines.Line2D([], [], marker='D', c='tab:green', markersize=7, label='glc')\n",
        "glyc = mlines.Line2D([], [], marker='o', c='tab:blue', markersize=8, label='glc + glyc')\n",
        "pyr = mlines.Line2D([], [], marker='^', c='tab:orange',markersize=10, label='glc + pyr')\n",
        "glu = mlines.Line2D([], [], marker='s', c='tab:brown', markersize=8, label='glc + glu')\n",
        "cit = mlines.Line2D([], [], marker='D', c='tab:cyan',  markersize=7, label='glc + cit')\n",
        "mal = mlines.Line2D([], [], marker='d', c='tab:red',   markersize=8, label='glc + mal')\n",
        "fum = mlines.Line2D([], [], marker='x', c='tab:olive', markersize=10, label='glc + fum')\n",
        "\n",
        "#          ['glyc',       'pyr',        'glc',        'mal',     'fum',      'glu',        'cit']\n",
        "markers =  [ 'o',          '^',          'D',          'd',       'x',        's',          'D']\n",
        "sizes =    [  40,           40,           30,           80,       110,        60,          20]\n",
        "colors =   ['tab:blue', 'tab:orange', 'tab:green', 'tab:red', 'tab:olive', 'tab:brown', 'tab:cyan']\n",
        "facecolors=['tab:blue', 'tab:orange', 'tab:green', 'tab:red', 'tab:olive', 'tab:brown', 'tab:cyan']\n",
        "lines = []\n",
        "colors = ['tab:blue', 'tab:orange', 'tab:green', 'tab:red', 'tab:olive', 'tab:brown', 'tab:cyan']\n",
        "col = 0\n",
        "\n",
        "fig, ax = plt.subplots(figsize=(12,8), dpi=200)\n",
        "for i,key in enumerate(epts1.keys()):\n",
        "    points = epts1[key][0:2,:].T\n",
        "    hull = ConvexHull(points)\n",
        "    for simplex in hull.simplices:\n",
        "        ax.plot(points[simplex, 0], points[simplex, 1], c=colors[i], ls='-')\n",
        "\n",
        "    ax.scatter(list(epts1[key][0,:]),\n",
        "                list(epts1[key][1,:]),\n",
        "                marker=markers[i], s=sizes[i], color=colors[i],\n",
        "                label=key[key.index('0_')+2:key.index('_3')],\n",
        "                alpha=1)\n",
        "\n",
        "\n",
        "\n",
        "plt.xlabel('growth rate [$\\mathregular{h^{-1}}$]')\n",
        "plt.ylabel('acetate production [mmol $\\mathregular{g^{-1}h^{-1}}$]')\n",
        "plt.xticks([0.0,0.1,0.2,0.3,0.4,0.5,0.6,0.7])\n",
        "plt.yticks([0,10,20,30,40,50,60])\n",
        "plt.xlim([0,0.7])\n",
        "plt.ylim([0,60])\n",
        "ax.yaxis.set_minor_locator(MultipleLocator(5))\n",
        "ax.xaxis.set_minor_locator(MultipleLocator(0.05))\n",
        "ax.yaxis.set_ticks_position('both')\n",
        "ax.xaxis.set_ticks_position('both')\n",
        "ax.legend(handles=[glc,glyc,pyr,glu,mal,cit,fum])\n",
        "plt.show"
      ]
    },
    {
      "cell_type": "markdown",
      "metadata": {
        "id": "-L4fLS9VtGYW"
      },
      "source": [
        "## example: housing data"
      ]
    },
    {
      "cell_type": "code",
      "execution_count": null,
      "metadata": {
        "id": "tI1MfnWJtGYX",
        "outputId": "929e1943-2c34-4200-952e-05a04f7f93d1"
      },
      "outputs": [
        {
          "name": "stdout",
          "output_type": "stream",
          "text": [
            "readme:\n",
            " some test dataset containing housing data from california\n",
            "data without supplementary information loaded from:  out/housing.pkl\n"
          ]
        },
        {
          "data": {
            "text/plain": [
              "<AxesSubplot:>"
            ]
          },
          "execution_count": 64,
          "metadata": {},
          "output_type": "execute_result"
        },
        {
          "data": {
            "image/png": "[encoded data removed]",
            "text/plain": [
              "<Figure size 864x576 with 4 Axes>"
            ]
          },
          "metadata": {
            "needs_background": "light"
          },
          "output_type": "display_data"
        }
      ],
      "source": [
        "housing = mv_load('out/housing')\n",
        "y = housing[:, -1]\n",
        "pop, age = housing[:, [4, 7]].T\n",
        "\n",
        "def add_titlebox(ax, text):\n",
        "    ax.text(.55, .8, text,\n",
        "        horizontalalignment='center',\n",
        "        transform=ax.transAxes,\n",
        "        bbox=dict(facecolor='white', alpha=0.6),\n",
        "        fontsize=12.5)\n",
        "    return ax\n",
        "\n",
        "gridsize = (3, 2)\n",
        "fig = plt.figure(figsize=(12, 8))\n",
        "ax1 = plt.subplot2grid(gridsize, (0, 0), colspan=2, rowspan=2)\n",
        "ax2 = plt.subplot2grid(gridsize, (2, 0))\n",
        "ax3 = plt.subplot2grid(gridsize, (2, 1))\n",
        "\n",
        "ax1.set_title('Home value as a function of home age & area population',\n",
        "              fontsize=14)\n",
        "sctr = ax1.scatter(x=age, y=pop, c=y, cmap='RdYlGn')\n",
        "plt.colorbar(sctr, ax=ax1, format='$%d')\n",
        "ax1.set_yscale('log')\n",
        "ax2.hist(age, bins='auto')\n",
        "ax3.hist(pop, bins='auto', log=True)\n",
        "\n",
        "add_titlebox(ax2, 'Histogram: home age')\n",
        "add_titlebox(ax3, 'Histogram: area population (log scl.)')"
      ]
    },
    {
      "cell_type": "markdown",
      "metadata": {
        "id": "bc2xzQGLtGYX"
      },
      "source": [
        "# Workspace"
      ]
    },
    {
      "cell_type": "markdown",
      "metadata": {
        "id": "xASeJUGxtGYY"
      },
      "source": [
        "## JupyterLab"
      ]
    },
    {
      "cell_type": "markdown",
      "source": [
        "### General\n",
        "\n",
        "when not editing a cell, jupyterlab is in *command mode*.\n",
        "when editing a cell, jupyterlab is in *edit mode*.\n",
        "collapse cells or outputs by selecting them and clicking on the blue bar on the left\n",
        "rightclick -> 'Open Variable Inspector', similar to rstudio, needs repr to be installed in the env"
      ],
      "metadata": {
        "id": "Uk2OKjmKPra5"
      }
    },
    {
      "cell_type": "markdown",
      "source": [
        "### Shortcuts\n",
        "https://gist.github.com/discdiver/9e00618756d120a8c9fa344ac1c375ac\n",
        "\n",
        "**in command or edit mode:**\n",
        "Shift + Enter run selected cell or cells - if no cells below, insert a code cell below\n",
        "Ctrl + B toggle hide/show left sidebar\n",
        "Ctrl + S save and checkpoint\n",
        "Ctrl + F find\n",
        "\n",
        "**in command mode:**\n",
        "Enter: enter edit mode in the active cell\n",
        "A: insert a new cell above the active cell\n",
        "B: insert a new cell below the active cell\n",
        "M: make the active cell a Markdown cell\n",
        "Y: make the active cell a code cell\n",
        "Ctrl + A: select all cells\n",
        "X: cut the selected cell or cells\n",
        "C: copy the selected cell or cells\n",
        "V: paste the cell(s) which were copied or cut most recently\n",
        "Shift + M: merge multiple selected cells into one cell\n",
        "DD: delete the active cell\n",
        "Z: undo most recent command mode action\n",
        "\n",
        "**in edit mode:**\n",
        "Esc: enter command mode\n",
        "Tab: code completion (or indent if at start of line)\n",
        "Shift + Tab: tooltip help\n",
        "Ctrl + Shift + -: split the active cell at the cursor"
      ],
      "metadata": {
        "id": "UTy_m0dOPymB"
      }
    },
    {
      "cell_type": "markdown",
      "source": [
        "### Markdown\n",
        "wip\n",
        "\n",
        "\\\\ escape character to use functional signs as normal signs\n",
        "\\# header\n",
        "\\## subheader, usw\n",
        "\\*italic text*\n",
        "\\*\\*bold text**\n",
        "\\*\\*\\*bold and italic text***\n",
        "\\~\\~crossed out text~~\n",
        "\n",
        "new paragraph with 2\\*enter\n",
        "new line with 2\\*spacebar after previous line\n",
        "\n",
        "horizontal ine with \\-\\-\\-\n",
        "lists with 1\\. entry, 2\\. entry usw\n",
        "unordered lists with \\-entry1, \\-entry2 usw\n",
        "example table:\n",
        "\n",
        "|Header|Header|Header|\n",
        "|------|------|------|\n",
        "|A     |B     |C     |\n",
        "|X     |Y     |Z     |"
      ],
      "metadata": {
        "id": "QBfvfWMQP6fY"
      }
    },
    {
      "cell_type": "markdown",
      "metadata": {
        "id": "ap1BRRbHtGYX"
      },
      "source": [
        "## Files"
      ]
    },
    {
      "cell_type": "markdown",
      "metadata": {
        "id": "8e9CmKb9tGYX"
      },
      "source": [
        "### read/write"
      ]
    },
    {
      "cell_type": "code",
      "execution_count": null,
      "metadata": {
        "id": "cwLZTlu7tGYX",
        "colab": {
          "base_uri": "https://localhost:8080/",
          "height": 235
        },
        "outputId": "4fa70248-f3f0-4e19-cdca-e5cc17e0c379"
      },
      "outputs": [
        {
          "output_type": "error",
          "ename": "FileNotFoundError",
          "evalue": "ignored",
          "traceback": [
            "\u001b[0;31m---------------------------------------------------------------------------\u001b[0m",
            "\u001b[0;31mFileNotFoundError\u001b[0m                         Traceback (most recent call last)",
            "\u001b[0;32m<ipython-input-1-4a2ea0e7d08a>\u001b[0m in \u001b[0;36m<cell line: 3>\u001b[0;34m()\u001b[0m\n\u001b[1;32m      1\u001b[0m \u001b[0;31m# tutorial: https://realpython.com/read-write-files-python/\u001b[0m\u001b[0;34m\u001b[0m\u001b[0;34m\u001b[0m\u001b[0m\n\u001b[1;32m      2\u001b[0m \u001b[0;31m# reading\u001b[0m\u001b[0;34m\u001b[0m\u001b[0;34m\u001b[0m\u001b[0m\n\u001b[0;32m----> 3\u001b[0;31m \u001b[0mfile\u001b[0m \u001b[0;34m=\u001b[0m \u001b[0mopen\u001b[0m\u001b[0;34m(\u001b[0m\u001b[0;34m'folder/filename.txt'\u001b[0m\u001b[0;34m)\u001b[0m\u001b[0;34m\u001b[0m\u001b[0;34m\u001b[0m\u001b[0m\n\u001b[0m\u001b[1;32m      4\u001b[0m \u001b[0mfile\u001b[0m\u001b[0;34m.\u001b[0m\u001b[0mclose\u001b[0m\u001b[0;34m(\u001b[0m\u001b[0;34m)\u001b[0m\u001b[0;34m\u001b[0m\u001b[0;34m\u001b[0m\u001b[0m\n\u001b[1;32m      5\u001b[0m \u001b[0;31m# prefered(this automatically closes the file even if errors occur):\u001b[0m\u001b[0;34m\u001b[0m\u001b[0;34m\u001b[0m\u001b[0m\n",
            "\u001b[0;31mFileNotFoundError\u001b[0m: [Errno 2] No such file or directory: 'folder/filename.txt'"
          ]
        }
      ],
      "source": [
        "# tutorial: https://realpython.com/read-write-files-python/\n",
        "# reading\n",
        "file = open('folder/filename.txt')\n",
        "file.close()\n",
        "# prefered(this automatically closes the file even if errors occur):\n",
        "with open('folder/filename.txt', 'r') as file:   # args: r=read, w=write, rb=read binary, wb=write binary\n",
        "    # example1:\n",
        "    print(file.read())  # reads and prints entire file\n",
        "\n",
        "    # example2:\n",
        "    print(file.readline(5))  # reads first 5 characters of current line\n",
        "    print(file.readline(5))  # continues with the next 5 characters or starts with the next line\n",
        "\n",
        "    # example3:\n",
        "    print(list(file))  # does the same\n",
        "\n",
        "    # example4:\n",
        "    line = reader.readline()  # set 'line' as the first line in the file\n",
        "    while line != '':  # the while loop stops at the end of the file because the end\n",
        "                       #  of file character (EOF) is an empty string ('')\n",
        "        print(line, end='')  # each line ends with a linebreak. print() would add\n",
        "                             #  another linebreak if we dont use the argument end=''\n",
        "        line = file.readline()  # set 'line' as the next line in the file\n",
        "\n",
        "    # example5:\n",
        "    for line in file:  # does the same as example 4\n",
        "        print(line, end='')\n",
        "\n",
        "\n",
        "#writing\n",
        "with open('folder/filename.txt', 'r') as file:\n",
        "    text = file.readlines()\n",
        "with open('folder/filename_reversed.txt', 'w') as file:\n",
        "    for line in reversed(text):  # to write the text in reverse order\n",
        "        file.write(line)"
      ]
    },
    {
      "cell_type": "markdown",
      "metadata": {
        "id": "thwOh0T_tGYX"
      },
      "source": [
        "### save/load data"
      ]
    },
    {
      "cell_type": "code",
      "execution_count": null,
      "metadata": {
        "id": "DY4BrULdtGYX"
      },
      "outputs": [],
      "source": [
        "import numpy as np\n",
        "import pandas as pd\n",
        "import pickle\n",
        "import os\n",
        "\n",
        "#list as .txt\n",
        "list1 = [f'random number: {random.randint(0, 100)}' for x in range(20)]\n",
        "\n",
        "with open('samples/list.txt', 'w') as file:\n",
        "    for line in list1:\n",
        "        file.write(f'{line}\\n')\n",
        "\n",
        "with open(f'samples/list.txt', 'r') as file:\n",
        "    list1 = [line.replace('\\n', '') for line in file]\n",
        "\n",
        "\n",
        "#numpy arrays as .npy, .txt, .csv\n",
        "numpy_array = np.array([[x*y for x in range(5)] for y in range(6)])\n",
        "\n",
        "np.save('samples/array.npy', numpy_array)\n",
        "np.savetxt(\"samples/array.txt\", numpy_array, delimiter=\",\")\n",
        "np.savetxt(\"samples/array.csv\", numpy_array, delimiter=\",\")\n",
        "\n",
        "numpy_array = np.load('samples/array.npy')\n",
        "numpy_array = np.loadtxt('samples/array.txt', delimiter=\",\")\n",
        "numpy_array = np.loadtxt('samples/array.csv', delimiter=\",\")\n",
        "\n",
        "\n",
        "\n",
        "#pandas dataframes as .csv, .xlsx\n",
        "df = pd.DataFrame([(1, 2.0, 'Hello', True), (2, 3.0, 'World', False)],\n",
        "                  index=['A', 'B'],\n",
        "                  columns=[1, 2, 3, 4])\n",
        "\n",
        "df.to_csv('samples/df.csv', index=True)\n",
        "df.to_excel('samples/df.xlsx', index=True)\n",
        "\n",
        "df = pd.read_csv('samples/df.csv', index_col=0)\n",
        "df = pd.read_excel('samples/df.xlsx', index_col=0)\n",
        "\n",
        "\n",
        "\n",
        "#any object as .pkl\n",
        "dict1 = {\"name\": \"Herbert\", \"age\": 22, \"height\": 172}\n",
        "\n",
        "with open('samples/dict.pkl', 'wb') as file:\n",
        "        pickle.dump(dict1, file)\n",
        "with open('samples/dict.pkl', 'rb') as file:\n",
        "        dict1 = pickle.load(file)\n",
        "\n",
        "\n",
        "#access multiple files\n",
        "arrays = {}\n",
        "for filename in os.listdir('folder'):\n",
        "     if filename.endswith('.npy'):\n",
        "        arrays[filename] = np.load(filename)"
      ]
    },
    {
      "cell_type": "code",
      "execution_count": null,
      "metadata": {
        "id": "cK4KO9r_tGYY"
      },
      "outputs": [],
      "source": [
        "#test data\n",
        "integer = 1\n",
        "boolean = True\n",
        "dict1 = {\"name\": \"Herbert\", \"age\": 22, \"height\": 172, 1: \"id\"}\n",
        "list1 = [0, 1, 2, \"abc\"]\n",
        "list2 = [[0,1,2], ['a', 'b'], [True, True, False], 0, 0.2, 'a', True, dict1]\n",
        "array1 = [(1, 2.0, \"Hello\"), (2, 3.0, \"World\")]\n",
        "array2 = np.array(array1)\n",
        "dict2 = {\"id\": \"a5\", \"contents\": list2, 'date': 2021}\n",
        "df1 = pd.DataFrame(array1, index=[\"X\", \"Y\"], columns=[\"A\", \"B\", 3])\n",
        "\n",
        "data = {'int': integer, 'boolean': boolean, 'dict1': dict1, 'dict2': dict2, 'list1': list1,\n",
        "        'list2': list2, 'array': array1, 'array2': array2, 'dataframe': df1}"
      ]
    },
    {
      "cell_type": "code",
      "source": [],
      "metadata": {
        "id": "iwcYH2QMciKV"
      },
      "execution_count": null,
      "outputs": []
    },
    {
      "cell_type": "code",
      "source": [],
      "metadata": {
        "id": "o4DLCFhQciNe"
      },
      "execution_count": null,
      "outputs": []
    },
    {
      "cell_type": "code",
      "source": [],
      "metadata": {
        "id": "RS1_BI7BciQX"
      },
      "execution_count": null,
      "outputs": []
    },
    {
      "cell_type": "code",
      "source": [],
      "metadata": {
        "id": "I34fWYHZciTV"
      },
      "execution_count": null,
      "outputs": []
    },
    {
      "cell_type": "code",
      "source": [],
      "metadata": {
        "id": "ir0MNiI9ciWH"
      },
      "execution_count": null,
      "outputs": []
    },
    {
      "cell_type": "code",
      "source": [],
      "metadata": {
        "id": "slF1IbBEciYT"
      },
      "execution_count": null,
      "outputs": []
    },
    {
      "cell_type": "markdown",
      "source": [
        "## mounting google drive"
      ],
      "metadata": {
        "id": "jwrQVkcyPqlp"
      }
    },
    {
      "cell_type": "code",
      "source": [
        "import os\n",
        "import sys\n",
        "from google.colab import drive\n",
        "\n",
        "drive.mount('/content/drive')\n",
        "\n",
        "sys.path.append('/content/drive/MyDrive/coding/Python/Compendium')  #allows looking for scripts in that directory\n",
        "os.chdir('/content/drive/MyDrive/coding/Python/Compendium')\n",
        "import mv_functions as mv"
      ],
      "metadata": {
        "id": "M14izIRtPykf",
        "colab": {
          "base_uri": "https://localhost:8080/"
        },
        "outputId": "20e6905e-486e-4443-fbf0-7c758750ee97"
      },
      "execution_count": null,
      "outputs": [
        {
          "output_type": "stream",
          "name": "stdout",
          "text": [
            "Mounted at /content/drive\n",
            "Drive already mounted at /content/drive; to attempt to forcibly remount, call drive.mount(\"/content/drive\", force_remount=True).\n"
          ]
        }
      ]
    },
    {
      "cell_type": "code",
      "source": [
        "os.chdir('/content/drive/MyDrive/coding/Python/Compendium')\n",
        "!ls -a\n"
      ],
      "metadata": {
        "colab": {
          "base_uri": "https://localhost:8080/"
        },
        "id": "K7X32znUwD5r",
        "outputId": "25f0a9f3-1bd0-401d-9fcd-2b1709590a35"
      },
      "execution_count": null,
      "outputs": [
        {
          "output_type": "stream",
          "name": "stdout",
          "text": [
            ".git\n"
          ]
        }
      ]
    },
    {
      "cell_type": "code",
      "source": [
        "!git init Compendium"
      ],
      "metadata": {
        "colab": {
          "base_uri": "https://localhost:8080/"
        },
        "id": "BrRViIQeyYq5",
        "outputId": "ca20ce48-2265-4989-d63f-c1bd666473cc"
      },
      "execution_count": null,
      "outputs": [
        {
          "output_type": "stream",
          "name": "stdout",
          "text": [
            "Initialized empty Git repository in /content/drive/MyDrive/coding/Python/Compendium/.git/\n"
          ]
        }
      ]
    },
    {
      "cell_type": "code",
      "source": [],
      "metadata": {
        "id": "Dapfx5J2yYwr"
      },
      "execution_count": null,
      "outputs": []
    },
    {
      "cell_type": "markdown",
      "source": [
        "## Github"
      ],
      "metadata": {
        "id": "7Gd9dBi8y1pU"
      }
    },
    {
      "cell_type": "code",
      "source": [
        "import os\n",
        "import sys\n",
        "from google.colab import drive\n",
        "\n",
        "drive.mount('/content/drive')\n",
        "os.chdir('/content/drive/MyDrive/coding/Python/Compendium')"
      ],
      "metadata": {
        "id": "hFvmD9nqy6YQ"
      },
      "execution_count": null,
      "outputs": []
    },
    {
      "cell_type": "code",
      "source": [
        "!git status"
      ],
      "metadata": {
        "colab": {
          "base_uri": "https://localhost:8080/"
        },
        "id": "0aRPuDDDy6cg",
        "outputId": "adbbee88-22b6-4d57-dc80-4a27396b10e7"
      },
      "execution_count": null,
      "outputs": [
        {
          "output_type": "stream",
          "name": "stdout",
          "text": [
            "On branch master\n",
            "\n",
            "No commits yet\n",
            "\n",
            "nothing to commit (create/copy files and use \"git add\" to track)\n"
          ]
        }
      ]
    },
    {
      "cell_type": "code",
      "source": [],
      "metadata": {
        "id": "ZLmHI2cqy6g0"
      },
      "execution_count": null,
      "outputs": []
    },
    {
      "cell_type": "markdown",
      "metadata": {
        "id": "3CG__iqltGYY"
      },
      "source": [
        "## os, sys, shutil libraries"
      ]
    },
    {
      "cell_type": "code",
      "execution_count": null,
      "metadata": {
        "id": "GJicaknUtGYY",
        "outputId": "3607a52a-af42-412a-c901-596cc502221e"
      },
      "outputs": [
        {
          "data": {
            "text/plain": [
              "0"
            ]
          },
          "execution_count": 48,
          "metadata": {},
          "output_type": "execute_result"
        }
      ],
      "source": [
        "import os\n",
        "import shutil\n",
        "import subprocess\n",
        "\n",
        "\n",
        "os.system('mkdir folder')  #bash commands from notebook\n",
        "path = os.getcwd()\n",
        "folder = path.split('/')[-1]  #name of current folder\n",
        "files = os.listdir(path)  #all files in folder\n",
        "os.chdir('zz_convhull')   # Change current working directory\n",
        "os.chdir('/home/users/mvoelkl')\n",
        "os.chdir('./')\n",
        "os.mkdir('folder')\n",
        "if not os.path.exists('path'):  #check if file exists\n",
        "    os.mkdir('path')\n",
        "os.path.isdir('path')\n",
        "sys.path.append('/home/users/mvoelkl')  #append to path\n",
        "\n",
        "shutil.copy('path1', 'path2')\n",
        "shutil.copytree('source_folder', 'destination_folder', dirs_exist_ok=True)\n",
        "\n",
        "list_of_files = subprocess.run(['ls', '-la'], capture_output=True, text=True)\n",
        "print(list_of_files.stdout)"
      ]
    },
    {
      "cell_type": "code",
      "execution_count": null,
      "metadata": {
        "id": "c9qPO6U-tGYY",
        "outputId": "d9ca36b9-4517-4eca-e544-d7c718300b35"
      },
      "outputs": [
        {
          "name": "stdout",
          "output_type": "stream",
          "text": [
            "finished\n"
          ]
        }
      ],
      "source": [
        "import os\n",
        "import shutil\n",
        "import subprocess\n",
        "\n",
        "p = subprocess.Popen([sys.executable, '-c', 'import time; time.sleep(100)'], stdout=subprocess.PIPE, stderr=subprocess.STDOUT); print('finished')"
      ]
    },
    {
      "cell_type": "markdown",
      "metadata": {
        "id": "F2does84tGYY"
      },
      "source": [
        "## Bash\n",
        "\n",
        "ls # list contents of directory\n",
        "\n",
        "mkdir # make a new directory\n",
        "\n",
        "man [name of command] # open manual of a command\n",
        "\n",
        "cd # move to a different directory\n",
        "\n",
        "clear # remove previous outputs from terminal\n",
        "\n",
        "cp -r  #copy folders\n",
        "\n",
        "find ./ -type f -name \"filename.jar\"  #find files, the first arg says were to start looking (in this case in the current folder)\n",
        "\n",
        "rm -rf ./envs/ecmtool_convhull # remove folder even though its not empty\n",
        "\n",
        "pwd # show path to current working directory\n",
        "\n",
        "htop # show processes\n",
        "\n",
        "history # show last commands\n",
        "\n",
        "lscpu  #show cpu information (n cores.....)\n",
        "\n",
        "zip -r target.zip file\n",
        "\n",
        "unzip file.zip\n",
        "\n",
        "du -h -d1  #shows disc usage 1 level deep (d2 = 2 levels deep)\n",
        "\n",
        "\n",
        "## conda environments\n",
        "conda create --prefix envs/solvers3 python=3.8\n",
        "\n",
        "conda activate envs/solvers3/\n",
        "\n",
        "pip install networkx matplotlib cameo[all] seaborn pandas numexpr matplotlib scipy lxml scikit-learn xlrd pandoc statsmodels biopython equilibrator-cache equilibrator-api tornado==5.1.1 ipywidgets python-igraph cplex pygraphviz pypandoc --use-feature=2020-resolver\n",
        "\n",
        "python -m pip install -i https://pypi.gurobi.com gurobipy\n",
        "\n",
        "python -m ipykernel install --user --name 'solvers3' --display-name \"Python 3 (MeMo)\"\n",
        "\n",
        "\n",
        "## GNU screen\n",
        "for long calculations (will continue running when jupyterlab or safari is closed):\n",
        "\n",
        "screen -S ecm  # opens a kernel(?) named ecm\n",
        "screen -ls # shows active kernels(?)\n",
        "\n",
        "\"strg + a\" then \"strg + d\" to detachrandfrom the kernel(?). it will continue running\n",
        "\n",
        "screen -r ecm # reconnect to kernel(?) named ec\n",
        "\n",
        "\n",
        "## run notebook in terminal\n",
        "jupyter nbconvert --execute --to notebook -- inplace <notebook>"
      ]
    },
    {
      "cell_type": "markdown",
      "metadata": {
        "id": "EsBNiGaHtGYZ"
      },
      "source": [
        "## Magics (mostly for using Bash from notebook)\n",
        "\n",
        "https://ipython.readthedocs.io/en/stable/interactive/magics.html"
      ]
    },
    {
      "cell_type": "code",
      "execution_count": null,
      "metadata": {
        "id": "gQrfxgYwtGYZ",
        "outputId": "2880b846-5012-4bfc-c29c-306acd9286be"
      },
      "outputs": [
        {
          "name": "stdout",
          "output_type": "stream",
          "text": [
            "[Errno 2] No such file or directory: 'models'\n",
            "/home/users/mvoelkl/models\n",
            "['/home/users/mvoelkl/models']\n",
            "hello\n"
          ]
        }
      ],
      "source": [
        "#linemagics\n",
        "\n",
        "!pwd   # execute bash command in a temporary subshell\n",
        "%cd models # this is more permanent\n",
        "directory = !pwd\n",
        "print(directory)\n",
        "!ls *.csv\n",
        "files = !ls\n",
        "%who  #lists all variables with global scope\n",
        "%who str  #lists only those which are strings\n",
        "%prun mv_cont(directory)  #shows which internal statements mv_cont() uses and meassures time\n",
        "%pdb  #calls python debugger\n",
        "%history  #code from all cells that were executed\n",
        "%load  #loads code from file(or URL) into cell\n",
        "%run test.py  #runs script in shell with empty mainspace\n",
        "%run -i test2.py  #inherit namespace from notebook\n",
        "%run -t test2.py  #times the script\n",
        "\n",
        "text = \"hello\"\n",
        "!echo {text}"
      ]
    },
    {
      "cell_type": "code",
      "execution_count": null,
      "metadata": {
        "id": "afeoBZzZtGYZ"
      },
      "outputs": [],
      "source": [
        "#cell magics\n",
        "\n",
        "%%writefile test.py  #write contents of a cell to a file\n",
        "%%bash  #runs cell contents in shell\n",
        "%%bash --bg  runs it in background\n",
        "head chm_mvedit.py\n",
        "cd models\n",
        "pwd\n",
        "cd ..\n",
        "pwd\n",
        "\n",
        "\n",
        "\n",
        "%%python --bg\n",
        "import time\n",
        "print('test')\n",
        "time.sleep(5)\n",
        "print('test2')\n",
        "\n",
        "%%time  #times the whole cell"
      ]
    },
    {
      "cell_type": "code",
      "execution_count": null,
      "metadata": {
        "id": "ieJoEMbztGYZ",
        "outputId": "14fc363d-7474-4e39-a9a4-955241858fd9"
      },
      "outputs": [
        {
          "name": "stdout",
          "output_type": "stream",
          "text": [
            "Overwriting test2.py\n"
          ]
        }
      ],
      "source": [
        "%%writefile test2.py\n",
        "import time\n",
        "name = 'test'\n",
        "\n",
        "start = time.time()\n",
        "stop1 = round(time.time() - start, 3)\n",
        "\n",
        "with open(f'{name}1.txt', 'w') as file:\n",
        "    file.write(str(stop1))\n",
        "\n",
        "time.sleep(10)\n",
        "\n",
        "stop2 = round(time.time() - start, 3)\n",
        "with open(f'{name}2.txt', 'w') as file:\n",
        "    file.write(str(stop2))"
      ]
    },
    {
      "cell_type": "markdown",
      "metadata": {
        "id": "VsUjG4UZtGYZ"
      },
      "source": [
        "## pip/conda packages"
      ]
    },
    {
      "cell_type": "code",
      "execution_count": null,
      "metadata": {
        "id": "-s4XqY1itGYZ"
      },
      "outputs": [],
      "source": [
        "pip install repr  #for variable inspector\n",
        "pip install ipympl  #for command: %matplotlib widget"
      ]
    },
    {
      "cell_type": "markdown",
      "metadata": {
        "id": "NUNgjZ4qtGYZ"
      },
      "source": [
        "# Libraries"
      ]
    },
    {
      "cell_type": "markdown",
      "source": [
        "## machine learning"
      ],
      "metadata": {
        "id": "RBC84MgvumLL"
      }
    },
    {
      "cell_type": "code",
      "source": [
        "from sklearn.kernel_ridge import KernelRidge\n",
        "from sklearn.model_selection import train_test_split\n",
        "from sklearn.model_selection import RepeatedKFold"
      ],
      "metadata": {
        "id": "_Tr9SiISurVy"
      },
      "execution_count": null,
      "outputs": []
    },
    {
      "cell_type": "markdown",
      "metadata": {
        "id": "NhBkt6ZptGYa"
      },
      "source": [
        "## Cobrapy"
      ]
    },
    {
      "cell_type": "code",
      "execution_count": null,
      "metadata": {
        "id": "ndT90YDctGYa"
      },
      "outputs": [],
      "source": [
        "from cobra.flux_analysis import flux_variability_analysis as fva\n",
        "\n",
        "#read/write model from .xml file with SBML format\n",
        "model = cobra.io.read_sbml_model(\"models/yeast/iND750.xml\")\n",
        "cobra.io.write_sbml_model(model, \"models/yeast/iND750_mod.xml\")\n",
        "\n",
        "#read/write model from .mat\n",
        "model = cobra.io.load_matlab_model(\"models/iJO1366.mat\")\n",
        "\n",
        "#read/write model from .json file (used for: https://sbrg.github.io/escher-fba/#/app)\n",
        "model = cobra.io.load_json_model(\"models/yeast/iND750.json\")\n",
        "cobra.io.save_json_model(model, \"models/yeast/iND750.json\")\n",
        "\n",
        "\n",
        "#general\n",
        "old_model = model.copy()\n",
        "\n",
        "\n",
        "#reactions and metabolites\n",
        "model.reactions[]\n",
        "model.exchanges[]\n",
        "model.metabolites[]\n",
        "model.metabolites.get_by_id(\"ala__L_e\")\n",
        "\n",
        "\n",
        "# reactions\n",
        "model.reactions[].reaction  # string representation\n",
        "model.reactions[].metabolites  # metabolites and their stoichiometric coeff that make up a reaction\n",
        "model.reactions[].get_coefficient(\"metabolite_ID\")  # get the stoichiometric coeff of a metabolite in a reaction\n",
        "model.reactions[].add_metabolites({\"BM_DV\":-1}) # add dictionary with new metabolites and coefficients or change existing coefficients\n",
        "model.reactions[].lower_bound=-1000\n",
        "model.reactions[].upper_bound=1\n",
        "\n",
        "#add new reactions\n",
        "A = Metabolite('A', name='A', compartment='e')\n",
        "M = Metabolite('M', name='M', compartment='c')\n",
        "R_1 = Reaction(\"R_1\")\n",
        "R_1.add_metabolites({A: -1.0, M:  1.0})\n",
        "model.add_reactions([R_1])\n",
        "\n",
        "\n",
        "#FBA\n",
        "model.objective = 'ATPM' # the objective function to optimize\n",
        "model.optimize() # optimize all fluxes so that the objective function reaches maximum\n",
        "model.summary()  # give a summary of the optimized model\n",
        "\n",
        "\n",
        "\n",
        "#FVA\n",
        "fva(model, model.reactions[0:10], fraction_of_optimum=1) #calculates the minimum and maximum reaction rates of\n",
        "    # reactions 0-10 that reach the specified fraction of the optimum objective function"
      ]
    },
    {
      "cell_type": "markdown",
      "metadata": {
        "id": "vfgfqP83tGYa"
      },
      "source": [
        "### create toy model"
      ]
    },
    {
      "cell_type": "code",
      "execution_count": null,
      "metadata": {
        "id": "zSFyZ6vdtGYa"
      },
      "outputs": [],
      "source": [
        "# create test model\n",
        "model = Model('toy')\n",
        "\n",
        "# create metabolites\n",
        "A = Metabolite(\n",
        "    'A',\n",
        "    name='A',\n",
        "    compartment='e')\n",
        "\n",
        "B = Metabolite(\n",
        "    'B',\n",
        "    name='B',\n",
        "    compartment='e')\n",
        "\n",
        "M = Metabolite(\n",
        "    'M',\n",
        "    name='M',\n",
        "    compartment='c')\n",
        "\n",
        "Bio = Metabolite(\n",
        "    'Bio',\n",
        "    name='Biomass',\n",
        "    compartment='e')\n",
        "\n",
        "# create reactions\n",
        "R_1 = Reaction(\"R_1\")\n",
        "R_1.add_metabolites({A: -1.0,\n",
        "                     M:  1.0})\n",
        "\n",
        "R_2 = Reaction(\"R_2\")\n",
        "R_2.add_metabolites({B: -1.0,\n",
        "                     M:  1.0})\n",
        "\n",
        "R_3 = Reaction(\"R_3\")\n",
        "R_3.add_metabolites({M:  -1.0,\n",
        "                     Bio: 1.0})\n",
        "\n",
        "model.add_reactions([R_1, R_2, R_3])\n",
        "\n",
        "\n",
        "# create exchanges\n",
        "model.add_boundary(model.metabolites.get_by_id(\"A\"), type=\"exchange\")\n",
        "model.add_boundary(model.metabolites.get_by_id(\"B\"), type=\"exchange\")\n",
        "model.add_boundary(model.metabolites.get_by_id(\"Bio\"), type=\"demand\")\n",
        "\n",
        "# set objective function\n",
        "model.objective = 'DM_Bio'\n",
        "\n",
        "#adjusting bounds\n",
        "model.reactions[0].upper_bound=3\n",
        "model.reactions[1].lower_bound=-1000\n",
        "model.reactions[1].upper_bound=1\n",
        "model.reactions[2].upper_bound=2\n",
        "\n",
        "# save model\n",
        "cobra.io.write_sbml_model(model, \"models/toy.xml\")\n",
        "mvc_write_SBML_as_int(model, path='models/toy')\n",
        "\n",
        "print(\"model created!\")\n",
        "\n",
        "mvc_overview(model, mvc_rec_inds(model))"
      ]
    },
    {
      "cell_type": "markdown",
      "metadata": {
        "id": "R8vDwOdZtGYa"
      },
      "source": [
        "### mv_functions.py"
      ]
    },
    {
      "cell_type": "code",
      "execution_count": null,
      "metadata": {
        "collapsed": true,
        "id": "gtbeT-B7tGYa",
        "jupyter": {
          "outputs_hidden": true
        },
        "outputId": "99dd5a8f-b2a3-4919-c23e-aa6790a104b8",
        "tags": []
      },
      "outputs": [
        {
          "name": "stdout",
          "output_type": "stream",
          "text": [
            "id                  index     lower     upper     reaction\n",
            "id                  index     lower     upper     reaction\n",
            "BIOMASS_SC4_bal     1264      0.0       999999.0  1.1348 13BDglcn_c + 0.4588 ala__L_c + 0.046 amp_c \n",
            "                                                  + 0.1607 arg__L_c + 0.1017 asn__L_c + 0.2975 asp__\n",
            "                                                  L_c + 59.276 atp_c + 0.0447 cmp_c + 0.0066 cys__L_\n",
            "                                                  c + 0.0036 damp_c + 0.0024 dcmp_c + 0.0024 dgmp_c \n",
            "                                                  + 0.0036 dtmp_c + 0.0007 ergst_c + 0.1054 gln__L_c\n",
            "                                                   + 0.3018 glu__L_c + 0.2904 gly_c + 0.5185 glycoge\n",
            "                                                  n_c + 0.046 gmp_c + 59.276 h2o_c + 0.0663 his__L_c\n",
            "                                                   + 0.1927 ile__L_c + 0.2964 leu__L_c + 0.2862 lys_\n",
            "                                                  _L_c + 0.8079 mannan_c + 0.0507 met__L_c + 6e-06 p\n",
            "                                                  a_SC_c + 6e-05 pc_SC_c + 4.5e-05 pe_SC_c + 0.1339 \n",
            "                                                  phe__L_c + 0.1647 pro__L_c + 1.7e-05 ps_SC_c + 5.3\n",
            "                                                  e-05 ptd1ino_SC_c + 0.1854 ser__L_c + 0.02 so4_c +\n",
            "                                                   0.1914 thr__L_c + 0.0234 tre_c + 6.6e-05 triglyc_\n",
            "                                                  SC_c + 0.0284 trp__L_c + 0.102 tyr__L_c + 0.0599 u\n",
            "                                                  mp_c + 0.2646 val__L_c + 0.0015 zymst_c --> 59.276\n",
            "                                                   adp_c + 58.7162 h_c + 59.305 pi_c\n"
          ]
        },
        {
          "data": {
            "text/plain": [
              "'1 reactions displayed'"
            ]
          },
          "execution_count": 4,
          "metadata": {},
          "output_type": "execute_result"
        }
      ],
      "source": [
        "#mv_functions contains some functions for working with cobra (among other things)\n",
        "from mv_functions import *\n",
        "model = cobra.io.read_sbml_model(\"models/yeast/iND750.xml\")\n",
        "\n",
        "\n",
        "#get stuff\n",
        "mvco_find_met(model, 'o2')  #indexes of all metabolites containing o2 in their id\n",
        "mvco_find_rec(model, 'o2')  #indexes of all reactions containing o2 in their id\n",
        "mvco_find_rec(model, [\"BM\", \"biomass\", \"Biomass\", 'BIO'])  #supports multiple searchterms\n",
        "mvco_find_rec(model, 'o2')  #index of one reaction containing o2 in their id\n",
        "rec_inds, met_inds = mvco_find_rel(model, 'o2', verbose=False) #tries to find all reactions\n",
        "    # and metabolites in the model that are \"related\" to a search term,\n",
        "    # meaning that the searchterm appears in their name or stoichiometry\n",
        "mvco_rec_ids(model)  #ids of all reactions\n",
        "mvco_rec_inds(model)  #indexes of all reactions\n",
        "\n",
        "\n",
        "#overview function\n",
        "mvco_overview(model, mvco_rec_inds(model))  #overview over all reactions\n",
        "mvco_overview(model, mvco_find_rec(model, \"BM\"))  #overview for all reactions with BM in name\n",
        "mvco_overview(model, mvco_find_rec(model, [\"BM\", \"biomass\", \"Biomass\", 'BIO']))  #works with multiple searchterms, doesnt add duplicates"
      ]
    },
    {
      "cell_type": "markdown",
      "metadata": {
        "id": "RjRqdSN8tGYa"
      },
      "source": [
        "## Networkx"
      ]
    },
    {
      "cell_type": "code",
      "execution_count": null,
      "metadata": {
        "id": "mU5mwbXCtGYa"
      },
      "outputs": [],
      "source": [
        "#generating Graphs\n",
        "G = nx.Graph()\n",
        "G = nx.DiGraph()\n",
        "G2 = nx.erdos_renyi_graph(50, p = 0.3) #random graph with 50 nodes and link propability 0.3\n",
        "G = nx.scale_free_graph(50) #adds 50 nodes\n",
        "\n",
        "my_matrix = np.loadtxt(\"/home/users/hherrmann/AdjacencyMatrix.txt\")  #from adjacency matrix\n",
        "G = nx.from_numpy_matrix(my_matrix)\n",
        "\n",
        "edgelist = np.loadtxt(\"/home/users/hherrmann/Rain2001_Hpylori_PPI.txt\",  dtype=str)  #from edgelist\n",
        "G_pylori = nx.Graph()\n",
        "G_pylori.add_edges_from(edgelist)\n",
        "\n",
        "\n",
        "#add edges (also adds nodes)\n",
        "G.add_edges_from([(\"RuBP\", \"PGA_h\"), (\"PGA_c\", \"PEP\"), (\"PEP\", \"Mal\"), (\"PEP\", \"Pyr\"), (\"Mal\", \"Pyr\"), (\"Mal\", \"Fur\")])\n",
        "\n",
        "\n",
        "#graph info\n",
        "print(\"number of nodes:\", len(list(G.nodes)))\n",
        "print(\"number of edges:\", len(list(G.edges)))\n",
        "print(\"diameter:\", nx.algorithms.distance_measures.diameter(G, e=None, usebounds=False))\n",
        "print(\"average shortest path length:\", nx.algorithms.average_shortest_path_length(G, weight=None, method=None))\n",
        "print(\"average clustering coeffizient:\", nx.average_clustering(G))\n",
        "print(\"clustering coeffizients of selected nodes:\", nx.clustering(G,[2, 33, 48, 65]))\n",
        "print(\"transitivity:\", nx.transitivity(G))\n",
        "#uses function from further down\n",
        "print(\"highest degree in the network: \", degree_highest_val(G))\n",
        "print(\"node/s with highest degree: \", degree_highest(G))\n",
        "print(\"lowest degree in the network: \", degree_lowest_val(G))\n",
        "print(\"node/s with lowest degree: \", degree_lowest(G))\n",
        "\n",
        "\n",
        "#draw graphs\n",
        "nx.draw(G, with_labels=True, font_weight='bold')\n",
        "\n",
        "\n",
        "#functions\n",
        "#1 clusters\n",
        "x = 0\n",
        "for n in G:\n",
        "    if nx.clustering(G,n) > x:\n",
        "        x = nx.clustering(G,n)\n",
        "print(\"the highest clustering coefficient is:\", x)\n",
        "clusternodes = []\n",
        "for n in G:\n",
        "    if nx.clustering(G,n) == x:\n",
        "        clusternodes.append(n)\n",
        "print(\"the nodes with the highest clustering coefficients are:\", clusternodes)\n",
        "clusters = list(nx.algorithms.community.greedy_modularity_communities(G))\n",
        "print(\"number of clusters:\", len(clusters))\n",
        "for i in range(len(clusters)):\n",
        "    print(\"number of nodes in cluster {}: {}\".format(i, len(clusters[i])))\n",
        "#2 degree\n",
        "def degree_dist(G):\n",
        "    \"\"\"make a list with the degree distribution (first element is the number of nodes with degree 0, second with degree 1, etc.)\"\"\"\n",
        "    degrees = []\n",
        "    for i in range(degree_highest_val(G_pylori) + 1):\n",
        "        count = 0\n",
        "        for n in G_pylori:\n",
        "            if G_pylori.degree[n] == i: count = count + 1\n",
        "        degrees.append(count)\n",
        "    return(degrees)\n",
        "\n",
        "def degree_highest_val(G):\n",
        "    \"\"\"returns highest degree in the network.\"\"\"\n",
        "    x = 0\n",
        "    for n in G:\n",
        "        if G.degree[n] > x:\n",
        "            x = G.degree[n]\n",
        "    return(x)\n",
        "\n",
        "def degree_highest(G):\n",
        "    \"\"\"returns nodes with the highest degree.\"\"\"\n",
        "    x = degree_highest_val(G)\n",
        "    clusternodes = []\n",
        "    for n in G:\n",
        "        if G.degree[n] == x:\n",
        "            clusternodes.append(n)\n",
        "    return(clusternodes)\n",
        "\n",
        "def degree_lowest_val(G):\n",
        "    \"\"\"returns lowest degree in the network.\"\"\"\n",
        "    x = len(list(G.nodes))\n",
        "    for n in G:\n",
        "        if G.degree[n] < x:\n",
        "            x = G.degree[n]\n",
        "    return(x)\n",
        "\n",
        "def degree_lowest(G):\n",
        "    \"\"\"returns nodes of lowest degree.\"\"\"\n",
        "    x = degree_lowest_val(G)\n",
        "    clusternodes = []\n",
        "    for n in G:\n",
        "        if G.degree[n] == x:\n",
        "            clusternodes.append(n)\n",
        "    return(clusternodes)\n",
        "\n",
        "#nodes per degree\n",
        "x = []\n",
        "for n in G_pylori:\n",
        "    x.append(G_pylori.degree[n])\n",
        "plt.figure(figsize=(20,8))\n",
        "plt.hist(x, bins = 80)\n",
        "plt.xlabel('Degree')\n",
        "plt.ylabel('Number of nodes')\n",
        "plt.title('Number of nodes per degree')\n",
        "plt.show()\n",
        "\n",
        "#degree distribution\n",
        "plt.figure(figsize=(8,8))\n",
        "plt.plot(degree_dist(G_pylori))\n",
        "plt.xlabel('Degree')\n",
        "plt.xscale(\"log\")\n",
        "plt.ylabel('Number of nodes')\n",
        "plt.yscale(\"log\")\n",
        "plt.title('Number of nodes per degree')\n",
        "plt.show()"
      ]
    },
    {
      "cell_type": "markdown",
      "metadata": {
        "id": "kKaejnRLtGYb"
      },
      "source": [
        "# function usage examples (mv_functions)"
      ]
    },
    {
      "cell_type": "code",
      "execution_count": null,
      "metadata": {
        "id": "ETRDtmA5tGYb"
      },
      "outputs": [],
      "source": [
        "import sys\n",
        "import os\n",
        "\n",
        "sys.path.append('/content/drive/MyDrive/coding/Python/Compendium')  #allows looking for scripts in that directory\n",
        "os.chdir('/content/drive/MyDrive/coding/Python/Compendium')\n",
        "import mv_functions as mv"
      ]
    },
    {
      "cell_type": "markdown",
      "source": [
        "## utility functions"
      ],
      "metadata": {
        "id": "IfPbyBs79gfq"
      }
    },
    {
      "cell_type": "code",
      "source": [
        "import numpy as np\n",
        "import pandas as pd\n",
        "import mv_functions as mv\n",
        "import random\n",
        "\n",
        "import datetime\n",
        "\n",
        "info = {\n",
        "    'creation date': datetime.datetime.now(),\n",
        "    'purpose': 'this is an example dictionary for testing',\n",
        "    'some number': 37,\n",
        "    'some list': [x%3 for x in range(10)],\n",
        "    'last key?': True\n",
        "}\n",
        "\n",
        "list1 = [\n",
        "    1,\n",
        "    7,\n",
        "    False,\n",
        "    18,\n",
        "    3.1,\n",
        "    'abc',\n",
        "    [x for x in range(10)],\n",
        "    {f'{x} mod 3': x%3 for x in range(33,55)},\n",
        "    22,\n",
        "    True,\n",
        "    np.array([[x*y for x in range(5)] for y in range(6)]),\n",
        "    pd.DataFrame([(1, 2.0, \"Hello\"), (2, 3.0, \"World\")]),\n",
        "    8.9,\n",
        "]\n",
        "\n",
        "\n",
        "data = {\n",
        "    'some list': list1,\n",
        "    'info': info,\n",
        "}\n",
        "\n",
        "mv.tree(data)"
      ],
      "metadata": {
        "colab": {
          "base_uri": "https://localhost:8080/"
        },
        "id": "_YsrN3VH9j_I",
        "outputId": "d01d16ad-ff85-428e-9056-6fc57a892471"
      },
      "execution_count": null,
      "outputs": [
        {
          "output_type": "stream",
          "name": "stdout",
          "text": [
            "list: data\n",
            "|  int: 1 times\n",
            "|  float: 1 times\n",
            "|  str: 1 times\n",
            "|  list: 1 times\n",
            "|  dict: 1 times\n",
            "|  numpy.ndarray: 1 times\n",
            "|  pandas.core.frame.DataFrame: 1 times\n"
          ]
        }
      ]
    },
    {
      "cell_type": "markdown",
      "metadata": {
        "id": "5JxTWV77tGYb"
      },
      "source": [
        "## working with cobra"
      ]
    },
    {
      "cell_type": "code",
      "execution_count": null,
      "metadata": {
        "id": "JKN9UjHdtGYb"
      },
      "outputs": [],
      "source": [
        "model = cobra.io.read_sbml_model(\"models/yeast/iND750.xml\")\n",
        "\n",
        "#get stuff\n",
        "mvc_find_met(model, 'o2')  #indexes of all metabolites containing o2 in their id\n",
        "mvc_find_recs(model, 'o2')  #indexes of all reactions containing o2 in their id\n",
        "mvc_find_recs(model, [\"BM\", \"biomass\", \"Biomass\", 'BIO'])  #supports multiple searchterms\n",
        "mvc_find_rec(model, 'o2')  #index of one reaction containing o2 in their id\n",
        "rec_inds, met_inds = mvc_find_rel(model, 'o2', verbose=False) #tries to find all reactions\n",
        "    # and metabolites in the model that are \"related\" to a search term,\n",
        "    # meaning that the searchterm appears in their name or stoichiometry\n",
        "mvc_rec_ids(model)  #ids of all reactions\n",
        "mvc_rec_inds(model)  #indexes of all reactions\n",
        "\n",
        "\n",
        "#overview function\n",
        "mvc_overview(model, mvc_rec_inds(model))  #overview over all reactions\n",
        "mvc_overview(model, mvc_find_rec(model, \"BM\"))  #overview for all reactions with BM in name\n",
        "mvc_overview(model, mvc_find_rec(model, [\"BM\", \"biomass\", \"Biomass\", 'BIO']))  #works with multiple"
      ]
    },
    {
      "cell_type": "markdown",
      "metadata": {
        "id": "ZsCtHdHStGYb"
      },
      "source": [
        "## epts_distance"
      ]
    },
    {
      "cell_type": "code",
      "execution_count": null,
      "metadata": {
        "collapsed": true,
        "id": "8zReMcUItGYb",
        "jupyter": {
          "outputs_hidden": true
        },
        "outputId": "2b566ff0-152f-4e18-93d1-1a28d3b5d4fd",
        "tags": []
      },
      "outputs": [
        {
          "name": "stdout",
          "output_type": "stream",
          "text": [
            "maximum distance between associated columns in\n",
            "iJO_100_3d[6, 35, 292] and:\n",
            "iJO_100_glu_3d[6, 35, 292] : 3.7539959817177344\n",
            "iJO_100_pyr_3d[6, 35, 292] : 9.389699894801707\n",
            "iJO_100_mal_3d[292, 6, 35] : 5.468019370541498\n",
            "iJO_100_3d[35, 6, 292] : 0.0011351827052211263\n",
            "iJO_100_glyc_3d[35, 292, 6] : 1.8783449979910252\n",
            "iJO_100_glyc_3d[35, 6, 292] : 1.7141212605987555\n",
            "iJO_100_mal_3d[35, 292, 6] : 2.3496076875492378\n",
            "iJO_100_cit_3d[35, 6, 292] : 1.159876919837128\n",
            "iJO_100_pyr_3d[292, 6, 35] : 2.5282763419358463\n",
            "iJO_100_glu_3d[35, 292, 6] : 2.796180109951015\n",
            "iJO_100_mal_3d[292, 35, 6] : 2.349607687572032\n",
            "iJO_100_pyr_3d[6, 292, 35] : 0.6641802426665031\n",
            "iJO_100_3d[6, 292, 35] : 8.044646350507694\n",
            "iJO_100_cit_3d[292, 6, 35] : 1.0458518169185722\n",
            "iJO_100_fum_3d[35, 292, 6] : 12.708128292363476\n",
            "iJO_100_fum_3d[292, 6, 35] : 1.7541580840866098\n",
            "iJO_100_glyc_3d[6, 35, 292] : 2.471443976877812\n",
            "iJO_100_glyc_3d[292, 6, 35] : 1.8783449979901548\n",
            "iJO_100_pyr_3d[35, 292, 6] : 2.528276341938086\n",
            "iJO_100_glu_3d[35, 6, 292] : 2.7958206015605827\n",
            "iJO_100_pyr_3d[35, 6, 292] : 2.528276341938086\n",
            "iJO_100_cit_3d[6, 35, 292] : 0.9408707995846323\n",
            "iJO_100_glu_3d[292, 35, 6] : 6.232027493236591\n",
            "iJO_100_fum_3d[292, 35, 6] : 4.37933674449511\n",
            "iJO_100_glyc_3d[6, 292, 35] : 1.7159817883663955\n",
            "iJO_100_mal_3d[6, 292, 35] : 3.7201140358928795\n",
            "iJO_100_fum_3d[35, 6, 292] : 1.276688809044093\n",
            "iJO_100_3d[292, 35, 6] : 0.0011351827010984733\n",
            "iJO_100_pyr_3d[292, 35, 6] : 5.027426896498752\n",
            "iJO_100_cit_3d[35, 292, 6] : 1.0385658283485573\n",
            "iJO_100_fum_3d[6, 292, 35] : 1.2766888090345294\n",
            "iJO_100_cit_3d[6, 292, 35] : 0.9408707996480083\n",
            "iJO_100_mal_3d[6, 35, 292] : 5.468019370541498\n",
            "iJO_100_glu_3d[292, 6, 35] : 3.753995981726634\n",
            "iJO_100_cit_3d[292, 35, 6] : 0.94087079973867\n",
            "iJO_100_mal_3d[35, 6, 292] : 2.3496076875723446\n",
            "iJO_100_glyc_3d[292, 35, 6] : 4.650406574173627\n",
            "iJO_100_3d[292, 6, 35] : 8.044646350524792\n",
            "iJO_100_fum_3d[6, 35, 292] : 4.665405286215801\n",
            "iJO_100_3d[35, 292, 6] : 0.0011351827052211263\n",
            "iJO_100_glu_3d[6, 292, 35] : 2.7958206243633628\n",
            "\n",
            "reversing order of comparison. comparing\n",
            "iJO_100_3d[6, 35, 292] with:\n",
            "iJO_100_glu_3d[6, 35, 292] : 35.85001092416188\n",
            "iJO_100_pyr_3d[6, 35, 292] : 12.361809045219271\n",
            "iJO_100_mal_3d[292, 6, 35] : 13.76884422110476\n",
            "iJO_100_3d[35, 6, 292] : 5.013557532708317\n",
            "iJO_100_glyc_3d[35, 292, 6] : 12.486124500028378\n",
            "iJO_100_glyc_3d[35, 6, 292] : 12.486124500026929\n",
            "iJO_100_mal_3d[35, 292, 6] : 13.768844221081228\n",
            "iJO_100_cit_3d[35, 6, 292] : 23.406532663292214\n",
            "iJO_100_pyr_3d[292, 6, 35] : 12.361809046850741\n",
            "iJO_100_glu_3d[35, 292, 6] : 35.850010924161836\n",
            "iJO_100_mal_3d[292, 35, 6] : 13.768844221081228\n",
            "iJO_100_pyr_3d[6, 292, 35] : 12.361809046850741\n",
            "iJO_100_3d[6, 292, 35] : 0.15071065317834537\n",
            "iJO_100_cit_3d[292, 6, 35] : 23.406532663292236\n",
            "iJO_100_fum_3d[35, 292, 6] : 14.721586426732745\n",
            "iJO_100_fum_3d[292, 6, 35] : 14.721586426746367\n",
            "iJO_100_glyc_3d[6, 35, 292] : 12.48612450003218\n",
            "iJO_100_glyc_3d[292, 6, 35] : 12.486124500035007\n",
            "iJO_100_pyr_3d[35, 292, 6] : 12.361809045199525\n",
            "iJO_100_glu_3d[35, 6, 292] : 35.850010924161836\n",
            "iJO_100_pyr_3d[35, 6, 292] : 12.361809045199525\n",
            "iJO_100_cit_3d[6, 35, 292] : 23.406532663292236\n",
            "iJO_100_glu_3d[292, 35, 6] : 35.850010924161836\n",
            "iJO_100_fum_3d[292, 35, 6] : 14.721586426732745\n",
            "iJO_100_glyc_3d[6, 292, 35] : 12.486124500029636\n",
            "iJO_100_mal_3d[6, 292, 35] : 13.76884422110476\n",
            "iJO_100_fum_3d[35, 6, 292] : 14.721586426736703\n",
            "iJO_100_3d[292, 35, 6] : 5.693475299050104\n",
            "iJO_100_pyr_3d[292, 35, 6] : 12.361809045203554\n",
            "iJO_100_cit_3d[35, 292, 6] : 23.406532663292214\n",
            "iJO_100_fum_3d[6, 292, 35] : 14.72158642673313\n",
            "iJO_100_cit_3d[6, 292, 35] : 23.406532663292264\n",
            "iJO_100_mal_3d[6, 35, 292] : 13.768844221106487\n",
            "iJO_100_glu_3d[292, 6, 35] : 35.85001092416181\n",
            "iJO_100_cit_3d[292, 35, 6] : 23.406532663292214\n",
            "iJO_100_mal_3d[35, 6, 292] : 13.768844221081228\n",
            "iJO_100_glyc_3d[292, 35, 6] : 12.48612450005498\n",
            "iJO_100_3d[292, 6, 35] : 3.948028531696708\n",
            "iJO_100_fum_3d[6, 35, 292] : 14.721586426730735\n",
            "iJO_100_3d[35, 292, 6] : 5.523008530073203\n",
            "iJO_100_glu_3d[6, 292, 35] : 35.85001092416181\n",
            "maximum distance between associated columns in\n",
            "iJO_100_3d[6, 35, 292] and:\n",
            "iJO_100_3d[35, 6, 292] : 0.0011351827052211263\n",
            "iJO_100_3d[6, 292, 35] : 8.044646350507694\n",
            "iJO_100_3d[292, 35, 6] : 0.0011351827010984733\n",
            "iJO_100_3d[292, 6, 35] : 8.044646350524792\n",
            "iJO_100_3d[35, 292, 6] : 0.0011351827052211263\n",
            "\n",
            "reversing order of comparison. comparing\n",
            "iJO_100_3d[6, 35, 292] with:\n",
            "iJO_100_3d[35, 6, 292] : 5.013557532708317\n",
            "iJO_100_3d[6, 292, 35] : 0.15071065317834537\n",
            "iJO_100_3d[292, 35, 6] : 5.693475299050104\n",
            "iJO_100_3d[292, 6, 35] : 3.948028531696708\n",
            "iJO_100_3d[35, 292, 6] : 5.523008530073203\n"
          ]
        }
      ],
      "source": [
        "#comparing one reference array with all the other in the dict (or a subset)\n",
        "epts = mvu_read_dict('zz_convhull/out/epts_double_3d/')\n",
        "mvh_coldistance_dict(epts, epts['iJO_100_3d[6, 35, 292]'])\n",
        "mvh_coldistance_dict(epts, epts['iJO_100_3d[6, 35, 292]'], subset='iJO_100_3d')"
      ]
    },
    {
      "cell_type": "code",
      "execution_count": null,
      "metadata": {
        "id": "HNM7ssaftGYb",
        "outputId": "76db5616-3a71-4d56-9e63-903c8db039e2"
      },
      "outputs": [
        {
          "name": "stdout",
          "output_type": "stream",
          "text": [
            "maximum distance between associated columns in array:\n",
            "iJO_100_glyc_2d: 0.04918146151825722\n",
            "reversed order: 0.06748004111815403\n",
            "iJO_100_pyr_2d: 1.1368808912391543e-11\n",
            "reversed order: 6.128215240695687\n",
            "iJO_100_fum_2d: 6.812910342853756e-09\n",
            "reversed order: 6.177324447358691\n",
            "iJO_100_mal_2d: 0.05127392590528537\n",
            "reversed order: 3.4368922921653837\n",
            "iJO_100_2d: 8.001913095538257e-05\n",
            "reversed order: 0.0599697394336786\n",
            "iJO_100_glu_2d: 0.0731742164289367\n",
            "reversed order: 0.0003945240338509633\n",
            "iJO_100_cit_2d: 0.004832801793606423\n",
            "reversed order: 2.3989650954115382\n"
          ]
        }
      ],
      "source": [
        "#comparing epts from different dictionaries:\n",
        "epts1 = mvu_read_dict('zz_convhull/out/epts_double/')\n",
        "epts2 = mvu_read_dict('zz_convhull/out/epts_exact/')\n",
        "mvh_coldistance_dicts(epts1, epts2)"
      ]
    },
    {
      "cell_type": "markdown",
      "metadata": {
        "id": "DIQclKIhtGYc"
      },
      "source": [
        "## epts_compare"
      ]
    },
    {
      "cell_type": "code",
      "execution_count": null,
      "metadata": {
        "id": "gyBN44TjtGYc"
      },
      "outputs": [],
      "source": [
        "#comparing one epts to others in the same dictionary:\n",
        "keys = [key for key in epts_double_3d if 'iJO_100_3d[' in key]\n",
        "key1 = [key for key in keys if '[6, 35, 292]' in key][0\n",
        "for key2 in keys:\n",
        "    mvh_epts_compare(epts_double_3d[key1], epts_double_3d[key2],\n",
        "             label1=key1, label2=key2,\n",
        "             x=0, y=1)\n",
        "\n",
        "#comparing epts from different dictionaries:\n",
        "keys = ['iJO_100_glyc_2d', 'iJO_100_pyr_2d', 'iJO_100_fum_2d', 'iJO_100_mal_2d',\n",
        "        'iJO_100_2d', 'iJO_100_glu_2d', 'iJO_100_cit_2d']\n",
        "for key in keys:\n",
        "    mvh_epts_compare(epts_double[key], epts_exact[key],\n",
        "                 label1=str(key) + ' double', label2=str(key) + ' exact',\n",
        "                 x=0, y=1)"
      ]
    },
    {
      "cell_type": "markdown",
      "metadata": {
        "id": "WtiCoGJftGYc"
      },
      "source": [
        "# gpaw"
      ]
    },
    {
      "cell_type": "code",
      "execution_count": null,
      "metadata": {
        "id": "0BOXIatrtGYc"
      },
      "outputs": [],
      "source": [
        "# from qtpyt.basis import Basis\n",
        "\n",
        "from ase import Atoms\n",
        "from ase.optimize import BFGS\n",
        "from ase.calculators.nwchem import NWChem\n",
        "from ase.io import write\n",
        "atoms = Atoms('C4',\n",
        "           positions=[[0, 0, 1],\n",
        "                      [0, 0, 2],\n",
        "                      [0, 0, 3],\n",
        "                      [0, 0, 4],])\n",
        "# atoms = read('Projects/interference/graphene_4atoms.xyz')\n",
        "atoms.symbols\n",
        "\n",
        "basis = Basis.from_dictionary(atoms, {'C':13})\n",
        "\n",
        "h = np.random.random((52,52))\n",
        "h += h.T\n",
        "\n",
        "s = np.eye(52)\n",
        "\n",
        "# U, eig = tools(basis, h, s)  #typo?\n",
        "U, eig = tools.subdiagonalize_atoms(basis, h, s)\n",
        "plt.spy(U, precision=0.1)\n",
        "plt.show()\n",
        "hLO = tools.rotate_matrix(h, U)\n",
        "sLO = tools.rotate_matrix(s, U)"
      ]
    },
    {
      "cell_type": "code",
      "execution_count": null,
      "metadata": {
        "id": "qXFZ6ToJtGYc"
      },
      "outputs": [],
      "source": [
        "def is_unitary(m):\n",
        "    return np.allclose(np.eye(m.shape[0]), m.H * m)\n",
        "\n",
        "U_m = np.asmatrix(U)\n",
        "# is_unitary(U_m)\n",
        "# test = U_m.H * U_m\n",
        "# test1 = U_m.T.conj() * U_m\n",
        "# # test = U.H * U\n",
        "# # test1 = U.T.conj() * U\n",
        "# diag = []\n",
        "# for i in range(len(U[:,])):\n",
        "#     diag.append(U[i,i])\n",
        "#     if U[i,i]\n",
        "#     if cstart<i<cstop:\n",
        "#         print(U[i,i])\n",
        "\n",
        "# plt.spy(test-test1)\n",
        "is_unitary(U_m)"
      ]
    },
    {
      "cell_type": "markdown",
      "metadata": {
        "id": "-qW1CAORtGYc"
      },
      "source": [
        "## ase atoms object\n",
        "https://wiki.fysik.dtu.dk/ase/ase/atoms.html"
      ]
    },
    {
      "cell_type": "code",
      "execution_count": null,
      "metadata": {
        "id": "eCZKhAhdtGYc"
      },
      "outputs": [],
      "source": [
        "from ase.io.trajectory import Trajectory\n",
        "\n",
        "traj = Trajectory('out/junction_mv.traj')\n",
        "atoms = traj[-1]\n",
        "\n",
        "atoms.cell\n",
        "atoms.get_positions()\n",
        "atoms.get_chemical_symbols()\n",
        "\n",
        "from ase.io import write\n",
        "write('test.png', atoms)\n",
        "\n",
        "from ase.visualize import view\n",
        "view(atoms, viewer='x3d')"
      ]
    },
    {
      "cell_type": "markdown",
      "source": [
        "# SQL\n",
        "\n",
        "https://www.sql-practice.com/ (uses microsoft SQL, nomenklature is different from Oracle usw)"
      ],
      "metadata": {
        "id": "jkA0npT8tMXR"
      }
    },
    {
      "cell_type": "code",
      "source": [
        "SELECT * FROM patients\n",
        "SELECT patient_id, first_name, last_name FROM patients\n",
        "WHERE patient_id < 5\n",
        "WHERE gender != 'M'    #==\n",
        "AND patient_id > 3\n",
        "WHERE patient_id < 15 OR patient_id > 30\n",
        "WHERE patient_id in (1,2,6)  #not in\n",
        "WHERE first_name LIKE 'M%'   #%=any letter/s\n",
        "WHERE first_name LIKE 'S_e'  #_=any 1 letter\n",
        "\n",
        "SELECT * FROM patients\n",
        "WHERE birth_date like '196%'\n",
        "AND (weight < 70 or weight > 100)\n",
        "ORDER BY last_name ASC  #DESC\n",
        "\n",
        "#'string'-functions\n",
        "SELECT first_name, LENGTH(first_name) FROM patients   #makes a new collumn with the length of first_name strings\n",
        "SELECT CONCAT(first_name, '   ', last_name), LENGTH(CONCAT(first_name, '   ', last_name))  from patients\n",
        "LOWER()\n",
        "UPPER()\n",
        "SUBSTR(first_name,1,3)  #collumn, start, length\n",
        "SUBSTR(first_name,2)\n",
        "SUBSTR(first_name,-1,3)\n",
        "TRIM()  #removes whitespace"
      ],
      "metadata": {
        "id": "C552b20ctRyx"
      },
      "execution_count": null,
      "outputs": []
    },
    {
      "cell_type": "code",
      "source": [],
      "metadata": {
        "id": "QTgmOcZktR10"
      },
      "execution_count": null,
      "outputs": []
    },
    {
      "cell_type": "code",
      "source": [],
      "metadata": {
        "id": "jsV9w861tR4n"
      },
      "execution_count": null,
      "outputs": []
    },
    {
      "cell_type": "markdown",
      "source": [
        "# https://pythonprinciples.com/challenges/"
      ],
      "metadata": {
        "id": "9pnPGdtqHEqW"
      }
    },
    {
      "cell_type": "code",
      "source": [
        "def capital_indexes(string):\n",
        "  indeces = [index for index,symbol in enumerate(string) if symbol.isupper()]\n",
        "  return(indeces)\n",
        "\n",
        "capital_indexes('enTe')"
      ],
      "metadata": {
        "colab": {
          "base_uri": "https://localhost:8080/"
        },
        "id": "wOz8ILfaG5Bm",
        "outputId": "d64f0647-cc76-4a26-901e-1b6197dc423b"
      },
      "execution_count": null,
      "outputs": [
        {
          "output_type": "execute_result",
          "data": {
            "text/plain": [
              "[2]"
            ]
          },
          "metadata": {},
          "execution_count": 9
        }
      ]
    },
    {
      "cell_type": "code",
      "source": [
        "def mid(string):\n",
        "  if len(string) % 2 == 0:\n",
        "    return('')\n",
        "  else:\n",
        "    return(string[round(len(string)/2)-1])\n",
        "\n",
        "mid('enTe')"
      ],
      "metadata": {
        "colab": {
          "base_uri": "https://localhost:8080/",
          "height": 35
        },
        "id": "eINJeNcyG5Ef",
        "outputId": "a925ae49-6dd6-404a-a37b-0b7baacad663"
      },
      "execution_count": null,
      "outputs": [
        {
          "output_type": "execute_result",
          "data": {
            "text/plain": [
              "'e'"
            ],
            "application/vnd.google.colaboratory.intrinsic+json": {
              "type": "string"
            }
          },
          "metadata": {},
          "execution_count": 18
        }
      ]
    },
    {
      "cell_type": "code",
      "source": [
        "statuses = {\n",
        "    \"Alice\": \"online\",\n",
        "    \"Bob\": \"offline\",\n",
        "    \"Eve\": \"online\",\n",
        "}\n",
        "\n",
        "len([val for key,val in statuses.items() if val=='online'])"
      ],
      "metadata": {
        "colab": {
          "base_uri": "https://localhost:8080/"
        },
        "id": "P7FJyqk5G5H7",
        "outputId": "e05b6bec-bbfc-43ff-8a0e-4d8444795520"
      },
      "execution_count": null,
      "outputs": [
        {
          "output_type": "execute_result",
          "data": {
            "text/plain": [
              "3"
            ]
          },
          "metadata": {},
          "execution_count": 20
        }
      ]
    },
    {
      "cell_type": "code",
      "source": [
        "import random\n",
        "random.randint(1,100)"
      ],
      "metadata": {
        "colab": {
          "base_uri": "https://localhost:8080/"
        },
        "id": "5kmn1xojG5K5",
        "outputId": "0d1762cf-6b03-48ef-8a18-72952b1f7869"
      },
      "execution_count": null,
      "outputs": [
        {
          "output_type": "execute_result",
          "data": {
            "text/plain": [
              "88"
            ]
          },
          "metadata": {},
          "execution_count": 25
        }
      ]
    },
    {
      "cell_type": "code",
      "source": [
        "def only_ints(a,b):\n",
        "  return(isinstance(a, int) and isinstance(a, int))\n",
        "\n",
        "a=1\n",
        "b=2\n",
        "only_ints(a,b)"
      ],
      "metadata": {
        "colab": {
          "base_uri": "https://localhost:8080/"
        },
        "id": "3wHXREcSG5Np",
        "outputId": "099bfa4b-ca7e-43b1-8ae4-d0a0276ac097"
      },
      "execution_count": null,
      "outputs": [
        {
          "output_type": "execute_result",
          "data": {
            "text/plain": [
              "True"
            ]
          },
          "metadata": {},
          "execution_count": 42
        }
      ]
    },
    {
      "cell_type": "code",
      "source": [
        "data='hello'\n",
        "len([ind for ind,val in enumerate(data) if val == data[ind-1]]) >= 1"
      ],
      "metadata": {
        "colab": {
          "base_uri": "https://localhost:8080/"
        },
        "id": "oQplS6SeG5TJ",
        "outputId": "745f14e1-9dea-44ee-d0cd-62501550bf1e"
      },
      "execution_count": null,
      "outputs": [
        {
          "output_type": "execute_result",
          "data": {
            "text/plain": [
              "True"
            ]
          },
          "metadata": {},
          "execution_count": 49
        }
      ]
    },
    {
      "cell_type": "code",
      "source": [
        "#last\n",
        "\n",
        "def format_number(num):\n",
        "  fnum = ''\n",
        "  for ind,val in enumerate(str(num)[::-1]):\n",
        "    if (ind+1)%3==0:\n",
        "      fnum += val+','\n",
        "    else:\n",
        "      fnum += val\n",
        "  return(fnum[::-1])\n",
        "\n",
        "format_number(10000000000000)"
      ],
      "metadata": {
        "colab": {
          "base_uri": "https://localhost:8080/",
          "height": 35
        },
        "id": "-VfoJ7UeP692",
        "outputId": "820ab261-6a66-47ce-9f39-732056bdd260"
      },
      "execution_count": null,
      "outputs": [
        {
          "output_type": "execute_result",
          "data": {
            "text/plain": [
              "'10,000,000,000,000'"
            ],
            "application/vnd.google.colaboratory.intrinsic+json": {
              "type": "string"
            }
          },
          "metadata": {},
          "execution_count": 71
        }
      ]
    },
    {
      "cell_type": "markdown",
      "source": [
        "# https://www.w3resource.com/python-exercises/"
      ],
      "metadata": {
        "id": "hBvbSkZWB0GC"
      }
    },
    {
      "cell_type": "markdown",
      "source": [
        "## https://www.w3resource.com/python-exercises/puzzles/index.php"
      ],
      "metadata": {
        "id": "5GMk91NkCLkz"
      }
    },
    {
      "cell_type": "code",
      "source": [
        "#9\n",
        "\n",
        "def func(data):\n",
        "  data_cut = data[0:20]\n",
        "  vals = []\n",
        "  for ind,val in enumerate(data_cut):\n",
        "    if val not in vals:\n",
        "      vals += [val]\n",
        "    if ind >= 1 and val == data_cut[ind-1]:\n",
        "      return False\n",
        "  if len(vals) >= 4:\n",
        "    return True\n",
        "  else:\n",
        "    return False\n",
        "\n",
        "\n",
        "func([1, 2, 3, 1, 2, 3, 1, 2, 3, 1, 2, 3, 1, 2, 3])"
      ],
      "metadata": {
        "colab": {
          "base_uri": "https://localhost:8080/"
        },
        "id": "9hIga6C-2p0K",
        "outputId": "19d999e2-3cfd-4836-c4ee-74a65bea2b72"
      },
      "execution_count": null,
      "outputs": [
        {
          "output_type": "execute_result",
          "data": {
            "text/plain": [
              "False"
            ]
          },
          "metadata": {},
          "execution_count": 21
        }
      ]
    },
    {
      "cell_type": "code",
      "source": [
        "#9 solution\n",
        "def test(nums):\n",
        "    return all([nums[i] != nums[i + 1] for i in range(len(nums)-1)]) and len(set(nums)) == 4"
      ],
      "metadata": {
        "id": "AxO5IXR_2p3p"
      },
      "execution_count": null,
      "outputs": []
    },
    {
      "cell_type": "code",
      "source": [
        "#10\n",
        "data = '( ()) ((()()())) (()) ()'\n",
        "\n",
        "res = ['']\n",
        "for char in data.replace(' ', ''):\n",
        "  if res[-1].count('(') == res[-1].count(')') and res[-1].count('(') > 0:\n",
        "    res += ['']\n",
        "  res[-1] += char\n",
        "\n",
        "\n",
        "res"
      ],
      "metadata": {
        "colab": {
          "base_uri": "https://localhost:8080/"
        },
        "id": "syoGHIW1YHsb",
        "outputId": "91419250-61d6-4f74-b454-7796d6b0f683"
      },
      "execution_count": null,
      "outputs": [
        {
          "output_type": "execute_result",
          "data": {
            "text/plain": [
              "['(())', '((()()()))', '(())', '()']"
            ]
          },
          "metadata": {},
          "execution_count": 43
        }
      ]
    },
    {
      "cell_type": "code",
      "source": [
        "#11\n",
        "data = [0, 12, 45, 3, 4923, 322, 105, 29, 15, 39, 55]\n",
        "\n",
        "[ind for ind,val in enumerate(data) if val <= 100]"
      ],
      "metadata": {
        "colab": {
          "base_uri": "https://localhost:8080/"
        },
        "id": "GqWNgtFv2p66",
        "outputId": "3c9c7147-9b5e-4138-ca91-213dc21daf6d"
      },
      "execution_count": null,
      "outputs": [
        {
          "output_type": "execute_result",
          "data": {
            "text/plain": [
              "[0, 1, 2, 3, 7, 8, 9, 10]"
            ]
          },
          "metadata": {},
          "execution_count": 27
        }
      ]
    },
    {
      "cell_type": "markdown",
      "source": [
        "## misc challenges"
      ],
      "metadata": {
        "id": "HHekDgYY1IH-"
      }
    },
    {
      "cell_type": "code",
      "source": [
        "import random\n",
        "\n",
        "#rolling with advantage\n",
        "dice = 20\n",
        "rolls = 100000\n",
        "\n",
        "sum1 = 0\n",
        "sum2 =0\n",
        "for x in range(rolls):\n",
        "  sum1 += random.randint(1, dice)\n",
        "  sum2 += max(random.randint(1, dice), random.randint(1, dice))\n",
        "\n",
        "norm = sum1/rolls\n",
        "adv = sum2/rolls\n",
        "\n",
        "print(f'normal: {norm}\\nadvantage: {adv}\\nratio: {adv/norm}')"
      ],
      "metadata": {
        "id": "2o1lSUo52qBQ",
        "colab": {
          "base_uri": "https://localhost:8080/"
        },
        "outputId": "e45e85c7-13f7-4b9d-c774-90eaef3c76f7"
      },
      "execution_count": null,
      "outputs": [
        {
          "output_type": "stream",
          "name": "stdout",
          "text": [
            "normal: 10.49108\n",
            "advantage: 13.81701\n",
            "ratio: 1.3170245580054674\n"
          ]
        }
      ]
    },
    {
      "cell_type": "markdown",
      "source": [
        "#Factorio"
      ],
      "metadata": {
        "id": "PFvAMZtxJMjp"
      }
    },
    {
      "cell_type": "code",
      "source": [
        "steps = 15\n",
        "step = round(100/15)\n",
        "val = 0\n",
        "\n",
        "for i in range(1,16):\n",
        "    print(f'step {i}: {val}')\n",
        "    val += step"
      ],
      "metadata": {
        "id": "qC7LGOOo2qfx",
        "colab": {
          "base_uri": "https://localhost:8080/"
        },
        "outputId": "8bb4b688-e96c-4252-8e6b-44c4a5dffa41"
      },
      "execution_count": null,
      "outputs": [
        {
          "output_type": "stream",
          "name": "stdout",
          "text": [
            "step 1: 0\n",
            "step 2: 7\n",
            "step 3: 14\n",
            "step 4: 21\n",
            "step 5: 28\n",
            "step 6: 35\n",
            "step 7: 42\n",
            "step 8: 49\n",
            "step 9: 56\n",
            "step 10: 63\n",
            "step 11: 70\n",
            "step 12: 77\n",
            "step 13: 84\n",
            "step 14: 91\n",
            "step 15: 98\n"
          ]
        }
      ]
    },
    {
      "cell_type": "code",
      "source": [],
      "metadata": {
        "id": "CIXEc09UHwIj"
      },
      "execution_count": null,
      "outputs": []
    },
    {
      "cell_type": "code",
      "source": [],
      "metadata": {
        "id": "v1j1sWGeumOZ"
      },
      "execution_count": null,
      "outputs": []
    },
    {
      "cell_type": "code",
      "source": [],
      "metadata": {
        "id": "ogOyqjutHwLS"
      },
      "execution_count": null,
      "outputs": []
    },
    {
      "cell_type": "code",
      "source": [],
      "metadata": {
        "id": "Hh0waO_zHwQT"
      },
      "execution_count": null,
      "outputs": []
    },
    {
      "cell_type": "code",
      "source": [],
      "metadata": {
        "id": "dHCYzRXyHwS8"
      },
      "execution_count": null,
      "outputs": []
    },
    {
      "cell_type": "code",
      "source": [],
      "metadata": {
        "id": "BQjKFBqyHwVN"
      },
      "execution_count": null,
      "outputs": []
    }
  ],
  "metadata": {
    "colab": {
      "provenance": [],
      "collapsed_sections": [
        "74zPWynztGYT",
        "3QXhD7T6tGYT",
        "pTY5vfP7tGYU",
        "993JWZJ1tGYU",
        "Ko98oiHRtGYU",
        "Gg8WptSOtGYV",
        "VUoPTrKgtGYW",
        "KkiUpbM1tGYW",
        "-L4fLS9VtGYW",
        "xASeJUGxtGYY",
        "Uk2OKjmKPra5",
        "UTy_m0dOPymB",
        "QBfvfWMQP6fY",
        "ap1BRRbHtGYX",
        "8e9CmKb9tGYX",
        "thwOh0T_tGYX",
        "jwrQVkcyPqlp",
        "3CG__iqltGYY",
        "F2does84tGYY",
        "EsBNiGaHtGYZ",
        "VsUjG4UZtGYZ",
        "RBC84MgvumLL",
        "NhBkt6ZptGYa",
        "vfgfqP83tGYa",
        "R8vDwOdZtGYa",
        "RjRqdSN8tGYa",
        "5JxTWV77tGYb",
        "ZsCtHdHStGYb",
        "DIQclKIhtGYc",
        "-qW1CAORtGYc"
      ],
      "toc_visible": true,
      "include_colab_link": true
    },
    "kernelspec": {
      "display_name": "Python 3",
      "language": "python",
      "name": "python3"
    },
    "language_info": {
      "codemirror_mode": {
        "name": "ipython",
        "version": 3
      },
      "file_extension": ".py",
      "mimetype": "text/x-python",
      "name": "python",
      "nbconvert_exporter": "python",
      "pygments_lexer": "ipython3",
      "version": "3.8.5"
    },
    "toc-autonumbering": true,
    "toc-showtags": false
  },
  "nbformat": 4,
  "nbformat_minor": 0
}