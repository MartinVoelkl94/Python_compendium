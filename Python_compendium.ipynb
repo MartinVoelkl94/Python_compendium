{
  "cells": [
    {
      "cell_type": "markdown",
      "metadata": {
        "id": "view-in-github",
        "colab_type": "text"
      },
      "source": [
        "<a href=\"https://colab.research.google.com/github/MartinVoelkl94/Python_compendium/blob/main/Python_compendium.ipynb\" target=\"_parent\"><img src=\"https://colab.research.google.com/assets/colab-badge.svg\" alt=\"Open In Colab\"/></a>"
      ]
    },
    {
      "cell_type": "markdown",
      "source": [
        "# Packages"
      ],
      "metadata": {
        "id": "J0qcI_S6wd7A"
      }
    },
    {
      "cell_type": "code",
      "execution_count": null,
      "metadata": {
        "id": "GrsZit32tGYK"
      },
      "outputs": [],
      "source": [
        "#standard packages\n",
        "import matplotlib.pyplot as plt\n",
        "import numpy as np\n",
        "import pandas as pd\n",
        "import time\n",
        "import math\n",
        "from math import sqrt\n",
        "\n",
        "import os\n",
        "import sys\n",
        "import shutil"
      ]
    },
    {
      "cell_type": "markdown",
      "metadata": {
        "id": "RiCugjJGtGYL"
      },
      "source": [
        "# Data types"
      ]
    },
    {
      "cell_type": "code",
      "execution_count": null,
      "metadata": {
        "id": "M6tXpNovtGYM",
        "outputId": "56f1e334-c1cc-43b6-c70d-06df24d55462",
        "colab": {
          "base_uri": "https://localhost:8080/"
        }
      },
      "outputs": [
        {
          "output_type": "execute_result",
          "data": {
            "text/plain": [
              "False"
            ]
          },
          "metadata": {},
          "execution_count": 2
        }
      ],
      "source": [
        "import numpy as np\n",
        "\n",
        "string = 'abc'\n",
        "integer = 1\n",
        "boolean = True\n",
        "\n",
        "dictionary = {'name': 'martin', 'age': 28}\n",
        "list1 = [1,2,3,'a',False]\n",
        "set1 = {1,2,3}\n",
        "tupel1 = (1,2,3)\n",
        "\n",
        "numpy_array = np.array([1,2,3])  #not limited to 1 dimension\n",
        "numpy_matrix = np.matrix(np.array([1,2,3])) \n",
        "\n",
        "del string  #deletes variable\n",
        "type(integer)  #prints the type of a variable\n",
        "isinstance(boolean, str)  #returns True if the variable is a string"
      ]
    },
    {
      "cell_type": "markdown",
      "metadata": {
        "id": "oIoaxsrRtGYN"
      },
      "source": [
        "## Strings\n",
        "\n",
        "functions for strings: https://www.w3schools.com/python/python_strings_methods.asp"
      ]
    },
    {
      "cell_type": "code",
      "source": [
        "#create\n",
        "string = '  abcxyz'\n",
        "string1 = f'a is {5}' #only works in python3\n",
        "a,b = 5,10\n",
        "string2 = f'Five plus ten is {a+b} and not {2*(a+b)}.'\n",
        "\n",
        "\n",
        "#access\n",
        "string[3]\n",
        "string[0:5]  #select range of characters\n",
        "string[::-1]  #reverse string\n",
        "string.split('b') #splits string into multiple parts at a chosen separator. saves them as list\n",
        "string.split('b')[1].split('y')[0]  #everything between b and y. watch out for multiple b's\n",
        "a_list = [*string]  #unpack elements and create list\n",
        "\n",
        "\n",
        "#logic and loops\n",
        "if('a' in string):\n",
        "  print('there is an a in the string')\n",
        "for char in string:\n",
        "  print(char)\n",
        "\n",
        "\n",
        "#methods\n",
        "''.join(['a','b','c']) #combines a list of strings\n",
        "'_'.join(['a','b','c']) #different characters can be used for joining\n",
        "string.index('xy')  #index at which a substring starts\n",
        "string.strip()  #remove whitespace from front and back\n",
        "string.replace('a','A') #exchange one character for another\n",
        "string.replace('xyz', '') #targeted deletion\n",
        "string.count(' ')  #counts how often specified character occurs\n",
        "string.upper() #converts characters to uppercase\n",
        "string.lower()\n",
        "string.isupper() #checks if the characters are uppercase\n",
        "string.islower()\n",
        "string.split('b') #splits string into multiple parts at a chosen separator. saves them as list\n",
        "filename = 'folder1/folder2/file.py'.split('/')[-1] #can be used to get the filename from a path"
      ],
      "metadata": {
        "id": "6kFZbUxvam0Z"
      },
      "execution_count": null,
      "outputs": []
    },
    {
      "cell_type": "markdown",
      "metadata": {
        "id": "vAQsYZ2JtGYO"
      },
      "source": [
        "## Lists"
      ]
    },
    {
      "cell_type": "code",
      "execution_count": null,
      "metadata": {
        "id": "M67aEVdOtGYO",
        "jupyter": {
          "outputs_hidden": true
        },
        "tags": []
      },
      "outputs": [],
      "source": [
        "import numpy as np\n",
        "\n",
        "#create\n",
        "list1 = [0,1,2,'abc','xyz']\n",
        "list2 = list(range(11,20,2))  #from 11 to 20 in steps of 2\n",
        "list3 = list1 + list2  #merging\n",
        "list1a = list1  #references list1. changes in list1 also affect list1a\n",
        "list1b = list1.copy  #copy list1. they dont affect each other\n",
        "\n",
        "\n",
        "#list comprehension\n",
        "#like constructing a list using a loop.\n",
        "list3 = [x for x in range(10)]\n",
        "list4 = [i**3 for i in range(3)]\n",
        "list5 = ['abc' for x in list1]\n",
        "list6 = [x for x in list1 if x is str and 'a' in x]  #can use conditions\n",
        "shared = [x for x in list1 if x in list2]\n",
        "compare_neighbours = [list1[i] != list1[i+1] for i in range(len(list1)-1)]  #can use logic to modify output\n",
        "divisible_by_3 = ['div 3' if i%3==0 else i for i in range(1,100)]\n",
        "div_3_5 = ['div 3&5' if i%3==0 and i%5==0 else 'div 3' if i%3==0 else 'div 5' if i%5==0 else i for i in range(1,100)]  #powerfull but hard to read\n",
        "\n",
        "\n",
        "#access\n",
        "a, *b, c = list1  #a=first element, c=last element, b=all elements inbetween\n",
        "list1_np = np.array(list1)\n",
        "list1_np[[0,3]]\n",
        "\n",
        "\n",
        "#functions\n",
        "len(list1)  #number of elements in list\n",
        "max(list2)  #highest value in list\n",
        "set(list1)  #all unique elements (ordered)\n",
        "list1[::-1]  #reverse list\n",
        "list1.extend(list2)  #append all elements from one list to another\n",
        "list1.pop(2)  #removes element with index 2\n",
        "list1.remove('abc')  #removes element with name abc\n",
        "list1.clear()  #remove all elements from list1\n",
        "list2.sort()  #sort list fromm low to high, arg: reverse=True\n",
        "list1.insert(1, 'orange')  #first arg is the position, second arg is the value to insert\n",
        "list1.index('orange')  #returns index of entry with name orange\n",
        "list2.index(min(list2))  #returns index of smallest entry in list\n",
        "list1.index(min(list1, key=len))   #returns index of shortest (number of characters) entry in list\n",
        "print(*list1, sep='')  #prints without brackets, commas, and whitespace\n",
        "print(''.join(list1))  #does the same\n",
        "\n",
        "\n",
        "#sorting with index lists:\n",
        "x = np.array([3,1,2])\n",
        "y = np.array(['c','a','b'])\n",
        "indices = x.argsort()  #indices looks like: [1,2,0]\n",
        "#allows sorting 2 lists in the same way:\n",
        "print(x[indices])\n",
        "print(y[indices])"
      ]
    },
    {
      "cell_type": "markdown",
      "metadata": {
        "id": "1sEOmkmetGYP"
      },
      "source": [
        "## Dictionaries"
      ]
    },
    {
      "cell_type": "code",
      "execution_count": null,
      "metadata": {
        "id": "Ae_l2Ec3tGYP",
        "tags": []
      },
      "outputs": [],
      "source": [
        "#create\n",
        "dict1 = {'name': 'Martin', 'age': 28, 'height': 176}\n",
        "dict1['new'] = 1.13\n",
        "dict1['grades'] = [1,3,1,2,1]\n",
        "dict1[0] = True\n",
        "dict1a = dict1  #references list1. changes in list1 also affect list1a\n",
        "dict1b = dict1.copy  #copy list1. they dont affect each other\n",
        "dict2 = {'a': True, 'b': False}\n",
        "dict3 = {**dict1, **dict2}  #unpack and combine dicts\n",
        "\n",
        "\n",
        "#access\n",
        "dict1['age']\n",
        "dict1['grades'][1]\n",
        "\n",
        "\n",
        "#functions\n",
        "dict1.keys()\n",
        "dict1.values()\n",
        "dict1.items()  #key:values pairs of the dict\n",
        "list(dict1.keys())[0]  #convert to list for iteration\n",
        "dict3.clear()  #delet all key:value pairs\n",
        "dict1.get('age')  #unlike dict1['age'] this doesnt give an error if 'age' is not in dict1\n",
        "dict1.pop('age')  #deletes 'age' and returns its value\n",
        "dict1['Name'] = dict1.pop('name')  #can be used to change keys\n",
        "dict1.update(dict2)  #adds dict2 to dict1\n",
        "\n",
        "\n",
        "#loops and logic\n",
        "if 'age' in dict1:\n",
        "  print('the dictionary has a key called age')\n",
        "for key in dict1:  #version 1 of using keys and vals in a loop\n",
        "  print(f'current key: {key}')\n",
        "  print(f'current value: {dict1[key]}')\n",
        "for key,value in dict1.items():  #version 2 of using keys and vals in a loop\n",
        "  print(f'current key: {key}')\n",
        "  print(f'current value: {value}')\n",
        "\n",
        "    \n",
        "#subsets\n",
        "subset = {key:value for key,value in dict1.items() if key in ['name', 'age']}  #makes new dict consisting of key:value pairs with specified key\n",
        "subset = {key:value for key,value in dict1.items() if isinstance(value, str)}  #makes new dict consisting of key:value pairs where the value is a string\n",
        "subset = {key:value for key,value in dict1.items() if isinstance(key, str) and 'a' in key}  #makes new dict consisting of key:value pairs where the key is a string which includes an a"
      ]
    },
    {
      "cell_type": "markdown",
      "metadata": {
        "id": "CKn9CbLUtGYP"
      },
      "source": [
        "## Arrays (numpy)\n",
        "Without numpy a 2D array can be represented with a list of lists but usage of numpy is advised instead."
      ]
    },
    {
      "cell_type": "code",
      "execution_count": 27,
      "metadata": {
        "id": "T7RQmY0MtGYQ"
      },
      "outputs": [],
      "source": [
        "import numpy as np\n",
        "\n",
        "#create\n",
        "array1 = np.array([(1, 2.0, 'Hello'), (2, 3.0, 'World')])  #2 rows 3 columns\n",
        "array2 = np.array([[x*y for x in range(5)] for y in range(6)])  #6 rows and 5 columns\n",
        "dict1 = {'name': 'Martin', 'age': 28, 'height': 176}\n",
        "array3 = np.array(list(dict1.values())).T  #can be made from dictionaries\n",
        "\n",
        "\n",
        "#access\n",
        "array2[0,3]  #entry in row 0 and col 3\n",
        "row0 = array2[0,:]  #whole row\n",
        "col0 = array2[:,0]\n",
        "array2[0:4,:]  #subsection of the array\n",
        "array2[::2,:]  #every second row\n",
        "array2[::-1]  #reverse row ordering\n",
        "array2[:, [x for x in range(len(array2[0,:])) if x not in [2,3]] ]  #all entries except those in col 2 and 3\n",
        "\n",
        "\n",
        "#working with arrays\n",
        "rows = len(array1)\n",
        "columns = len(array1[0])\n",
        "array2.shape  #works only on numpy arrays\n",
        "array2 > 1  #fills in True where the entry is larger then 1\n",
        "array2[array2 > 1]  #can be used for selecting subsections\n",
        "array2T = array2.T  #transpose the array\n",
        "array2.all == array2.all  #checks if all values in the array are the same\n",
        "np.array_equal(array1, array2)  #same but more foolproof\n",
        "array4 = np.append(array2, np.array([[1,2,3,4,5]]), axis=0)  #insert row at index 0\n",
        "array4 = np.append(array2, np.array([[1,2,3,4,5,6]]).T, axis=1)  #append col\n",
        "array3 = array2[:, [x for x in range(len(array2[0,:])) if x not in [2,3]] ]  #\"delete\" columns 2 and 3\n",
        "array2.shape = (-1, 1) #transform to column vector"
      ]
    }
  ],
  "metadata": {
    "colab": {
      "provenance": [],
      "collapsed_sections": [
        "ZfAu71iytGYQ",
        "HWMNuLVEtGYR",
        "zHPEJTU-tGYR",
        "uEi4CsyFtGYR",
        "5VYssRtZtGYS",
        "C8YKAj_AtGYS",
        "aIkpyajKtGYT",
        "74zPWynztGYT",
        "3QXhD7T6tGYT",
        "pTY5vfP7tGYU",
        "993JWZJ1tGYU",
        "Ko98oiHRtGYU",
        "Gg8WptSOtGYV",
        "VUoPTrKgtGYW",
        "KkiUpbM1tGYW",
        "-L4fLS9VtGYW",
        "xASeJUGxtGYY",
        "Uk2OKjmKPra5",
        "UTy_m0dOPymB",
        "QBfvfWMQP6fY",
        "ap1BRRbHtGYX",
        "8e9CmKb9tGYX",
        "thwOh0T_tGYX",
        "jwrQVkcyPqlp",
        "3CG__iqltGYY",
        "F2does84tGYY",
        "EsBNiGaHtGYZ",
        "VsUjG4UZtGYZ",
        "RBC84MgvumLL",
        "NhBkt6ZptGYa",
        "vfgfqP83tGYa",
        "R8vDwOdZtGYa",
        "RjRqdSN8tGYa",
        "5JxTWV77tGYb",
        "ZsCtHdHStGYb",
        "DIQclKIhtGYc",
        "-qW1CAORtGYc"
      ],
      "toc_visible": true,
      "include_colab_link": true
    },
    "kernelspec": {
      "display_name": "Python 3",
      "language": "python",
      "name": "python3"
    },
    "language_info": {
      "codemirror_mode": {
        "name": "ipython",
        "version": 3
      },
      "file_extension": ".py",
      "mimetype": "text/x-python",
      "name": "python",
      "nbconvert_exporter": "python",
      "pygments_lexer": "ipython3",
      "version": "3.8.5"
    },
    "toc-autonumbering": true,
    "toc-showtags": false
  },
  "nbformat": 4,
  "nbformat_minor": 0
}