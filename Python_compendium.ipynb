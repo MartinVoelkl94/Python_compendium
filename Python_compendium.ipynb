{
  "cells": [
    {
      "cell_type": "markdown",
      "metadata": {
        "id": "view-in-github",
        "colab_type": "text"
      },
      "source": [
        "<a href=\"https://colab.research.google.com/github/MartinVoelkl94/Python_compendium/blob/main/Python_compendium.ipynb\" target=\"_parent\"><img src=\"https://colab.research.google.com/assets/colab-badge.svg\" alt=\"Open In Colab\"/></a>"
      ]
    },
    {
      "cell_type": "markdown",
      "source": [
        "# Packages"
      ],
      "metadata": {
        "id": "J0qcI_S6wd7A"
      }
    },
    {
      "cell_type": "code",
      "execution_count": null,
      "metadata": {
        "id": "GrsZit32tGYK",
        "colab": {
          "base_uri": "https://localhost:8080/"
        },
        "outputId": "acd4180d-aa78-4aa5-9be1-84c6a3c838a2"
      },
      "outputs": [
        {
          "output_type": "stream",
          "name": "stdout",
          "text": [
            "Mounted at /content/drive\n",
            "Drive already mounted at /content/drive; to attempt to forcibly remount, call drive.mount(\"/content/drive\", force_remount=True).\n"
          ]
        }
      ],
      "source": [
        "#standard packages\n",
        "import numpy as np\n",
        "import pandas as pd\n",
        "import matplotlib.pyplot as plt\n",
        "import random\n",
        "import time\n",
        "import math\n",
        "from math import sqrt\n",
        "\n",
        "import os\n",
        "import sys\n",
        "import shutil\n",
        "import pickle\n",
        "\n",
        "\n",
        "#mounting drive folder and getting acces to utility functions\n",
        "from google.colab import drive\n",
        "drive.mount('/content/drive')\n",
        "sys.path.append('/content/drive/MyDrive/coding/Python/Compendium')\n",
        "os.chdir('/content/drive/MyDrive/coding/Python/Compendium')\n",
        "import mv_functions as mv"
      ]
    },
    {
      "cell_type": "markdown",
      "metadata": {
        "id": "RiCugjJGtGYL"
      },
      "source": [
        "# Data types"
      ]
    },
    {
      "cell_type": "code",
      "execution_count": null,
      "metadata": {
        "id": "M6tXpNovtGYM"
      },
      "outputs": [],
      "source": [
        "import numpy as np\n",
        "\n",
        "string = 'abc'\n",
        "integer = 1\n",
        "boolean = True\n",
        "\n",
        "dictionary = {'name': 'martin', 'age': 28}\n",
        "list1 = [1,2,3,'a',False]\n",
        "set1 = {1,2,3}\n",
        "tupel1 = (1,2,3)\n",
        "\n",
        "numpy_array = np.array([1,2,3])  #not limited to 1 dimension\n",
        "numpy_matrix = np.matrix(np.array([1,2,3]))\n",
        "\n",
        "del string  #deletes variable\n",
        "type(integer)  #prints the type of a variable\n",
        "isinstance(boolean, str)  #returns True if the variable is a string"
      ]
    },
    {
      "cell_type": "markdown",
      "metadata": {
        "id": "oIoaxsrRtGYN"
      },
      "source": [
        "## Strings\n",
        "\n",
        "functions for strings: https://www.w3schools.com/python/python_strings_methods.asp"
      ]
    },
    {
      "cell_type": "code",
      "source": [
        "#create\n",
        "string = '  abcxyzabc'\n",
        "string1 = f'a is {5}' #only works in python3\n",
        "a,b = 5,10\n",
        "string2 = f'Five plus ten is {a+b} and not {2*(a+b)}.'\n",
        "\n",
        "\n",
        "#access\n",
        "string[3]\n",
        "string[0:5]  #select range of characters\n",
        "string[::-1]  #reverse string\n",
        "string.split('b') #split into multiple parts at chosen separator. save as list\n",
        "string.split('b')[1].split('y')[0]  #everything between the first b and y.\n",
        "a_list = [*string]  #unpack elements and create list\n",
        "\n",
        "\n",
        "#logic and loops\n",
        "if('a' in string):\n",
        "    print('there is an a in the string')\n",
        "for char in string:\n",
        "    print(char)\n",
        "\n",
        "\n",
        "#methods\n",
        "''.join(['a','b','c']) #combines a list of strings\n",
        "'_'.join(['a','b','c']) #different characters can be used for joining\n",
        "string.index('xy')  #index at which a substring starts\n",
        "string.strip()  #remove whitespace from front and back\n",
        "string.replace('a','A') #exchange one character for another\n",
        "string.replace('xyz', '') #targeted deletion\n",
        "string.count(' ')  #counts how often specified character occurs\n",
        "string.upper() #converts characters to uppercase\n",
        "string.lower()\n",
        "string.isupper() #checks if the characters are uppercase\n",
        "string.islower()\n",
        "string.split('b') #split into multiple parts at chosen separator. saves as list\n",
        "filename = 'folder1/folder2/file.py'.split('/')[-1] #use to get filename"
      ],
      "metadata": {
        "id": "6kFZbUxvam0Z"
      },
      "execution_count": null,
      "outputs": []
    },
    {
      "cell_type": "markdown",
      "metadata": {
        "id": "vAQsYZ2JtGYO"
      },
      "source": [
        "## Lists"
      ]
    },
    {
      "cell_type": "code",
      "execution_count": null,
      "metadata": {
        "id": "M67aEVdOtGYO",
        "jupyter": {
          "outputs_hidden": true
        },
        "tags": []
      },
      "outputs": [],
      "source": [
        "import numpy as np\n",
        "\n",
        "#create\n",
        "list1 = [0,1,2,'abc','xyz']\n",
        "list2 = list(range(11,20,2))  #from 11 to 20 in steps of 2\n",
        "list3 = list1 + list2  #merging\n",
        "list1a = list1  #references list1. changes in list1 also affect list1a\n",
        "list1b = list1.copy  #copy list1. they dont affect each other\n",
        "\n",
        "\n",
        "#list comprehension\n",
        "#like constructing a list using a loop.\n",
        "list3 = [x for x in range(10)]\n",
        "list4 = [i**3 for i in range(3)]\n",
        "list5 = ['abc' for x in list1]\n",
        "list6 = [x for x in list1 if x is str and 'a' in x]  #can use conditions\n",
        "shared = [x for x in list1 if x in list2]\n",
        "compare = [list1[i] != list1[i+1] for i in range(len(list1)-1)]  #can use logic\n",
        "divisible_by_3 = ['div 3' if i%3==0 else i for i in range(1,100)]\n",
        "div_3_5 = ['div 3&5' if i%3==0 and i%5==0\n",
        "           else 'div 3' if i%3==0\n",
        "           else 'div 5' if i%5==0\n",
        "           else i for i in range(1,100)]  #can be used like loops\n",
        "\n",
        "\n",
        "#access\n",
        "a, *b, c = list1  #a=first element, c=last element, b=all elements inbetween\n",
        "list1_np = np.array(list1)\n",
        "list1_np[[0,3]]\n",
        "\n",
        "\n",
        "#functions\n",
        "len(list1)  #number of elements in list\n",
        "max(list2)  #highest value in list\n",
        "set(list1)  #all unique elements (ordered)\n",
        "list1[::-1]  #reverse list\n",
        "list1.extend(list2)  #append all elements from one list to another\n",
        "list1.pop(2)  #removes element with index 2\n",
        "list1.remove('abc')  #removes element with name abc\n",
        "list1.clear()  #remove all elements from list1\n",
        "list2.sort()  #sort list fromm low to high, arg: reverse=True\n",
        "list1.insert(1, 'orange')  #first arg is the position, second arg is the value\n",
        "list1.index('orange')  #returns index of entry with name orange\n",
        "list2.index(min(list2))  #returns index of smallest entry in list\n",
        "list1.index(min(list1, key=len))   #returns index of shortest entry in list\n",
        "print(*list1, sep='')  #prints without brackets, commas, and whitespace\n",
        "print(''.join(list1))  #does the same\n",
        "\n",
        "\n",
        "#sorting with index lists:\n",
        "x = np.array([3,1,2])\n",
        "y = np.array(['c','a','b'])\n",
        "indices = x.argsort()  #indices looks like: [1,2,0]\n",
        "#allows sorting 2 lists in the same way:\n",
        "print(x[indices])\n",
        "print(y[indices])\n",
        "\n",
        "\n",
        "#read/write as .txt\n",
        "list1 = [f'random number: {random.randint(0, 100)}' for x in range(20)]\n",
        "\n",
        "with open('samples/list.txt', 'w') as file:\n",
        "    for line in list1:\n",
        "        file.write(f'{line}\\n')\n",
        "\n",
        "with open(f'samples/list.txt', 'r') as file:\n",
        "    list1 = [line.replace('\\n', '') for line in file]"
      ]
    },
    {
      "cell_type": "markdown",
      "metadata": {
        "id": "1sEOmkmetGYP"
      },
      "source": [
        "## Dictionaries"
      ]
    },
    {
      "cell_type": "code",
      "execution_count": null,
      "metadata": {
        "id": "Ae_l2Ec3tGYP",
        "tags": []
      },
      "outputs": [],
      "source": [
        "#create\n",
        "dict1 = {'name': 'Martin', 'age': 28, 'height': 176}\n",
        "dict1['new'] = 1.13\n",
        "dict1['grades'] = [1,3,1,2,1]\n",
        "dict1[0] = True\n",
        "dict1a = dict1  #references list1. changes in list1 also affect list1a\n",
        "dict1b = dict1.copy  #copy list1. they dont affect each other\n",
        "dict2 = {'a': True, 'b': False}\n",
        "dict3 = {**dict1, **dict2}  #unpack and combine dicts\n",
        "\n",
        "\n",
        "#access\n",
        "dict1['age']\n",
        "dict1['grades'][1]\n",
        "\n",
        "\n",
        "#functions\n",
        "dict1.keys()\n",
        "dict1.values()\n",
        "dict1.items()  #key:values pairs of the dict\n",
        "list(dict1.keys())[0]  #convert to list for iteration\n",
        "dict3.clear()  #delet all key:value pairs\n",
        "dict1.get('age')  #no error if 'age' is not in dict1, unlike with dict1['age']\n",
        "dict1.pop('age')  #deletes 'age' and returns its value\n",
        "dict1['Name'] = dict1.pop('name')  #can be used to change keys\n",
        "dict1.update(dict2)  #adds dict2 to dict1\n",
        "\n",
        "\n",
        "#loops and logic\n",
        "if 'age' in dict1:\n",
        "    print('the dictionary has a key called age')\n",
        "for key in dict1:  #version 1 of using keys and vals in a loop\n",
        "    print(f'current key: {key}')\n",
        "    print(f'current value: {dict1[key]}')\n",
        "for key,value in dict1.items():  #version 2 of using keys and vals in a loop\n",
        "    print(f'current key: {key}')\n",
        "    print(f'current value: {value}')\n",
        "\n",
        "\n",
        "#subsets\n",
        "#makes new dict consisting of key:value pairs with specified key\n",
        "subset = {key:value for key,value in dict1.items() if key in ['name', 'age']}\n",
        "#makes new dict consisting of key:value pairs where the value is a string\n",
        "subset = {key:value for key,value in dict1.items() if isinstance(value, str)}\n",
        "#makes new dict of key:value pairs where key is a string which includes an 'a'\n",
        "subset = {key:value for key,value in dict1.items() if isinstance(key, str) and 'a' in key}"
      ]
    },
    {
      "cell_type": "markdown",
      "metadata": {
        "id": "CKn9CbLUtGYP"
      },
      "source": [
        "## Arrays (numpy)\n",
        "Without numpy a 2D array can be represented with a list of lists but usage of numpy is advised instead."
      ]
    },
    {
      "cell_type": "code",
      "execution_count": null,
      "metadata": {
        "id": "T7RQmY0MtGYQ"
      },
      "outputs": [],
      "source": [
        "import numpy as np\n",
        "\n",
        "#create\n",
        "array1 = np.array([(1, 2.0, 'Hello'), (2, 3.0, 'World')])  #2 rows 3 columns\n",
        "array2 = np.array([[x*y for x in range(5)] for y in range(6)])  #6 rows, 5 cols\n",
        "dict1 = {'name': 'Martin', 'age': 28, 'height': 176}\n",
        "array3 = np.array(list(dict1.values())).T  #can be made from dictionaries\n",
        "\n",
        "\n",
        "#access\n",
        "array2[0,3]  #entry in row 0 and col 3\n",
        "row0 = array2[0,:]  #whole row\n",
        "col0 = array2[:,0]\n",
        "array2[0:4,:]  #subsection of the array\n",
        "array2[::2,:]  #every second row\n",
        "array2[::-1]  #reverse row ordering\n",
        "array2[:, [x for x in range(len(array2[0,:])) if x not in [2,3]] ]  #all entries except those in col 2 and 3\n",
        "\n",
        "\n",
        "#working with arrays\n",
        "rows = len(array1)\n",
        "columns = len(array1[0])\n",
        "array2.shape  #works only on numpy arrays\n",
        "array2 > 1  #fills in True where the entry is larger then 1\n",
        "array2[array2 > 1]  #can be used for selecting subsections\n",
        "array2T = array2.T  #transpose the array\n",
        "array2.all == array2.all  #checks if all values in the array are the same\n",
        "np.array_equal(array1, array2)  #same but more foolproof\n",
        "array4 = np.append(array2, np.array([[1,2,3,4,5]]), axis=0)  #insert row at index 0\n",
        "array4 = np.append(array2, np.array([[1,2,3,4,5,6]]).T, axis=1)  #append col\n",
        "array3 = array2[:, [x for x in range(len(array2[0,:])) if x not in [2,3]] ]  #'delete' columns 2 and 3\n",
        "array2.shape = (-1, 1) #transform to column vector\n",
        "\n",
        "\n",
        "#read/write as .npy, .txt, .csv\n",
        "numpy_array = np.array([[x*y for x in range(5)] for y in range(6)])\n",
        "\n",
        "np.save('samples/array.npy', numpy_array)\n",
        "np.savetxt('samples/array.txt', numpy_array, delimiter=',')\n",
        "np.savetxt('samples/array.csv', numpy_array, delimiter=',')\n",
        "\n",
        "numpy_array = np.load('samples/array.npy')\n",
        "numpy_array = np.loadtxt('samples/array.txt', delimiter=',')\n",
        "numpy_array = np.loadtxt('samples/array.csv', delimiter=',')"
      ]
    },
    {
      "cell_type": "markdown",
      "metadata": {
        "id": "ZfAu71iytGYQ"
      },
      "source": [
        "## Dataframes (pandas)\n",
        "a 2D table like a spreadsheet"
      ]
    },
    {
      "cell_type": "code",
      "execution_count": null,
      "metadata": {
        "id": "KY13tCvftGYQ"
      },
      "outputs": [],
      "source": [
        "import pandas as pd\n",
        "from IPython.display import display\n",
        "\n",
        "#create\n",
        "array = [(1, 2.0, 'Hello'), (2, 3.0, 'World')]\n",
        "dict1 = {'col1': [42, 38, 39], 'col2': [50, 40, 45]}\n",
        "df = pd.DataFrame(array)\n",
        "df = pd.DataFrame(array, index=['A', 'B'], columns=[1, 2, 3])\n",
        "df1 = pd.DataFrame(dict1, index=['row1', 'row2', 'row3'])\n",
        "df2 = pd.read_csv('sample.csv', decimal='.')\n",
        "\n",
        "\n",
        "#rows and columns\n",
        "df.index  #rows\n",
        "df.columns\n",
        "df.index = ['a', 'b']  #rename rows\n",
        "df.columns = ['x', 'y', 'z']  #rename cols\n",
        "df.columns[1]  #get name of col 1\n",
        "\n",
        "\n",
        "#access\n",
        "df.iloc[1]  #numeric indexing\n",
        "df.iloc[0, 0:3]  #col 0 and row 0 are the nametags\n",
        "df.loc['a']  #indexing by name. 1 argument: selects rows!\n",
        "df.loc['a', 'x']  #2 arguments: rows first, cols second\n",
        "df['x']  #this works too. 1 argument: selects cols!\n",
        "\n",
        "\n",
        "#filtering\n",
        "df1[(df1.iloc[:,:] > 0).any(axis=1)]  #show all rows were any entry is > 0\n",
        "df1[(df1.iloc[:,:] > 0).all(axis=1)]  #show all rows were all entries are > 0\n",
        "\n",
        "\n",
        "#modification and functions\n",
        "df.info()\n",
        "df.shape  #dimensions\n",
        "df.size  #number of entries\n",
        "df.T  #transpose\n",
        "display(df)  #prints dataframe with nice formatting\n",
        "df.drop(labels=[], axis=0, inplace=True) #drops entries\n",
        "    #labels: row index or col name\n",
        "    #axis:  0=rows, 1=col\n",
        "    #inplace:  True: alter original df, False:return altered copy\n",
        "df.dropna()\n",
        "df['x'].fillna(df['x'].mean(), inplace = True)  #replace na values with mean\n",
        "df['x+y'] = df['x'] + df['y']  #combine into new col\n",
        "df['y>2'] = df['y'] > 2  #adds col of booleans depending on condition\n",
        "\n",
        "\n",
        "\n",
        "#read/write as .csv, .xlsx\n",
        "df = pd.DataFrame([(1, 2.0, 'Hello', True), (2, 3.0, 'World', False)],\n",
        "                  index=['A', 'B'],\n",
        "                  columns=[1, 2, 3, 4])\n",
        "\n",
        "df.to_csv('samples/df.csv', index=True)\n",
        "    #index: boolean. write rownames or not\n",
        "    #header: bool or list of str. write/provide colnames\n",
        "    #decimal: '.' or ','\n",
        "df.to_excel('samples/df.xlsx', index=True)\n",
        "\n",
        "df = pd.read_csv('samples/df.csv', index_col=0)\n",
        "df = pd.read_excel('samples/df.xlsx', index_col=0)"
      ]
    },
    {
      "cell_type": "markdown",
      "metadata": {
        "id": "RuAG8aJntGYR"
      },
      "source": [
        "# Working with data"
      ]
    },
    {
      "cell_type": "markdown",
      "metadata": {
        "id": "5VYssRtZtGYS"
      },
      "source": [
        "## Printing outputs"
      ]
    },
    {
      "cell_type": "code",
      "execution_count": null,
      "metadata": {
        "id": "9D5VrY6HtGYS"
      },
      "outputs": [],
      "source": [
        "import pandas as pd\n",
        "from IPython.display import display\n",
        "\n",
        "print(1)\n",
        "print('text')  #automatically adds linebreak\n",
        "print('text', end='')  #overwrite automatic linebreak\n",
        "print('text\\n')  #additional linebreak\n",
        "\n",
        "x = 2\n",
        "print(f'text {x*3}')\n",
        "\n",
        "list1 = ['a','b','c']\n",
        "print(*list1, sep='')  #prints list without brackets, commas, and whitespace\n",
        "print(''.join(list1))  #does the same\n",
        "\n",
        "df = pd.read_csv('sample.csv')\n",
        "display(df)  #main usage is nicely printing dataframes"
      ]
    },
    {
      "cell_type": "markdown",
      "metadata": {
        "id": "aIkpyajKtGYT"
      },
      "source": [
        "## Random data\n",
        "https://realpython.com/python-random/"
      ]
    },
    {
      "cell_type": "code",
      "execution_count": null,
      "metadata": {
        "id": "usG2EGdYtGYT"
      },
      "outputs": [],
      "source": [
        "import numpy as np\n",
        "import random\n",
        "\n",
        "random.seed(123)  #using same seed always gives same random value\n",
        "random.random()  #float between 0-1\n",
        "random.randint(0, 10)  #int between 0-10\n",
        "random.uniform(0, 10)  #float between 0-10. uniform distribution\n",
        "random.gauss(0, 10)  #float from gauß distribution. center=0, stdev=10\n",
        "\n",
        "list1 = [1,2,3,4,5]\n",
        "random.choice(list1)  #pick random element from list\n",
        "random.choices(list1, k=2)  #pick k random elements from list. multiple picking\n",
        "random.sample(list1, k=2)  #no multiple picking\n",
        "random.shuffle(list1)  #shuffles the list\n",
        "\n",
        "\n",
        "#numpy also has a random package\n",
        "np.random.seed(123)\n",
        "np.set_printoptions(precision=2) #post decimal points\n",
        "\n",
        "np.random.randn(5)  #array with 5 elements\n",
        "np.random.randn(3, 4)  #array with 3 rows and 4 columns\n",
        "#array with 3 rows and 4 cols containing 0 or 1 with different propabilities\n",
        "np.random.choice([0, 1], p=[0.6, 0.4], size=(3, 4))"
      ]
    },
    {
      "cell_type": "markdown",
      "metadata": {
        "id": "f-KQYFOltGYU"
      },
      "source": [
        "## Loops"
      ]
    },
    {
      "cell_type": "code",
      "execution_count": null,
      "metadata": {
        "id": "QF4kQgp5tGYU"
      },
      "outputs": [],
      "source": [
        "for i in range(2,10):\n",
        "    print(i)\n",
        "    x = i**2\n",
        "    if x < 20:\n",
        "        continue  #jump to next iteration of loop ignoring all remaining code\n",
        "    elif x == 25:\n",
        "        pass  #just pretends nothing happened. use as placeholder\n",
        "    else:\n",
        "        break  #stops the whole loop\n",
        "\n",
        "\n",
        "#multiple variables can be used each iteration\n",
        "dict1 = {'name': 'Martin', 'age': 28, 'height': 176}\n",
        "for key,val in dict1.items():\n",
        "    print(f'key: {key}       value: {val}')"
      ]
    },
    {
      "cell_type": "markdown",
      "metadata": {
        "id": "pTY5vfP7tGYU"
      },
      "source": [
        "## Functions"
      ]
    },
    {
      "cell_type": "code",
      "execution_count": null,
      "metadata": {
        "id": "y-f-G8z7tGYU"
      },
      "outputs": [],
      "source": [
        "#basic structure\n",
        "def function_name(arguments):\n",
        "    \"\"\"\n",
        "    documentation\n",
        "    \"\"\"\n",
        "    #code\n",
        "    return\n",
        "\n",
        "\n",
        "#default argument values\n",
        "def sum_function(a_list, as_string=False):\n",
        "    \"\"\"\n",
        "    arguments can have default values assigned. when the function is called\n",
        "    without the arg as_string like this: sum_function([1,2,3]), the default\n",
        "    argument is set to its default value (False). If the function is called\n",
        "    like this: sum_function([1,2,3], as_string=True), the default value is\n",
        "    overwritten.\n",
        "    \"\"\"\n",
        "    if as_string:\n",
        "        sum = sum(a_list)\n",
        "        return str(sum)\n",
        "    else:\n",
        "        sum = sum(a_list)\n",
        "        return sum\n",
        "\n",
        "\n",
        "#arbitrary arguments\n",
        "def print_stuff(*args):\n",
        "    \"\"\"\n",
        "    this allows for the passing of any number of arguments to a function.\n",
        "    the arguments are passed as a tuple with any name e.g.: print_stuff(*words)\n",
        "    \"\"\"\n",
        "    for arg in args:\n",
        "        print(arg)\n",
        "\n",
        "\n",
        "#named arbitrary arguments\n",
        "def print_kwargs(**kwargs):\n",
        "    \"\"\"\n",
        "    this allows for the passing of any number of arguments to a function.\n",
        "    the arguments are passed as a dictionary from which they can be called.\n",
        "    \"\"\"\n",
        "    for key,value in kwargs.items():\n",
        "        print(key, value)\n",
        "\n",
        "\n",
        "#public and private functions\n",
        "def public_function(arguments):\n",
        "    \"\"\"\n",
        "    when a .py file with this function in it is imported, this function will\n",
        "    be visible in the main file and can be used. Since its for public use,\n",
        "    it should have a docstring like this.\n",
        "    \"\"\"\n",
        "    #code\n",
        "    return\n",
        "\n",
        "def _private_function(arguments):\n",
        "    \"\"\"\n",
        "    modules might make use of private functions, for example a function which\n",
        "    is only used by another (public) function. In this case only the public\n",
        "    function should be visible when importing and the private function should\n",
        "    be made invisible by placing a '_' at the start of its name.\n",
        "    docstrings can be omitted for private functions (proper documentation\n",
        "    with comments not though!).\n",
        "    \"\"\"\n",
        "    #code\n",
        "    return"
      ]
    },
    {
      "cell_type": "markdown",
      "metadata": {
        "id": "mwRe3sS2tGYV"
      },
      "source": [
        "## Plotting\n",
        "examples: https://www.python-graph-gallery.com/"
      ]
    },
    {
      "cell_type": "markdown",
      "metadata": {
        "id": "55-awMmztGYV"
      },
      "source": [
        "### Basics"
      ]
    },
    {
      "cell_type": "code",
      "execution_count": null,
      "metadata": {
        "id": "HFhKOt5ktGYW"
      },
      "outputs": [],
      "source": [
        "import matplotlib.pyplot as plt\n",
        "import numpy as np\n",
        "random_list = np.random.normal(100, 10, 200)\n",
        "\n",
        "\n",
        "#basic plot types:\n",
        "plt.plot([2, 1, 3, 4])\n",
        "plt.plot([1, 2, 3, 4], [1, 4, 9, 16])\n",
        "plt.scatter([1, 2, 3, 4], [1, 4, 9, 16])\n",
        "plt.boxplot([7,5,9,6])\n",
        "plt.hist(random_list, bins = 10)\n",
        "plt.violinplot(random_list)\n",
        "plt.fill_between([1, 2, 3, 4], [1, 4, 9, 16])\n",
        "\n",
        "\n",
        "#modifiers\n",
        "plt.figure(figsize=(10,5))  #change size\n",
        "plt.title('regular plot')\n",
        "plt.xscale('log')  #logarithmic or linear scale\n",
        "plt.xlim(1,10)  #start and end of axis\n",
        "plt.xlabel('time')  #name axis\n",
        "plt.legend()  #show labels that were assigned when creating the plot\n",
        "plt.savefig('name.png', bbox_inches='tight', pad_inches=0.05)  #save as .png"
      ]
    },
    {
      "cell_type": "markdown",
      "source": [
        "### Examples"
      ],
      "metadata": {
        "id": "nWS96T4ZNCH-"
      }
    },
    {
      "cell_type": "code",
      "source": [
        "plt.figure(figsize=(6,4))\n",
        "\n",
        "#labeling\n",
        "plt.title('daily temperature')\n",
        "plt.xlabel('day')\n",
        "plt.ylabel('temperature in °C')\n",
        "\n",
        "#2 series of values to plot.\n",
        "plt.plot([1,2,3,4,5,6,7],  #x values first\n",
        "         [12,10,13,15,14,16,11],  #then y values\n",
        "         c='tab:blue',\n",
        "         marker='o',  #others: 's', 'D', 'X', 'P', 'v', '^', '$1$' (uses '1')\n",
        "         markersize=6,\n",
        "         fillstyle='none',  #unfilled circles\n",
        "         linestyle='-',  #others: '--', '-.', ':', 'None'\n",
        "         label='city 1',)  #name for legend\n",
        "plt.plot([1,2,3,4,5,6,7],\n",
        "         [21,22,18,16,13,12,11],\n",
        "         c='orange',\n",
        "         marker='o',\n",
        "         markersize=4,\n",
        "         linestyle='--',\n",
        "         label='city 2',)\n",
        "\n",
        "#assign names to tick positions\n",
        "plt.xticks([1,2,3,4,5,6,7], ['Mo', 'Tu', 'We', 'Th', 'Fr', 'Sa', 'Su'])\n",
        "\n",
        "#define showen area\n",
        "plt.xlim(0.7,7.3)\n",
        "plt.ylim(0,30)\n",
        "\n",
        "plt.legend()\n",
        "plt.show()"
      ],
      "metadata": {
        "colab": {
          "base_uri": "https://localhost:8080/",
          "height": 410
        },
        "id": "lpjHcc4jMwIn",
        "outputId": "f947e799-e590-4ccf-be8b-9ccb4ca18bdc"
      },
      "execution_count": null,
      "outputs": [
        {
          "output_type": "display_data",
          "data": {
            "text/plain": [
              "<Figure size 600x400 with 1 Axes>"
            ],
            "image/png": "[encoded data removed]"
          },
          "metadata": {}
        }
      ]
    },
    {
      "cell_type": "code",
      "source": [
        "s"
      ],
      "metadata": {
        "colab": {
          "base_uri": "https://localhost:8080/",
          "height": 391
        },
        "id": "3YRqZqV6WHRV",
        "outputId": "e45c0c55-511e-4fc9-f602-8084e6289157"
      },
      "execution_count": null,
      "outputs": [
        {
          "output_type": "display_data",
          "data": {
            "text/plain": [
              "<Figure size 600x400 with 1 Axes>"
            ],
            "image/png": "[encoded data removed]"
          },
          "metadata": {}
        }
      ]
    },
    {
      "cell_type": "code",
      "source": [
        "plt.figure(figsize=(6,4))\n",
        "plt.title('histogram')\n",
        "plt.xlabel('value')\n",
        "plt.ylabel('number of occurences')\n",
        "\n",
        "random_list = np.random.normal(100, 10, 1000)\n",
        "plt.hist(random_list, bins = 10)\n",
        "\n",
        "plt.show()"
      ],
      "metadata": {
        "colab": {
          "base_uri": "https://localhost:8080/",
          "height": 410
        },
        "id": "cea5Q8hcDI_d",
        "outputId": "7d94409a-6477-492e-8ef5-3dac7abcd797"
      },
      "execution_count": null,
      "outputs": [
        {
          "output_type": "display_data",
          "data": {
            "text/plain": [
              "<Figure size 600x400 with 1 Axes>"
            ],
            "image/png": "[encoded data removed]"
          },
          "metadata": {}
        }
      ]
    },
    {
      "cell_type": "markdown",
      "source": [
        "## 3D Geometric Figures\n",
        "\n",
        "https://matplotlib.org/3.1.1/api/_as_gen/mpl_toolkits.mplot3d.art3d.Poly3DCollection.html"
      ],
      "metadata": {
        "id": "zFGAo7Cd_aHD"
      }
    },
    {
      "cell_type": "code",
      "source": [
        "import numpy as np\n",
        "import matplotlib.pyplot as plt\n",
        "from mpl_toolkits.mplot3d.art3d import Poly3DCollection\n",
        "\n",
        "\n",
        "fig = plt.figure(figsize=(8,8))\n",
        "ax = fig.add_subplot(111, projection='3d')\n",
        "\n",
        "\n",
        "#points for building lines and polygons\n",
        "p = np.array([[0,  0, 0], #origin\n",
        "              [0, -2, 2], #p1\n",
        "              [1,  0, 1], #p2\n",
        "              [2,  2, 0], #p3\n",
        "              [1, -2, 1], #p4\n",
        "              [1,  0, 0], #p5\n",
        "             ])\n",
        "\n",
        "\n",
        "#build lines using points\n",
        "line1 =  [[p[0],p[2]]]\n",
        "lines1 = [[p[0],p[1]],\n",
        "          [p[0],p[3]],\n",
        "         ]\n",
        "lines2 = [[p[2],p[4]],\n",
        "          [p[2],p[5]],\n",
        "         ]\n",
        "\n",
        "# plot lines\n",
        "ax.add_collection3d(Poly3DCollection(\n",
        "    line1,\n",
        "    edgecolors='tab:blue',\n",
        "    linewidths=1,\n",
        "    alpha=1,\n",
        "    ))\n",
        "\n",
        "ax.add_collection3d(Poly3DCollection(\n",
        "    lines1,\n",
        "    edgecolors='tab:orange',\n",
        "    linestyle=':',\n",
        "    linewidths=1,\n",
        "    alpha=1,\n",
        "    ))\n",
        "\n",
        "ax.add_collection3d(Poly3DCollection(\n",
        "    lines2,\n",
        "    edgecolors='tab:green',\n",
        "    linestyle=':',\n",
        "    linewidths=1,\n",
        "    alpha=1,\n",
        "    ))\n",
        "\n",
        "\n",
        "#build plane using points\n",
        "plane = [[p[0],p[1],p[2],p[3]]]\n",
        "\n",
        "#plot plane\n",
        "ax.add_collection3d(Poly3DCollection(\n",
        "    plane,\n",
        "    facecolors='tab:orange',\n",
        "    #edgecolors='tab:green',\n",
        "    linewidths=1,\n",
        "    alpha=.25))\n",
        "\n",
        "\n",
        "#plot 3D point\n",
        "ax.scatter3D(0, 0, 0, c='red')\n",
        "ax.scatter3D(1, 0, 1, c='red')\n",
        "\n",
        "\n",
        "\n",
        "#text labels\n",
        "ax.text(-0.05, 0, 0, '0')\n",
        "ax.text(0, -0.9, 1.1, 'line 1')\n",
        "ax.text(0.95, 0, 1.03, 'point 1')\n",
        "\n",
        "#configure coordinate axis\n",
        "ax.set_xticks([-2,-1,0,1,2])\n",
        "ax.set_yticks([-2,-1,0,1,2])\n",
        "ax.set_zticks([-2,-1,0,1,2])\n",
        "ax.set_xlabel('x')\n",
        "ax.set_ylabel('y')\n",
        "ax.set_zlabel('z')\n",
        "ax.set_xlim(0,2)\n",
        "ax.set_ylim(-2,2)\n",
        "ax.set_zlim(0,2)\n",
        "\n",
        "#change view angle\n",
        "ax.view_init(30, #elevation degree\n",
        "             70, #rotation around z\n",
        "            )\n",
        "\n",
        "plt.show()"
      ],
      "metadata": {
        "colab": {
          "base_uri": "https://localhost:8080/",
          "height": 653
        },
        "id": "dvB0mrjY_n3M",
        "outputId": "bfe76cf9-3108-4c2f-ccc7-e1608ffe6bab"
      },
      "execution_count": null,
      "outputs": [
        {
          "output_type": "display_data",
          "data": {
            "text/plain": [
              "<Figure size 800x800 with 1 Axes>"
            ],
            "image/png": "[encoded data removed]"
          },
          "metadata": {}
        }
      ]
    },
    {
      "cell_type": "markdown",
      "metadata": {
        "id": "Ko98oiHRtGYU"
      },
      "source": [
        "## Background jobs\n",
        "\n",
        "Can be used to execute multiple functions in the background.\n",
        "\n",
        "example: https://notebook.community/CestDiego/emacs-ipython-notebook/tests/notebook/nbformat4/Background%20Jobs\n",
        "\n",
        "\n",
        "docs: https://ipython.readthedocs.io/en/stable/api/generated/IPython.lib.backgroundjobs.html?highlight=background"
      ]
    },
    {
      "cell_type": "code",
      "execution_count": null,
      "metadata": {
        "id": "gfJovLMFtGYV"
      },
      "outputs": [],
      "source": [
        "from IPython.lib import backgroundjobs as bg\n",
        "import time\n",
        "\n",
        "jobs = bg.BackgroundJobManager()\n",
        "\n",
        "def func1(num1=1, num2=2, delay=10):\n",
        "    time.sleep(delay)\n",
        "    return(f'the product of num1 ({num1}) and num2 ({num2}) is {num1*num2}')\n",
        "\n",
        "\n",
        "#add jobs\n",
        "jobs.new(func1)  #start new job\n",
        "jobs.new(func1, 3, 4)  #start new job with positional arguments\n",
        "jobs.new(func1, kw=dict(num1=5, num2=6))  #start new job with keyword arguments\n",
        "for i in range(10):\n",
        "    jobs.new(func1, i, i*2, i*3)\n",
        "\n",
        "\n",
        "#monitor jobs\n",
        "jobs()  #shows the status of all jobs\n",
        "jobs.result(3)  #shows result if job is compelted\n",
        "jobs.remove(0)  #remove a job if its completed\n",
        "jobs.flush()  #remove all completed jobs\n",
        "jobs.traceback()  #shows errors"
      ]
    },
    {
      "cell_type": "markdown",
      "source": [
        "# Workspace"
      ],
      "metadata": {
        "id": "l-knKu-gao-9"
      }
    },
    {
      "cell_type": "markdown",
      "source": [
        "## Markdown for notebooks\n",
        "see: https://colab.research.google.com/notebooks/markdown_guide.ipynb#scrollTo=Lhfnlq1Surtk\n",
        "\n",
        "or: https://medium.com/analytics-vidhya/the-ultimate-markdown-guide-for-jupyter-notebook-d5e5abf728fd\n",
        "\n",
        "</br>\n",
        "Gray cells show plain markdown text while the following text shows the result\n",
        "</br></br>\n",
        "\n",
        "\n",
        "\n",
        "```markdown\n",
        "# header (works well with table of contents)\n",
        "## subheader\n",
        "### subsubheader\n",
        "*italic text*\n",
        "**bold text**\n",
        "***bold and italic text***\n",
        "~~crossed out text~~\n",
        "`Monospace`\n",
        "```\n",
        "# header (works well with table of contents)\n",
        "## subheader\n",
        "### subsubheader\n",
        "*italic text*\n",
        "**bold text**\n",
        "***bold and italic text***\n",
        "~~crossed out text~~\n",
        "`Monospace`\n",
        "</br></br>\n",
        "\n",
        "\n",
        "\n",
        "```markdown\n",
        "> indented\n",
        ">> doubly indented\n",
        "```\n",
        "> indented\n",
        ">> doubly indented\n",
        "</br></br>\n",
        "\n",
        "\n",
        "\n",
        "```markdown\n",
        "[link](https://colab.research.google.com/notebooks/markdown_guide.ipynb#scrollTo=Lhfnlq1Surtk)\n",
        "```\n",
        "[link](https://colab.research.google.com/notebooks/markdown_guide.ipynb#scrollTo=Lhfnlq1Surtk)\n",
        "</br></br>\n",
        "\n",
        "\n",
        "\n",
        "```markdown\n",
        "new paragraph with 2*enter\n",
        "\n",
        "new paragraph\n",
        "\n",
        "or with </br> linebreak\n",
        "\n",
        "new line with 2*spacebar after previous line\n",
        "new line\n",
        "```\n",
        "new paragraph with 2*enter\n",
        "\n",
        "new paragraph\n",
        "\n",
        "or with </br> linebreak\n",
        "\n",
        "new line with 2*spacebar after previous line\n",
        "new line\n",
        "</br></br>\n",
        "\n",
        "\n",
        "\n",
        "```markdown\n",
        "lines:\n",
        "___\n",
        "***\n",
        "---\n",
        "```\n",
        "lines:\n",
        "___\n",
        "***\n",
        "---\n",
        "</br></br>\n",
        "\n",
        "\n",
        "\n",
        "```markdown\n",
        "list:\n",
        "1. entry\n",
        "2. entry\n",
        "```\n",
        "list:\n",
        "1. entry\n",
        "2. entry\n",
        "</br></br>\n",
        "\n",
        "\n",
        "\n",
        "```markdown\n",
        "unordered list:\n",
        "- entry1\n",
        "- entry2\n",
        "```\n",
        "- entry 1\n",
        "- entry 2\n",
        "</br></br>\n",
        "\n",
        "\n",
        "\n",
        "```markdown\n",
        "table:\n",
        "\n",
        "|Header|Header|Header|\n",
        "|------|------|------|\n",
        "|A     |B     |C     |\n",
        "|X     |Y     |Z     |\n",
        "```\n",
        "table:\n",
        "\n",
        "|Header|Header|Header|\n",
        "|------|------|------|\n",
        "|A     |B     |C     |\n",
        "|X     |Y     |Z     |\n",
        "</br></br>\n",
        "\n",
        "\n",
        "```markdown\n",
        "$y=x^2$\n",
        "\n",
        "$e^{i\\pi} + 1 = 0$\n",
        "\n",
        "$e^x=\\sum_{i=0}^\\infty \\frac{1}{i!}x^i$\n",
        "\n",
        "$\\frac{n!}{k!(n-k)!} = {n \\choose k}$\n",
        "\n",
        "$A_{m,n} =\n",
        " \\begin{pmatrix}\n",
        "  a_{1,1} & a_{1,2} & \\cdots & a_{1,n} \\\\\n",
        "  a_{2,1} & a_{2,2} & \\cdots & a_{2,n} \\\\\n",
        "  \\vdots  & \\vdots  & \\ddots & \\vdots  \\\\\n",
        "  a_{m,1} & a_{m,2} & \\cdots & a_{m,n}\n",
        " \\end{pmatrix}$\n",
        "```\n",
        "$y=x^2$\n",
        "\n",
        "$e^{i\\pi} + 1 = 0$\n",
        "\n",
        "$e^x=\\sum_{i=0}^\\infty \\frac{1}{i!}x^i$\n",
        "\n",
        "$\\frac{n!}{k!(n-k)!} = {n \\choose k}$\n",
        "\n",
        "$A_{m,n} =\n",
        " \\begin{pmatrix}\n",
        "  a_{1,1} & a_{1,2} & \\cdots & a_{1,n} \\\\\n",
        "  a_{2,1} & a_{2,2} & \\cdots & a_{2,n} \\\\\n",
        "  \\vdots  & \\vdots  & \\ddots & \\vdots  \\\\\n",
        "  a_{m,1} & a_{m,2} & \\cdots & a_{m,n}\n",
        " \\end{pmatrix}$\n",
        "</br></br></br>\n",
        "\n",
        "\n",
        "```markdown\n",
        "\\## backslash as escape character to use functional signs as normal signs\n",
        "```\n",
        "\\## backslash as escape character to use functional signs as normal signs"
      ],
      "metadata": {
        "id": "DZ_zKmPB9tEN"
      }
    },
    {
      "cell_type": "markdown",
      "metadata": {
        "id": "ap1BRRbHtGYX"
      },
      "source": [
        "## Read/write files"
      ]
    },
    {
      "cell_type": "code",
      "execution_count": null,
      "metadata": {
        "id": "cwLZTlu7tGYX"
      },
      "outputs": [],
      "source": [
        "file = open('sample.txt')\n",
        "file.close()\n",
        "\n",
        "#usage of 'with open' is preferred'.\n",
        "#automatically closes the file even if errors occur\n",
        "with open('sample.txt', 'r') as file:\n",
        "    #args: r=read, w=write, rb=read binary, wb=write binary\n",
        "\n",
        "    file.read()  #read entire file as string\n",
        "    list(file)  #read entire file as list of strings\n",
        "\n",
        "    file.readline()  #read first line as string\n",
        "    file.readline()  #read next line as string\n",
        "\n",
        "    file.readline(5)  #read first 5 characters of current line\n",
        "    file.readline(5)  #read next 5 characters or start with next line\n",
        "\n",
        "    for line in file:\n",
        "        print(line, end='')  #each line ends with a linebreak. print() would\n",
        "                             #add an additional linebreak if not using end=''\n",
        "\n",
        "#writing\n",
        "with open('sample.txt', 'r') as file:\n",
        "    text = file.readlines()\n",
        "with open('sample_rev.txt', 'w') as file:\n",
        "    for line in reversed(text):  # to write the text in reverse order\n",
        "        file.write(line)"
      ]
    },
    {
      "cell_type": "markdown",
      "metadata": {
        "id": "thwOh0T_tGYX"
      },
      "source": [
        "## Save/load data"
      ]
    },
    {
      "cell_type": "code",
      "execution_count": null,
      "metadata": {
        "id": "DY4BrULdtGYX"
      },
      "outputs": [],
      "source": [
        "import numpy as np\n",
        "import pandas as pd\n",
        "import pickle\n",
        "import random\n",
        "import os\n",
        "\n",
        "\n",
        "\n",
        "#list as .txt\n",
        "list1 = [f'random number: {random.randint(0, 100)}' for x in range(20)]\n",
        "\n",
        "with open('samples/list.txt', 'w') as file:\n",
        "    for line in list1:\n",
        "        file.write(f'{line}\\n')\n",
        "\n",
        "with open(f'samples/list.txt', 'r') as file:\n",
        "    list1 = [line.replace('\\n', '') for line in file]\n",
        "\n",
        "\n",
        "\n",
        "#numpy arrays as .npy, .txt, .csv\n",
        "numpy_array = np.array([[x*y for x in range(5)] for y in range(6)])\n",
        "\n",
        "np.save('samples/array.npy', numpy_array)\n",
        "np.savetxt('samples/array.txt', numpy_array, delimiter=',')\n",
        "np.savetxt('samples/array.csv', numpy_array, delimiter=',')\n",
        "\n",
        "numpy_array = np.load('samples/array.npy')\n",
        "numpy_array = np.loadtxt('samples/array.txt', delimiter=',')\n",
        "numpy_array = np.loadtxt('samples/array.csv', delimiter=',')\n",
        "\n",
        "\n",
        "\n",
        "#pandas dataframes as .csv, .xlsx\n",
        "df = pd.DataFrame([(1, 2.0, 'Hello', True), (2, 3.0, 'World', False)],\n",
        "                  index=['A', 'B'],\n",
        "                  columns=[1, 2, 3, 4])\n",
        "\n",
        "df.to_csv('samples/df.csv', index=True)\n",
        "df.to_excel('samples/df.xlsx', index=True)\n",
        "\n",
        "df = pd.read_csv('samples/df.csv', index_col=0)\n",
        "df = pd.read_excel('samples/df.xlsx', index_col=0)\n",
        "\n",
        "\n",
        "\n",
        "#any object as .pkl\n",
        "dict1 = {'name': 'Herbert', 'age': 22, 'height': 172}\n",
        "\n",
        "with open('samples/dict.pkl', 'wb') as file:\n",
        "        pickle.dump(dict1, file)\n",
        "with open('samples/dict.pkl', 'rb') as file:\n",
        "        dict1 = pickle.load(file)\n",
        "\n",
        "\n",
        "\n",
        "#access multiple files\n",
        "arrays = {}\n",
        "for filename in os.listdir('samples'):\n",
        "     if filename.endswith('.npy'):\n",
        "        arrays[filename] = np.load(filename)"
      ]
    },
    {
      "cell_type": "markdown",
      "metadata": {
        "id": "3CG__iqltGYY"
      },
      "source": [
        "## Files and folders (os, sys, shutil)"
      ]
    },
    {
      "cell_type": "code",
      "source": [
        "import os\n",
        "import sys\n",
        "import shutil\n",
        "\n",
        "sys.path  #this is were python looks for modules when importing\n",
        "sys.path.append('folder')  #add new folder with modules\n",
        "\n",
        "\n",
        "!ls  #using bash commands in python scripts or notebooks\n",
        "path = os.getcwd()  #path of current working directory\n",
        "folder = path.split('/')[-1]  #name of current folder\n",
        "files = os.listdir(path)  #all files in folder\n",
        "\n",
        "\n",
        "os.path.isdir('mv_functions.ipynb')  #check if object is a directory\n",
        "if not os.path.exists('folder'):  #check if file or directory exists\n",
        "    os.mkdir('folder')  #make directory\n",
        "    os.chdir('folder')   #change current working directory to relative path\n",
        "os.chdir('/content/drive/MyDrive/coding/Python/Compendium')  #absolute path\n",
        "\n",
        "\n",
        "#copy one file from one location to another\n",
        "shutil.copy('mv_functions.py', 'folder/mv_functions.py')\n",
        "#copy whole directory\n",
        "shutil.copytree('folder', 'folder1', dirs_exist_ok=True)\n",
        "\n",
        "\n",
        "os.remove('folder/mv_functions.py')  #remove file\n",
        "shutil.rmtree('folder') #remove directory\n",
        "shutil.rmtree('folder1')"
      ],
      "metadata": {
        "id": "ZIRUdH4PPoAi"
      },
      "execution_count": null,
      "outputs": []
    },
    {
      "cell_type": "markdown",
      "metadata": {
        "id": "EsBNiGaHtGYZ"
      },
      "source": [
        "## Magics (Bash in python)\n",
        "\n",
        "https://ipython.readthedocs.io/en/stable/interactive/magics.html\n",
        "\n"
      ]
    },
    {
      "cell_type": "code",
      "execution_count": null,
      "metadata": {
        "id": "gQrfxgYwtGYZ"
      },
      "outputs": [],
      "source": [
        "#path to current working directory\n",
        "!pwd\n",
        "%pwd\n",
        "directory = !pwd\n",
        "\n",
        "#list contents of current directory, or only of specific type\n",
        "%ls\n",
        "%ls *.py\n",
        "files = %bookmarks\n",
        "\n",
        "#create directory\n",
        "%mkdir folder\n",
        "\n",
        "#change working directory with relative path, go back, go to absolute path\n",
        "%cd folder\n",
        "%cd -\n",
        "%cd /content/drive/MyDrive/coding/Python/Compendium\n",
        "\n",
        "#show all previously executed code\n",
        "%history"
      ]
    },
    {
      "cell_type": "markdown",
      "source": [
        "## Google drive"
      ],
      "metadata": {
        "id": "jwrQVkcyPqlp"
      }
    },
    {
      "cell_type": "code",
      "source": [
        "import os\n",
        "from google.colab import drive\n",
        "\n",
        "drive.mount('/content/drive')\n",
        "os.chdir('/content/drive/MyDrive/coding/Python/Compendium')"
      ],
      "metadata": {
        "id": "M14izIRtPykf",
        "colab": {
          "base_uri": "https://localhost:8080/"
        },
        "outputId": "cd6bd0de-f805-4230-f343-4f27c3654c6e"
      },
      "execution_count": null,
      "outputs": [
        {
          "output_type": "stream",
          "name": "stdout",
          "text": [
            "Mounted at /content/drive\n"
          ]
        }
      ]
    },
    {
      "cell_type": "markdown",
      "source": [
        "# mv_functions\n",
        "\n",
        "This module includes utility functions for facilitating faster and more convenient data exploration. They are not meant for production ready code"
      ],
      "metadata": {
        "id": "XzowlDut1PA4"
      }
    },
    {
      "cell_type": "markdown",
      "source": [
        "## mv.samples\n",
        "\n",
        "This function creates a folder with various different small sample files for testing other functions."
      ],
      "metadata": {
        "id": "9h0KA3x11PXT"
      }
    },
    {
      "cell_type": "code",
      "source": [
        "import mv_functions as mv\n",
        "\n",
        "mv.samples()\n",
        "\n",
        "!ls samples"
      ],
      "metadata": {
        "id": "JVelCQB81oXG"
      },
      "execution_count": null,
      "outputs": []
    },
    {
      "cell_type": "markdown",
      "source": [
        "## mv.tree\n",
        "\n",
        "This function displays (nested) python objects in a form similar to a directory tree."
      ],
      "metadata": {
        "id": "SIC2JmdsYU4y"
      }
    },
    {
      "cell_type": "code",
      "source": [
        "import mv_functions as mv\n",
        "\n",
        "with open('samples/nested.pkl', 'rb') as file:\n",
        "        nested_object = pickle.load(file)\n",
        "\n",
        "mv.tree(nested_object)\n",
        "#note that it also shows how to access nested entries, though since the\n",
        "#function doesnt know the name of the object it uses 'data' as a placeholder.\n",
        "#e.g.:\n",
        "#|   dataframe: data[\"dataframe\"]\n",
        "#|   |   2 values in: data[\"dataframe\"][\"A\"]\n",
        "#|   |   2 values in: data[\"dataframe\"][\"B\"]\n",
        "#|   |   2 values in: data[\"dataframe\"][3]"
      ],
      "metadata": {
        "colab": {
          "base_uri": "https://localhost:8080/"
        },
        "id": "GseeZDZnYVDA",
        "outputId": "794df94d-3b71-4ea6-ad56-cc3bd9f21dab"
      },
      "execution_count": null,
      "outputs": [
        {
          "output_type": "stream",
          "name": "stdout",
          "text": [
            "dictionary:\n",
            "|   int\n",
            "|   bool\n",
            "|   dictionary: data[\"dict1\"]\n",
            "|   |   str\n",
            "|   |   int\n",
            "|   |   int\n",
            "|   |   str\n",
            "|   dictionary: data[\"dict2\"]\n",
            "|   |   str\n",
            "|   |   list: data[\"dict2\"][\"contents\"]\n",
            "|   |   |   list: 3 times\n",
            "|   |   |   int: 1 times\n",
            "|   |   |   float: 1 times\n",
            "|   |   |   str: 1 times\n",
            "|   |   |   bool: 1 times\n",
            "|   |   |   dict: 1 times\n",
            "|   |   int\n",
            "|   list: data[\"list1\"]\n",
            "|   |   int: 3 times\n",
            "|   |   str: 1 times\n",
            "|   list: data[\"list2\"]\n",
            "|   |   list: 3 times\n",
            "|   |   int: 1 times\n",
            "|   |   float: 1 times\n",
            "|   |   str: 1 times\n",
            "|   |   bool: 1 times\n",
            "|   |   dict: 1 times\n",
            "|   list: data[\"array\"]\n",
            "|   |   tuple: 2 times\n",
            "|   np.ndarray: data[\"array2\"]\n",
            "|   |   2 rows: data[\"array2\"][0:2,:]\n",
            "|   |   3 cols: data[\"array2\"][:,0:3]\n",
            "|   dataframe: data[\"dataframe\"]\n",
            "|   |   2 values in: data[\"dataframe\"][\"A\"]\n",
            "|   |   2 values in: data[\"dataframe\"][\"B\"]\n",
            "|   |   2 values in: data[\"dataframe\"][3]\n"
          ]
        }
      ]
    },
    {
      "cell_type": "markdown",
      "source": [
        "## mv.save\n",
        "\n",
        "This function makes working with various objects a little faster and more convenient. It can save any type of python object thats compatible with the pickle library provides some additional convenience:\n",
        " - just one function for all data types\n",
        " - therefore can be used when the type of an output is unknown beforehand\n",
        " - if the chosen or default (data.pkl) filename already exists it increments the number in the filename instead of overwriting the old file\n",
        " - option to include a readme string to explain the data\n",
        " - option to include additional supplementary data\n",
        " - these properties make it usefull for investigating new unknown algorithms with bad documentation were many result or intermediate results should be saved and analysed"
      ],
      "metadata": {
        "id": "XBdr17BMAQap"
      }
    },
    {
      "cell_type": "code",
      "source": [
        "import mv_functions as mv\n",
        "\n",
        "\n",
        "list1 = [1,2,3]\n",
        "list2 = [True, True, False]\n",
        "\n",
        "mv.save(list1)  #saves list1 with default name 'data.pkl'\n",
        "mv.save(list1)  #since 'data.pkl' already exists, 'data0.pkl' is used\n",
        "mv.save(list1)  #save as 'data1.pkl' etc...\n",
        "mv.save(list1, 'samples/')  #same as before but in directory 'samples'\n",
        "\n",
        "mv.save(list1, 'test_data')  #save as 'test_data.pkl'\n",
        "mv.save(list1, 'test_data')  #save as 'test_data0.pkl'\n",
        "mv.save(list2, overwrite=True)  #overwrite 'test_data.pkl'\n",
        "\n",
        "mv.save(list1, readme='an example dictionary')  #include readme string\n",
        "mv.save(list1, supp=list2,)  #include supplementary data\n",
        "\n",
        "mv.save(list1, verbose=False)  #omit confirmation message\n",
        "\n",
        "\n",
        "#delete the created files\n",
        "files = [path for path in os.listdir(os.getcwd()) if 'data' in path]\n",
        "files += [f'samples/{path}' for path in os.listdir('samples') if 'data' in path]\n",
        "for path in files:\n",
        "    os.remove(path)\n",
        "    print(f'removed {path}')"
      ],
      "metadata": {
        "id": "8up3jY8QAQhC"
      },
      "execution_count": null,
      "outputs": []
    },
    {
      "cell_type": "markdown",
      "source": [
        "## mv.load\n",
        "\n",
        "Corresponding function to load data saved with mv.save"
      ],
      "metadata": {
        "id": "4OwH1zGDkmec"
      }
    },
    {
      "cell_type": "code",
      "source": [
        "import mv_functions as mv\n",
        "\n",
        "\n",
        "list1 = [1,2,3]\n",
        "list2 = [True, True, False]\n",
        "mv.save(list1)\n",
        "mv.save(list1,\n",
        "        'test_data',\n",
        "        readme='an example dictionary',\n",
        "        supp=list2)\n",
        "\n",
        "\n",
        "mv.load()  #loads default name 'data0.pkl'\n",
        "mv.load('test_data')  #load by name\n",
        "mv.load('test_data', readme=True)  #show readme string\n",
        "mv.load('test_data', supp=True)  #return supplementary data\n",
        "\n",
        "#delete the created files\n",
        "files = [path for path in os.listdir(os.getcwd()) if 'data' in path]\n",
        "for path in files:\n",
        "    os.remove(path)\n",
        "    print(f'removed {path}')"
      ],
      "metadata": {
        "id": "en7pz6G6kmki"
      },
      "execution_count": null,
      "outputs": []
    },
    {
      "cell_type": "markdown",
      "source": [
        "## mv.sift\n",
        "\n",
        "takes a list or dictionary and returns a filtered version were a filter string, or list of filters is part of the entries/keys. Since there is already a function named filter, this one is named sift."
      ],
      "metadata": {
        "id": "zN4u7Hyd6_3e"
      }
    },
    {
      "cell_type": "code",
      "source": [
        "import mv_functions as mv\n",
        "\n",
        "list1 = ['abc', 'a', 'b', 'xyz']\n",
        "dict1 = {'abc':1, 'a':2, 'b':3, 'xyz':4}\n",
        "\n",
        "mv.sift(list1, 'a')  #returns all list elements with 'a' in it\n",
        "mv.sift(list1, ['a', 'b'])  #returns all list elements with 'a' or 'b' in it\n",
        "mv.sift(['abc', 3, True], 'a')  #ignores non string elements\n",
        "\n",
        "mv.sift(dict1, 'a')  #returns all key:value pairs with 'a' in the key\n",
        "mv.sift(dict1, ['a', 'b'])  #returns key:value pairs with 'a' or 'b' in the key"
      ],
      "metadata": {
        "id": "eZLAirms7WFO"
      },
      "execution_count": null,
      "outputs": []
    },
    {
      "cell_type": "markdown",
      "source": [
        "## mv.clean\n",
        "\n",
        "This function cleans up the workspace by moving recently created files to a trashbin folder."
      ],
      "metadata": {
        "id": "SHNtGmwFTgep"
      }
    },
    {
      "cell_type": "code",
      "source": [
        "import mv_functions as mv\n",
        "import os\n",
        "\n",
        "mv.samples(dirname=os.getcwd())  #create a few new files in current directory\n",
        "mv.clean()  #create a folder called 'bin' and moves all files with the\n",
        "    #extensions '.py', '.txt', '.csv', '.xlsx', '.npy', '.pkl' created within\n",
        "    #the last 10 second from the current directory to that folder.\n",
        "    #Prints number of files moved.\n",
        "mv.clean(timespan=60)  #move files created in the last 60 seconds\n",
        "mv.samples()  #create new files in directory called samples\n",
        "mv.clean(path='samples')  #clean up in samples directory\n",
        "mv.clean(extensions=['.py'])  #only move files with .py extension\n",
        "mv.samples(dirname=os.getcwd())\n",
        "mv.clean(names=True)  #returns list with names of moves files\n",
        "mv.clean(delete=True)  #deletes the 'bin' directory containing moved files\n",
        "mv.clean(path='samples', delete=True)  #delete second bin directory\n",
        "\n",
        "mv.samples()"
      ],
      "metadata": {
        "id": "0pfDTFsDTgll"
      },
      "execution_count": null,
      "outputs": []
    }
  ],
  "metadata": {
    "colab": {
      "provenance": [],
      "toc_visible": true,
      "include_colab_link": true
    },
    "kernelspec": {
      "display_name": "Python 3",
      "language": "python",
      "name": "python3"
    },
    "language_info": {
      "codemirror_mode": {
        "name": "ipython",
        "version": 3
      },
      "file_extension": ".py",
      "mimetype": "text/x-python",
      "name": "python",
      "nbconvert_exporter": "python",
      "pygments_lexer": "ipython3",
      "version": "3.8.5"
    },
    "toc-autonumbering": true,
    "toc-showtags": false
  },
  "nbformat": 4,
  "nbformat_minor": 0
}