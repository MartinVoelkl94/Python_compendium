{
  "cells": [
    {
      "cell_type": "markdown",
      "metadata": {
        "id": "view-in-github",
        "colab_type": "text"
      },
      "source": [
        "<a href=\"https://colab.research.google.com/github/MartinVoelkl94/Python_compendium/blob/main/mv_functions.ipynb\" target=\"_parent\"><img src=\"https://colab.research.google.com/assets/colab-badge.svg\" alt=\"Open In Colab\"/></a>"
      ]
    },
    {
      "cell_type": "markdown",
      "metadata": {
        "id": "aEh9H_mViNsg"
      },
      "source": [
        "contains utility functions. all functions have mv* prefixes to distinguish them from other functions and for use with autocompletion. \n",
        "\n",
        "mv_functions.ipynb is meant to be used for looking up, editing or adding functions while mv_functions.py is used to import functions to other scripts or notebooks. the last cell of mv_functions.ipynb contains code that backs up the current mv_functions.py file and converts mv_functions.ipynb into a new mv_functions.py. "
      ]
    },
    {
      "cell_type": "code",
      "execution_count": 1,
      "metadata": {
        "id": "ndcqlRcFiNsi",
        "colab": {
          "base_uri": "https://localhost:8080/"
        },
        "outputId": "711f520d-ca69-43ce-c17c-ac2db91c0c45"
      },
      "outputs": [
        {
          "output_type": "stream",
          "name": "stdout",
          "text": [
            "Mounted at /content/drive\n"
          ]
        }
      ],
      "source": [
        "import numpy as np\n",
        "import pandas as pd\n",
        "import types\n",
        "import time\n",
        "import shutil\n",
        "import os\n",
        "import sys\n",
        "import datetime\n",
        "from google.colab import drive\n",
        "\n",
        "drive.mount('/content/drive')\n",
        "os.chdir('/content/drive/MyDrive/coding/Python/Compendium')"
      ]
    },
    {
      "cell_type": "code",
      "source": [],
      "metadata": {
        "id": "a1rPDk3T01TW"
      },
      "execution_count": 15,
      "outputs": []
    },
    {
      "cell_type": "code",
      "execution_count": 18,
      "metadata": {
        "colab": {
          "base_uri": "https://localhost:8080/"
        },
        "id": "0ned15R0iNsr",
        "outputId": "8d6ad421-010e-4734-b86d-54522bed1027"
      },
      "outputs": [
        {
          "output_type": "stream",
          "name": "stdout",
          "text": [
            "saving old mv_functions file as: mv_functions_saves/2023-03-26 21:54:10.602817.py\n",
            "[NbConvertApp] Converting notebook mv_functions.ipynb to script\n",
            "[NbConvertApp] Writing 1425 bytes to mv_functions.py\n"
          ]
        }
      ],
      "source": [
        "#this code backs up the current mv_functions.py file and converts \n",
        "#mv_functions.ipynb into a new mv_functions.py.\n",
        "#lastly it deletes the lines containing itself from the file.\n",
        "\n",
        "os.chdir('/content/drive/MyDrive/coding/Python/Compendium')\n",
        "save_path = f'mv_functions_saves/{datetime.datetime.now()}.py'\n",
        "shutil.copy('mv_functions.py', save_path)\n",
        "print(f'saving old mv_functions file as: {save_path}')\n",
        "\n",
        "!jupyter nbconvert --to script mv_functions.ipynb\n",
        "\n",
        "with open('mv_functions.py', 'r') as file:\n",
        "    text = file.readlines()\n",
        "with open('mv_functions.py', 'w') as file:\n",
        "    for line in text[0:-20]:  \n",
        "        file.write(line)"
      ]
    }
  ],
  "metadata": {
    "kernelspec": {
      "display_name": "Python 3",
      "language": "python",
      "name": "python3"
    },
    "language_info": {
      "codemirror_mode": {
        "name": "ipython",
        "version": 3
      },
      "file_extension": ".py",
      "mimetype": "text/x-python",
      "name": "python",
      "nbconvert_exporter": "python",
      "pygments_lexer": "ipython3",
      "version": "3.8.5"
    },
    "colab": {
      "provenance": [],
      "include_colab_link": true
    }
  },
  "nbformat": 4,
  "nbformat_minor": 0
}