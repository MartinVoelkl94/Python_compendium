{
  "cells": [
    {
      "cell_type": "markdown",
      "metadata": {
        "id": "view-in-github",
        "colab_type": "text"
      },
      "source": [
        "<a href=\"https://colab.research.google.com/github/MartinVoelkl94/Python_compendium/blob/main/mv_functions.ipynb\" target=\"_parent\"><img src=\"https://colab.research.google.com/assets/colab-badge.svg\" alt=\"Open In Colab\"/></a>"
      ]
    },
    {
      "cell_type": "markdown",
      "metadata": {
        "id": "aEh9H_mViNsg"
      },
      "source": [
        "contains utility functions.\n",
        "\n",
        "mv_functions.ipynb is meant to be used for looking up, editing or adding functions while mv_functions.py is used to import functions to other scripts or notebooks (use 'import mv_functions as mv').\n",
        "\n",
        "The last cell of mv_functions.ipynb contains code that backs up the current mv_functions.py file and converts mv_functions.ipynb into a new mv_functions.py."
      ]
    },
    {
      "cell_type": "code",
      "execution_count": null,
      "metadata": {
        "id": "ndcqlRcFiNsi"
      },
      "outputs": [],
      "source": [
        "import numpy as np\n",
        "import pandas as pd\n",
        "import types\n",
        "import time\n",
        "import shutil\n",
        "import os\n",
        "import sys\n",
        "import datetime\n",
        "from google.colab import drive"
      ]
    },
    {
      "cell_type": "code",
      "source": [
        "#this part is not meant to be executed after conversion to a .py file\n",
        "if 'colab' in get_ipython().config['IPKernelApp']['kernel_class']:\n",
        "    # mounting to drive folder\n",
        "    from google.colab import drive\n",
        "    drive.mount('/content/drive')\n",
        "\n",
        "    #acces functions from mv_functions.py\n",
        "    sys.path.append('/content/drive/MyDrive/coding/Python/Compendium')\n",
        "    os.chdir('/content/drive/MyDrive/coding/Python/Compendium')\n",
        "    import mv_functions as mv"
      ],
      "metadata": {
        "id": "KdnCVqcw7Z8F"
      },
      "execution_count": null,
      "outputs": []
    },
    {
      "cell_type": "code",
      "source": [
        "def tree(data, name='data', indent='|   '):\n",
        "    \"\"\"\n",
        "    gives a condensed overview of the content of an object in a form resembling\n",
        "    a folder tree. Made to be used in data exploration or when investigating a \n",
        "    new algorithm. It has similar usecases as the basic type() function but in \n",
        "    addition it also gives more information on certain common data types an is\n",
        "    able to show multiple layers of nested objects.\n",
        "\n",
        "    Parameters:\n",
        "    data: an object identifiable ny type()\n",
        "    name: optional. the name of the current object\n",
        "    indent: used to modify visual presentation of the output\n",
        "\n",
        "    Returns:\n",
        "    prints to output instead of returning\n",
        "    \"\"\"\n",
        "    name = [name]\n",
        "    level = 0\n",
        "    _tree_check_type(data, name, level, indent)   \n",
        "    \n",
        "def _tree_check_type(current_data, name, level, indent):\n",
        "    #used by tree function function to check the type of current_data\n",
        "\n",
        "    indents = level*indent\n",
        "    current_data_name = ''.join(name)\n",
        "    \n",
        "    if isinstance(current_data, list):\n",
        "        if level == 0:\n",
        "            print(f'{indents}list:')\n",
        "        else:\n",
        "            print(f'{indents}list: {current_data_name}')\n",
        "        level += 1\n",
        "        _tree_open_list(current_data, name, level, indent)\n",
        "\n",
        "    elif isinstance(current_data, dict):\n",
        "        if level == 0:\n",
        "            print(f'{indents}dictionary:')\n",
        "        else:\n",
        "            print(f'{indents}dictionary: {current_data_name}')\n",
        "        level += 1\n",
        "        _tree_open_dict(current_data, name, level, indent)\n",
        "\n",
        "    elif isinstance(current_data, np.ndarray):\n",
        "        if level == 0:\n",
        "            print(f'{indents}np.ndarray:')\n",
        "        else:\n",
        "            print(f'{indents}np.ndarray: {current_data_name}')\n",
        "        level += 1\n",
        "        _tree_open_np_ndarray(current_data, name, level, indent)\n",
        "    \n",
        "    elif isinstance(current_data, pd.core.frame.DataFrame):\n",
        "        if level == 0:\n",
        "            print(f'{indents}dataframe:')\n",
        "        else:\n",
        "            print(f'{indents}dataframe: {current_data_name}')\n",
        "        level += 1\n",
        "        _tree_open_pd_dataframe(current_data, name, level, indent)\n",
        "    \n",
        "    else:\n",
        "        print(f'{indents}{str(type(current_data))[8:-2]}')\n",
        "\n",
        "\n",
        "def _tree_open_list(current_data, name, level, indent):\n",
        "    #used by tree function function to open dictionaries\n",
        "\n",
        "    counter = {}\n",
        "    for ind in range(len(current_data)):\n",
        "        if str(type(current_data[ind]))[8:-2] in counter.keys():\n",
        "            counter[str(type(current_data[ind]))[8:-2]] += 1\n",
        "        else:\n",
        "            counter[str(type(current_data[ind]))[8:-2]] = 1\n",
        "    \n",
        "    for key in counter.keys():\n",
        "        print(f'{level*indent}{key}: {counter[key]} times')\n",
        "\n",
        "\n",
        "def _tree_open_dict(current_data, name, level, indent):\n",
        "    #used by tree function to open dictionaries\n",
        "\n",
        "    for key in current_data.keys():\n",
        "        if isinstance(key, str):\n",
        "            name.append(f'[\"{key}\"]')\n",
        "        else:\n",
        "            name.append(f'[{str(key)}]')\n",
        "        _tree_check_type(current_data[key], name, level, indent)\n",
        "        name.pop()\n",
        "\n",
        "\n",
        "def _tree_open_np_ndarray(current_data, name, level, indent):\n",
        "    #used by tree function to open numpy ndarrays\n",
        "\n",
        "    current_data_name = ''.join(name)\n",
        "    \n",
        "    if current_data.shape[0] == 1:\n",
        "        cols = f'[0,0:{len(current_data[0,:])}]'\n",
        "        print(f'{level*indent}1 col: {current_data_name}[0,:]')\n",
        "        print(f'{level*indent}{len(current_data[0,:])} rows: {current_data_name}{cols}')\n",
        "        \n",
        "    elif current_data.shape[0] >= 2:\n",
        "        rows = f'[0:{len(current_data[:,0])},:]'\n",
        "        print(f'{level*indent}{len(current_data[:,0])} rows: {current_data_name}{rows}')\n",
        "        \n",
        "        cols = f'[:,0:{len(current_data[0,:])}]'\n",
        "        print(f'{level*indent}{len(current_data[0,:])} cols: {current_data_name}{cols}')\n",
        "        \n",
        "    else:\n",
        "        print(f'{level*indent}shape: {current_data.shape}')\n",
        "\n",
        "\n",
        "def _tree_open_pd_dataframe(current_data, name, level, indent):\n",
        "    #used by tree function to open pandas dataframes\n",
        "\n",
        "    for colname in list(current_data):\n",
        "        current_data_name = ''.join(name)\n",
        "        n_values = len(current_data[colname])\n",
        "        if isinstance(colname, str):\n",
        "            print(f'{level*indent}{n_values} values in:{current_data_name}[\"{colname}\"]')\n",
        "        else:\n",
        "            print(f'{level*indent}{n_values} values in: {current_data_name}[{colname}]')"
      ],
      "metadata": {
        "id": "a1rPDk3T01TW"
      },
      "execution_count": 51,
      "outputs": []
    },
    {
      "cell_type": "code",
      "execution_count": 53,
      "metadata": {
        "colab": {
          "base_uri": "https://localhost:8080/"
        },
        "id": "0ned15R0iNsr",
        "outputId": "5cf7a586-3632-4100-c480-a26d819b5b51"
      },
      "outputs": [
        {
          "output_type": "stream",
          "name": "stdout",
          "text": [
            "saving old mv_functions file as: mv_functions_saves/2023-03-30 20:13:58.612800.py\n",
            "[NbConvertApp] Converting notebook mv_functions.ipynb to script\n",
            "[NbConvertApp] Writing 6951 bytes to mv_functions.py\n"
          ]
        }
      ],
      "source": [
        "#this code backs up the current mv_functions.py file and converts \n",
        "#mv_functions.ipynb into a new mv_functions.py.\n",
        "#lastly it deletes the lines containing itself from the file.\n",
        "\n",
        "os.chdir('/content/drive/MyDrive/coding/Python/Compendium')\n",
        "if os.path.exists('mv_functions.py'):\n",
        "  save_path = f'mv_functions_saves/{datetime.datetime.now()}.py'\n",
        "  shutil.copy('mv_functions.py', save_path)\n",
        "  print(f'saving old mv_functions file as: {save_path}')\n",
        "\n",
        "!jupyter nbconvert --to script mv_functions.ipynb\n",
        "\n",
        "with open('mv_functions.py', 'r') as file:\n",
        "    text = file.readlines()\n",
        "with open('mv_functions.py', 'w') as file:\n",
        "    file.write('#this file was created from mv_functions.ipynb using nbconvert\\n')\n",
        "    for line in text[0:-21]:  \n",
        "        file.write(line)"
      ]
    }
  ],
  "metadata": {
    "kernelspec": {
      "display_name": "Python 3",
      "language": "python",
      "name": "python3"
    },
    "language_info": {
      "codemirror_mode": {
        "name": "ipython",
        "version": 3
      },
      "file_extension": ".py",
      "mimetype": "text/x-python",
      "name": "python",
      "nbconvert_exporter": "python",
      "pygments_lexer": "ipython3",
      "version": "3.8.5"
    },
    "colab": {
      "provenance": [],
      "include_colab_link": true
    }
  },
  "nbformat": 4,
  "nbformat_minor": 0
}