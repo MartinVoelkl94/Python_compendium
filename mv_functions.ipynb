{
  "cells": [
    {
      "cell_type": "markdown",
      "metadata": {
        "id": "view-in-github",
        "colab_type": "text"
      },
      "source": [
        "<a href=\"https://colab.research.google.com/github/MartinVoelkl94/Python_compendium/blob/main/mv_functions.ipynb\" target=\"_parent\"><img src=\"https://colab.research.google.com/assets/colab-badge.svg\" alt=\"Open In Colab\"/></a>"
      ]
    },
    {
      "cell_type": "markdown",
      "metadata": {
        "id": "aEh9H_mViNsg"
      },
      "source": [
        "contains utility functions.\n",
        "\n",
        "mv_functions.ipynb is meant to be used for looking up, editing or adding functions while mv_functions.py is used to import functions to other scripts or notebooks (use 'import mv_functions as mv').\n",
        "\n",
        "The last cell of mv_functions.ipynb contains code that backs up the current mv_functions.py file and converts mv_functions.ipynb into a new mv_functions.py."
      ]
    },
    {
      "cell_type": "code",
      "execution_count": 44,
      "metadata": {
        "id": "ndcqlRcFiNsi"
      },
      "outputs": [],
      "source": [
        "import numpy as np\n",
        "import pandas as pd\n",
        "import types\n",
        "import time\n",
        "import shutil\n",
        "import os\n",
        "import sys\n",
        "import datetime\n",
        "from google.colab import drive"
      ]
    },
    {
      "cell_type": "code",
      "source": [
        "def tree(data, name='data', indent='|  '):\n",
        "    \"\"\"\n",
        "    gives a condensed overview of the content of an object\n",
        "    in a form resembling a folder tree.\n",
        "    \"\"\"\n",
        "    name = [name]\n",
        "    level = 0\n",
        "    _tree_check_type(data, name, level, indent)   \n",
        "    \n",
        "def _tree_check_type(current_data, name, level, indent):\n",
        "    #used by tree function function to check the type of current_data\n",
        "\n",
        "    indents = level*indent\n",
        "    current_data_name = ''.join(name)\n",
        "    \n",
        "    if isinstance(current_data, list):\n",
        "        print(f'{indents}list: {current_data_name}')\n",
        "        level += 1\n",
        "        _tree_open_list(current_data, name, level, indent)\n",
        "    \n",
        "    elif isinstance(current_data, dict):\n",
        "        print(f'{indents}dictionary: {current_data_name}')\n",
        "        level += 1\n",
        "        _tree_open_dict(current_data, name, level, indent)\n",
        "\n",
        "    elif isinstance(current_data, np.ndarray):\n",
        "        print(f'{indents}np.ndarray: {current_data_name}')\n",
        "        level += 1\n",
        "        _tree_open_np_ndarray(current_data, name, level, indent)\n",
        "    \n",
        "    elif isinstance(current_data, pd.core.frame.DataFrame):\n",
        "        print(f'{indents}dataframe: {current_data_name}')\n",
        "        level += 1\n",
        "        _tree_open_pd_dataframe(current_data, name, level, indent)\n",
        "    \n",
        "    else:\n",
        "        print(f'{indents}{str(type(current_data))[8:-2]}: {current_data_name}')\n",
        "\n",
        "\n",
        "def _tree_open_list(current_data, name, level, indent):\n",
        "    #used by tree function function to open dictionaries\n",
        "\n",
        "    counter = {}\n",
        "    for ind in range(len(current_data)):\n",
        "        if str(type(current_data[ind]))[8:-2] in counter.keys():\n",
        "            counter[str(type(current_data[ind]))[8:-2]] += 1\n",
        "        else:\n",
        "            counter[str(type(current_data[ind]))[8:-2]] = 1\n",
        "    \n",
        "    for key in counter.keys():\n",
        "        print(f'{level*indent}{key}: {counter[key]} times')\n",
        "\n",
        "\n",
        "def _tree_open_dict(current_data, name, level, indent):\n",
        "    #used by tree function to open dictionaries\n",
        "\n",
        "    for key in current_data.keys():\n",
        "        if isinstance(key, str):\n",
        "            name.append(f'[\"{key}\"]')\n",
        "        else:\n",
        "            name.append(f'[{str(key)}]')\n",
        "        _tree_check_type(current_data[key], name, level, indent)\n",
        "        name.pop()\n",
        "\n",
        "\n",
        "def _tree_open_np_ndarray(current_data, name, level, indent):\n",
        "    #used by tree function to open numpy ndarrays\n",
        "\n",
        "    current_data_name = ''.join(name)\n",
        "    \n",
        "    if current_data.shape[0] == 1:\n",
        "        cols = f'[0,0:{len(current_data[0,:])}]'\n",
        "        print(f'{level*indent}1 col: {current_data_name}[0,:]')\n",
        "        print(f'{level*indent}{len(current_data[0,:])} rows: {current_data_name}{cols}')\n",
        "        \n",
        "    elif current_data.shape[0] >= 2:\n",
        "        rows = f'[0:{len(current_data[:,0])},:]'\n",
        "        print(f'{level*indent}{len(current_data[:,0])} rows: {current_data_name}{rows}')\n",
        "        \n",
        "        cols = f'[:,0:{len(current_data[0,:])}]'\n",
        "        print(f'{level*indent}{len(current_data[0,:])} cols: {current_data_name}{cols}')\n",
        "        \n",
        "    else:\n",
        "        print(f'{level*indent}shape: {current_data.shape}')\n",
        "\n",
        "\n",
        "def _tree_open_pd_dataframe(current_data, name, level, indent):\n",
        "    #used by tree function to open pandas dataframes\n",
        "\n",
        "    for colname in list(current_data):\n",
        "        current_data_name = ''.join(name)\n",
        "        n_values = len(current_data[colname])\n",
        "        if isinstance(colname, str):\n",
        "            print(f'{level*indent}{n_values} values in:{current_data_name}[\"{colname}\"]')\n",
        "        else:\n",
        "            print(f'{level*indent}{n_values} values in: {current_data_name}[{colname}]')"
      ],
      "metadata": {
        "id": "a1rPDk3T01TW"
      },
      "execution_count": 45,
      "outputs": []
    },
    {
      "cell_type": "code",
      "execution_count": 48,
      "metadata": {
        "colab": {
          "base_uri": "https://localhost:8080/"
        },
        "id": "0ned15R0iNsr",
        "outputId": "bc0fc75e-5149-4fdf-f0bf-870ed9443839"
      },
      "outputs": [
        {
          "output_type": "stream",
          "name": "stdout",
          "text": [
            "[NbConvertApp] Converting notebook mv_functions.ipynb to script\n",
            "[NbConvertApp] Writing 4787 bytes to mv_functions.py\n"
          ]
        }
      ],
      "source": [
        "#this code backs up the current mv_functions.py file and converts \n",
        "#mv_functions.ipynb into a new mv_functions.py.\n",
        "#lastly it deletes the lines containing itself from the file.\n",
        "\n",
        "os.chdir('/content/drive/MyDrive/coding/Python/Compendium')\n",
        "if os.path.exists('mv_functions.py'):\n",
        "  save_path = f'mv_functions_saves/{datetime.datetime.now()}.py'\n",
        "  shutil.copy('mv_functions.py', save_path)\n",
        "  print(f'saving old mv_functions file as: {save_path}')\n",
        "\n",
        "!jupyter nbconvert --to script mv_functions.ipynb\n",
        "\n",
        "with open('mv_functions.py', 'r') as file:\n",
        "    text = file.readlines()\n",
        "with open('mv_functions.py', 'w') as file:\n",
        "    file.write('#this file was created from mv_functions.ipynb using nbconvert\\n')\n",
        "    for line in text[0:-21]:  \n",
        "        file.write(line)"
      ]
    }
  ],
  "metadata": {
    "kernelspec": {
      "display_name": "Python 3",
      "language": "python",
      "name": "python3"
    },
    "language_info": {
      "codemirror_mode": {
        "name": "ipython",
        "version": 3
      },
      "file_extension": ".py",
      "mimetype": "text/x-python",
      "name": "python",
      "nbconvert_exporter": "python",
      "pygments_lexer": "ipython3",
      "version": "3.8.5"
    },
    "colab": {
      "provenance": [],
      "include_colab_link": true
    }
  },
  "nbformat": 4,
  "nbformat_minor": 0
}